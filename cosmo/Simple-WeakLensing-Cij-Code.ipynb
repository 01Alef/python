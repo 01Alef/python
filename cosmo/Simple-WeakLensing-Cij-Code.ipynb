{
 "cells": [
  {
   "cell_type": "markdown",
   "metadata": {},
   "source": [
    "# Theory code example"
   ]
  },
  {
   "cell_type": "markdown",
   "metadata": {},
   "source": [
    "## Import CAMB"
   ]
  },
  {
   "cell_type": "markdown",
   "metadata": {},
   "source": [
    "\n",
    "### CAMB\n",
    "\n",
    ":CAMB: Code for Anisotropies in the Microwave Background\n",
    ":Author: Antony Lewis and Anthony Challinor\n",
    ":Homepage: https://camb.info/\n",
    "\n",
    "\n",
    "### Description and installation\n",
    "\n",
    "\n",
    "CAMB is a cosmology code for calculating cosmological observables, including\n",
    "CMB, lensing, source count and 21cm angular power spectra, matter power spectra, transfer functions\n",
    "and background evolution. The code is in Python, with numerical code implemented in fast modern Fortran.\n",
    "\n",
    "See the `CAMB python example notebook <https://camb.readthedocs.org/en/latest/CAMBdemo.html>`_ for a\n",
    "quick introduction to how to use the CAMB Python package.\n",
    "\n",
    "For a standard non-editable installation use::\n",
    "\n",
    "    pip install camb [--user]\n",
    "\n",
    "The --user is optional and only required if you don't have write permission to your main python installation.\n",
    "To install from source, clone from github using::\n",
    "\n",
    "    git clone --recursive https://github.com/cmbant/CAMB\n",
    "\n",
    "Then in the project source root directory use::\n",
    "\n",
    "    python setup.py install [--user]\n",
    "\n",
    "If you want to work on the code, you can also just install in place without copying anything using::\n",
    "\n",
    "    pip install -e . [--user]\n",
    "\n",
    "You will need gfortran 6 or higher installed to compile. Binary files for Windows are also provided, so these are used instead if no\n",
    "gfortran installation is found on Windows machines. If you have gfortran installed, \"python setup.py make\"\n",
    "(and other standard setup commands) will build the Fortran library on all systems (including Windows without directly using a Makefile).\n",
    "\n",
    "The python wrapper provides a module called \"camb\" documented in the `Python CAMB documentation <https://camb.readthedocs.io/en/latest/>`_.\n",
    "\n",
    "After installation you can also run CAMB from the command line reading parameters from a .ini file, e.g.::\n",
    "\n",
    "  camb inifiles/planck_2018.ini\n",
    "\n",
    "To compile the Fortran command-line code run \"make camb\" in the fortran directory. For full details\n",
    "see the  `ReadMe <https://camb.info/readme.html>`_."
   ]
  },
  {
   "cell_type": "code",
   "execution_count": 1,
   "metadata": {},
   "outputs": [
    {
     "name": "stdout",
     "output_type": "stream",
     "text": [
      "Using CAMB 1.0.5 installed at /local/home/scasas/anaconda2/envs/py37/lib/python3.7/site-packages/camb-1.0.5-py3.7.egg/camb\n"
     ]
    }
   ],
   "source": [
    "import os\n",
    "import sys\n",
    "from matplotlib import pyplot as plt\n",
    "from matplotlib.pyplot import cm\n",
    "import numpy as np\n",
    "\n",
    "import scipy\n",
    "from scipy import integrate\n",
    "from scipy import constants\n",
    "\n",
    "import camb\n",
    "from camb import model, initialpower\n",
    "print('Using CAMB %s installed at %s'%(camb.__version__,os.path.dirname(camb.__file__)))"
   ]
  },
  {
   "cell_type": "markdown",
   "metadata": {},
   "source": [
    "# Define the cosmological input parameters"
   ]
  },
  {
   "cell_type": "markdown",
   "metadata": {},
   "source": [
    "## Fundamental parameters (IST:F)"
   ]
  },
  {
   "cell_type": "code",
   "execution_count": 2,
   "metadata": {},
   "outputs": [
    {
     "data": {
      "text/plain": [
       "299792.458"
      ]
     },
     "execution_count": 2,
     "metadata": {},
     "output_type": "execute_result"
    }
   ],
   "source": [
    "c_light = scipy.constants.c / 1000 ## in km/s\n",
    "c_light"
   ]
  },
  {
   "cell_type": "code",
   "execution_count": 3,
   "metadata": {},
   "outputs": [],
   "source": [
    "hubble=0.67\n",
    "omegab=0.05\n",
    "omegam=0.32\n",
    "A_s=2.12605e-9\n",
    "n_s = 0.96\n",
    "gamma=0.55\n",
    "m_nu=0.06 #eV, default CAMB -> 1 massive neutrino, N_eff=3.046, degenerate, nnu=3.046, TCMB=2.7255\n",
    "w_0 = -1 #LCDM\n",
    "w_a = 0 #LCDM"
   ]
  },
  {
   "cell_type": "markdown",
   "metadata": {},
   "source": [
    "## Output, numerical and method parameters"
   ]
  },
  {
   "cell_type": "code",
   "execution_count": 99,
   "metadata": {},
   "outputs": [],
   "source": [
    "## wanted redshifts\n",
    "z_list = [0., 0.5, 1.0]\n",
    "## maximum k in Pk\n",
    "k_max = 3.0\n",
    "## nonlinear Pk fitting formula version:\n",
    "halofit_formula = 'takahashi'"
   ]
  },
  {
   "cell_type": "markdown",
   "metadata": {},
   "source": [
    "## Derived parameters"
   ]
  },
  {
   "cell_type": "code",
   "execution_count": 100,
   "metadata": {},
   "outputs": [],
   "source": [
    "omegac=omegam-omegab\n",
    "omegach2 = omegac*hubble**2\n",
    "omegabh2 = omegab*hubble**2\n",
    "H_0 = 100*hubble"
   ]
  },
  {
   "cell_type": "code",
   "execution_count": 101,
   "metadata": {},
   "outputs": [],
   "source": [
    "pars = camb.CAMBparams()"
   ]
  },
  {
   "cell_type": "markdown",
   "metadata": {},
   "source": [
    "### Background parameters"
   ]
  },
  {
   "cell_type": "code",
   "execution_count": 102,
   "metadata": {},
   "outputs": [],
   "source": [
    "pars.set_cosmology(H0=H_0, ombh2=omegabh2, omch2=omegach2, mnu=m_nu)\n",
    "pars.set_dark_energy(w=w_0, wa=w_a);"
   ]
  },
  {
   "cell_type": "markdown",
   "metadata": {},
   "source": [
    "### Power spectra parameters"
   ]
  },
  {
   "cell_type": "code",
   "execution_count": 103,
   "metadata": {},
   "outputs": [
    {
     "name": "stdout",
     "output_type": "stream",
     "text": [
      "Note: redshifts have been re-sorted (earliest first)\n"
     ]
    }
   ],
   "source": [
    "pars.InitPower.set_params(As=A_s, ns=n_s) ;\n",
    "pars.set_matter_power(redshifts=z_list, kmax=k_max);"
   ]
  },
  {
   "cell_type": "markdown",
   "metadata": {},
   "source": [
    "## CAMB results"
   ]
  },
  {
   "cell_type": "code",
   "execution_count": 104,
   "metadata": {},
   "outputs": [],
   "source": [
    "results = camb.get_results(pars)"
   ]
  },
  {
   "cell_type": "code",
   "execution_count": 105,
   "metadata": {},
   "outputs": [
    {
     "data": {
      "text/plain": [
       "array([0.49537748, 0.62809512, 0.8182003 ])"
      ]
     },
     "execution_count": 105,
     "metadata": {},
     "output_type": "execute_result"
    }
   ],
   "source": [
    "s8_of_z = np.array(results.get_sigma8())\n",
    "s8_of_z"
   ]
  },
  {
   "cell_type": "markdown",
   "metadata": {},
   "source": [
    "### Use nonlinear power spectra"
   ]
  },
  {
   "cell_type": "code",
   "execution_count": 106,
   "metadata": {},
   "outputs": [],
   "source": [
    "pars.NonLinear = camb.model.NonLinear_both   # use NonLinear_none for linear"
   ]
  },
  {
   "cell_type": "code",
   "execution_count": 107,
   "metadata": {},
   "outputs": [],
   "source": [
    "pars.NonLinearModel.set_params(halofit_version=halofit_formula)"
   ]
  },
  {
   "cell_type": "markdown",
   "metadata": {},
   "source": [
    "## Get Power spectra"
   ]
  },
  {
   "cell_type": "code",
   "execution_count": 108,
   "metadata": {},
   "outputs": [],
   "source": [
    "results.calc_power_spectra(pars)"
   ]
  },
  {
   "cell_type": "code",
   "execution_count": 109,
   "metadata": {},
   "outputs": [],
   "source": [
    "kh, z, pk = results.get_matter_power_spectrum(minkh=1e-4, maxkh=k_max, npoints = 500)"
   ]
  },
  {
   "cell_type": "code",
   "execution_count": 110,
   "metadata": {},
   "outputs": [
    {
     "data": {
      "image/png": "[encoded data removed]",
      "text/plain": [
       "<Figure size 432x288 with 1 Axes>"
      ]
     },
     "metadata": {
      "needs_background": "light"
     },
     "output_type": "display_data"
    }
   ],
   "source": [
    "color_list = cm.cool( np.linspace(0.,1.0, len(z)+1 ) )\n",
    "color_iter=iter(color_list)\n",
    "for pkk, zz in zip(pk,z):\n",
    "    c = next(color_iter)\n",
    "    plt.loglog(kh, pkk, color=c, ls = '--', label='z='+'{:.2f}'.format(zz))\n",
    "    \n",
    "plt.xlabel(\"$k \\, \\mathrm{[h/Mpc]}$\")\n",
    "plt.ylabel(\"$P(k) \\, \\mathrm{[Mpc^3/h^3]}$\")\n",
    "plt.legend(loc='lower left');\n",
    "#plt.title('Matter power at z=%s and z= %s'%tuple(z));"
   ]
  },
  {
   "cell_type": "code",
   "execution_count": 111,
   "metadata": {},
   "outputs": [],
   "source": [
    "PK = camb.get_matter_power_interpolator(pars, hubble_units=True, k_hunit=True, log_interp=False)"
   ]
  },
  {
   "cell_type": "code",
   "execution_count": 120,
   "metadata": {},
   "outputs": [
    {
     "data": {
      "image/png": "[encoded data removed]",
      "text/plain": [
       "<Figure size 432x288 with 1 Axes>"
      ]
     },
     "metadata": {
      "needs_background": "light"
     },
     "output_type": "display_data"
    }
   ],
   "source": [
    "color_list = cm.cool( np.linspace(0.,1.0, 2*(len(z)+1) ) )\n",
    "color_iter=iter(color_list)\n",
    "for pkk, zz in zip(pk,z):\n",
    "    c = next(color_iter)\n",
    "    plt.loglog(kh, pkk, color=c, ls = '--', label='z='+'{:.2f}'.format(zz))\n",
    "    c = next(color_iter)\n",
    "    plt.loglog(kh, PK.P(zz, kh), 'o', color=c, ls = '-', label='z='+'{:.2f}'.format(zz), ms=0.8, alpha=0.2)\n",
    "    \n",
    "    \n",
    "plt.xlabel(\"$k \\, \\mathrm{[h/Mpc]}$\")\n",
    "plt.ylabel(\"$P(k) \\, \\mathrm{[Mpc^3/h^3]}$\")\n",
    "plt.legend(loc='lower left');\n",
    "#plt.title('Matter power at z=%s and z= %s'%tuple(z));"
   ]
  },
  {
   "cell_type": "markdown",
   "metadata": {},
   "source": [
    "# Calculate shear-shear $C_{ij}(\\ell)$"
   ]
  },
  {
   "cell_type": "markdown",
   "metadata": {},
   "source": [
    "The cosmic shear angular power spectrum under the Limber approximation, has the form:\n",
    "$$  C_{ij}(\\ell) = \\frac{c}{H_0} \\int \\mathrm{d}z \\frac{W_i^\\gamma (z) W_j^\\gamma (z)}{ E(z) r^2(z)}   P_{\\delta \\delta} \\big[  \\frac{\\ell + 1/2}{r(z)} , z \\big]$$"
   ]
  },
  {
   "cell_type": "markdown",
   "metadata": {},
   "source": [
    "With the dimensionless Hubble function defined as $$ E(z) = H(z)/H_0 \\,\\, ,$$\n",
    "which for $\\Lambda$CDM can be written as\n",
    "$$\n",
    "E(z)=\\sqrt{\\Omega_{\\text{m},0} \\left(1+z\\right)^3 + \\Omega_{\\mathrm{DE},0}\\left(1+z\\right)^{3\\left(1+w_0+w_a\\right)}\\exp\\left[-3w_a\\frac{z}{1+z}\\right] \n",
    "+ \\Omega_{K,0} \\left(1+z\\right)^2}\\,\n",
    "$$\n",
    "The comoving distance is defined as\n",
    "$$ r(z) = \\frac{c}{H_0} \\int_0^z \\frac{\\mathrm{d}z}{E(z)}$$\n",
    "$P_{\\delta\\delta}$ is the matter power spectrum and $W^\\gamma_i$ are the window functions, which under the Limber approximation, are\n",
    "\n",
    "$$ W^{\\gamma}_{i}(z) = \\frac{3 H_0}{2 c} \\Omega_{{\\rm m},0}(1 + z) \\tilde{r}(z)\\int_{z}^{z_{\\rm max}}\\mathrm d z^{\\prime}\\,n_i(z^{\\prime})\\left[ 1 - \\frac{\\tilde{r}(z)}{\\tilde{r}(z^{\\prime})} \\right] \\,\\, ,$$\n",
    "with $\\tilde{r}(z) $ the dimensionless comoving distance $\\tilde{r}(z) = r(z)/(c/H_0)$."
   ]
  },
  {
   "cell_type": "markdown",
   "metadata": {},
   "source": [
    "For the purpose of this example we will take an idealized, perfect galaxy number density distribution\n",
    "$$  n(z) = \\big(\\frac{z}{z_0}\\big)^2 \\exp \\big[ - \\big(\\frac{z}{z_0}\\big)^{3/2}\\big] \\,\\, ,$$\n",
    "with $z_0 = 0.9/\\sqrt{2}$."
   ]
  },
  {
   "cell_type": "markdown",
   "metadata": {},
   "source": [
    "The $z_{max}$ of the survey is $z_{max}=2.5$ and we will take the following redshift bins:\n",
    "$$ z_{i} = \\{0.001, 0.418, 0.560, 0.678, 0.789, 0.900, 1.019, 1.155, 1.324, 1.576, 2.50\\} $$"
   ]
  },
  {
   "cell_type": "markdown",
   "metadata": {},
   "source": [
    "In this way the binned $n_i(z)$ is simply\n",
    "$$ n_i(z) = \\begin{cases}\n",
    "n(z), \\,\\,z_i < z < z_{i+1}\\\\\n",
    "0, \\,\\, z_{i+1} < z < z_i , \\\\\n",
    "\\end{cases}\n",
    "$$"
   ]
  },
  {
   "cell_type": "markdown",
   "metadata": {},
   "source": [
    "## Dimensionless Hubble function"
   ]
  },
  {
   "cell_type": "code",
   "execution_count": 15,
   "metadata": {},
   "outputs": [],
   "source": [
    "def E_of_z(zz):\n",
    "    h_of_z_phys = results.h_of_z(zz)*c_light ## H(z) in km/s/Mpc  #CAMB's H(z) is in 1/Mpc\n",
    "    return h_of_z_phys/pars.H0"
   ]
  },
  {
   "cell_type": "code",
   "execution_count": 16,
   "metadata": {},
   "outputs": [
    {
     "data": {
      "text/plain": [
       "Text(0, 0.5, '$E(z)$')"
      ]
     },
     "execution_count": 16,
     "metadata": {},
     "output_type": "execute_result"
    },
    {
     "data": {
      "image/png": "[encoded data removed]",
      "text/plain": [
       "<Figure size 432x288 with 1 Axes>"
      ]
     },
     "metadata": {
      "needs_background": "light"
     },
     "output_type": "display_data"
    }
   ],
   "source": [
    "zz = np.linspace(0.,3.)\n",
    "plt.plot(zz, E_of_z(zz))\n",
    "plt.xlabel(\"$z$\")\n",
    "plt.ylabel(\"$E(z)$\")"
   ]
  },
  {
   "cell_type": "markdown",
   "metadata": {},
   "source": [
    "## Comoving distance"
   ]
  },
  {
   "cell_type": "code",
   "execution_count": 17,
   "metadata": {},
   "outputs": [],
   "source": [
    "#Define the comoving distance\n",
    "def drdz(zp):\n",
    "    return (c_light/pars.H0)/E_of_z(zp)\n",
    "def rcom(zc):\n",
    "    return scipy.integrate.romberg(drdz,0.,zc)\n",
    "rcom_vec = np.vectorize(rcom)\n",
    "def rcom_tilde(zc):\n",
    "    return rcom_vec(zc)/(c_light/pars.H0)"
   ]
  },
  {
   "cell_type": "code",
   "execution_count": 18,
   "metadata": {},
   "outputs": [
    {
     "data": {
      "text/plain": [
       "Text(0, 0.5, '$r(z)$')"
      ]
     },
     "execution_count": 18,
     "metadata": {},
     "output_type": "execute_result"
    },
    {
     "data": {
      "image/png": "[encoded data removed]",
      "text/plain": [
       "<Figure size 432x288 with 1 Axes>"
      ]
     },
     "metadata": {
      "needs_background": "light"
     },
     "output_type": "display_data"
    }
   ],
   "source": [
    "zz = np.linspace(0.,3.)\n",
    "\n",
    "plt.plot(zz, rcom_tilde(zz))\n",
    "plt.xlabel(\"$z$\")\n",
    "plt.ylabel(\"$r(z)$\")"
   ]
  },
  {
   "cell_type": "markdown",
   "metadata": {},
   "source": [
    "## Galaxy number density in bins"
   ]
  },
  {
   "cell_type": "markdown",
   "metadata": {},
   "source": [
    "We take predefined equi-populated redshift bins from the Euclid IST:F specifications. In reality these numbers have to be computed given an $n(z)$  and a $p_{ph}(z_p | z)$ for the photometry."
   ]
  },
  {
   "cell_type": "code",
   "execution_count": 19,
   "metadata": {},
   "outputs": [
    {
     "name": "stdout",
     "output_type": "stream",
     "text": [
      "z_max survey:  2.5 ,  z_min survey:  0.001\n"
     ]
    }
   ],
   "source": [
    "z_bins = np.array([0.001, 0.418, 0.560, 0.678, 0.789, 0.900, 1.019, 1.155, 1.324, 1.576, 2.50])\n",
    "z_max = z_bins[-1]\n",
    "z_min = z_bins[0]\n",
    "print(\"z_max survey: \", z_max, \",  z_min survey: \", z_min)"
   ]
  },
  {
   "cell_type": "code",
   "execution_count": 20,
   "metadata": {},
   "outputs": [
    {
     "data": {
      "text/plain": [
       "11"
      ]
     },
     "execution_count": 20,
     "metadata": {},
     "output_type": "execute_result"
    }
   ],
   "source": [
    "len(z_bins)"
   ]
  },
  {
   "cell_type": "code",
   "execution_count": 21,
   "metadata": {},
   "outputs": [],
   "source": [
    "def n_of_z(zz, z0=0.9/np.sqrt(2)):\n",
    "    pref = zz/z0\n",
    "    nn = pref**2 * np.exp(-pref**(3/2))\n",
    "    return nn"
   ]
  },
  {
   "cell_type": "code",
   "execution_count": 22,
   "metadata": {},
   "outputs": [],
   "source": [
    "n_norm = scipy.integrate.romberg(n_of_z,0.,z_max)\n",
    "def norm_n_of_z(zz):\n",
    "    return n_of_z(zz)/n_norm"
   ]
  },
  {
   "cell_type": "code",
   "execution_count": 23,
   "metadata": {},
   "outputs": [],
   "source": [
    "def n_i(zz, ii):\n",
    "    if ii==0 or ii >= 11:\n",
    "        return None\n",
    "    if zz <= z_bins[ii] and zz >= z_bins[ii-1]:\n",
    "        return norm_n_of_z(zz)\n",
    "    else:\n",
    "        return 0\n",
    "\n",
    "n_i_vec = np.vectorize(n_i)"
   ]
  },
  {
   "cell_type": "markdown",
   "metadata": {},
   "source": [
    "## Window function"
   ]
  },
  {
   "cell_type": "code",
   "execution_count": 24,
   "metadata": {},
   "outputs": [],
   "source": [
    "def window_integrand_2(zz, ii):\n",
    "    w2n = n_i(zz, ii)/rcom_tilde(zz)\n",
    "    return w2n\n",
    "\n",
    "window_integrand_2_vec = np.vectorize(window_integrand_2)"
   ]
  },
  {
   "cell_type": "code",
   "execution_count": 37,
   "metadata": {},
   "outputs": [],
   "source": [
    "def W_gamma(zz, ii):\n",
    "    h0 = pars.H0\n",
    "    Om = pars.omegam\n",
    "    prefac = (3/2)*(h0/c_light)*Om*(1+zz)*rcom_tilde(zz)\n",
    "    ni = lambda za : n_i(za, ii)\n",
    "    int1 = scipy.integrate.romberg(ni, zz, z_max, divmax=20, tol=1e-4)\n",
    "    w2 = lambda za : window_integrand_2(za, ii)\n",
    "    int2 = rcom_tilde(zz) * scipy.integrate.romberg(w2, zz, z_max, divmax=15, tol=1e-4)\n",
    "    total = prefac*(int1-int2)\n",
    "    return total\n",
    "W_gamma_vec = np.vectorize(W_gamma)"
   ]
  },
  {
   "cell_type": "code",
   "execution_count": 43,
   "metadata": {},
   "outputs": [],
   "source": [
    "# long computation, uncomment if you have 5min or more to wait for the result\n",
    "#zarr= np.linspace(0.01,3,100)\n",
    "#color_list = cm.cool( np.linspace(0.,1.0, len(z_bins)+1 ) )\n",
    "#color_iter=iter(color_list)\n",
    "#for iii in np.arange(1,len(z_bins)):\n",
    "#    c = next(color_iter)\n",
    "#    Win = W_gamma_vec(zarr, iii)\n",
    "#    plt.plot(zarr, Win, '-', c=c)"
   ]
  },
  {
   "cell_type": "code",
   "execution_count": null,
   "metadata": {},
   "outputs": [],
   "source": []
  },
  {
   "cell_type": "markdown",
   "metadata": {},
   "source": [
    "## Shear-Shear $C_{ij}$ function"
   ]
  },
  {
   "cell_type": "code",
   "execution_count": 123,
   "metadata": {},
   "outputs": [],
   "source": [
    "def Cij_gg_integrand(zz, ell, i, j):\n",
    "    h0 = pars.H0\n",
    "    term1 = (c_light/h0)*(1/ (E_of_z(zz)*(rcom_vec(zz))**2))\n",
    "    WW = W_gamma_vec(zz,i)*W_gamma_vec(zz,j)\n",
    "    kell = (ell+0.5)/rcom_vec(zz)\n",
    "    Pterm = PK.P(zz, kell)\n",
    "    return term1*WW*Pterm"
   ]
  },
  {
   "cell_type": "code",
   "execution_count": 130,
   "metadata": {},
   "outputs": [
    {
     "data": {
      "text/plain": [
       "2.0023231956028073e-13"
      ]
     },
     "execution_count": 130,
     "metadata": {},
     "output_type": "execute_result"
    }
   ],
   "source": [
    "Cij_gg_integrand(0.5, 10, 2, 2)"
   ]
  },
  {
   "cell_type": "code",
   "execution_count": null,
   "metadata": {},
   "outputs": [],
   "source": []
  }
 ],
 "metadata": {
  "hide_input": false,
  "kernelspec": {
   "display_name": "Python py37",
   "language": "python",
   "name": "py37"
  },
  "language_info": {
   "codemirror_mode": {
    "name": "ipython",
    "version": 3
   },
   "file_extension": ".py",
   "mimetype": "text/x-python",
   "name": "python",
   "nbconvert_exporter": "python",
   "pygments_lexer": "ipython3",
   "version": "3.7.1"
  },
  "toc": {
   "base_numbering": 1,
   "nav_menu": {},
   "number_sections": true,
   "sideBar": true,
   "skip_h1_title": false,
   "title_cell": "Table of Contents",
   "title_sidebar": "Contents",
   "toc_cell": false,
   "toc_position": {},
   "toc_section_display": true,
   "toc_window_display": false
  }
 },
 "nbformat": 4,
 "nbformat_minor": 2
}

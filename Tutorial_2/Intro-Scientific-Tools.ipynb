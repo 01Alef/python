{
 "cells": [
  {
   "cell_type": "markdown",
   "metadata": {},
   "source": [
    "# Introduction to Python Scientific Tools\n",
    "## Intermediate and Advanced Topics\n",
    "\n",
    "by <a href=\"http://www.cosmostat.org/people/santiago-casas\" target=\"_blank\">Santiago Casas</a>\n",
    "\n",
    "<img src=\"https://fabienmaussion.info/acinn_python_workshop/figures/scipy_ecosystem.png\" alt=\"Scientific Tools\" width=\"600\">\n",
    "\n",
    "\n",
    "\n",
    "## Contents\n",
    "\n",
    "1. [Pythonic Thinking](./Pythonic.ipynb)\n",
    "\n",
    "1. [Numpy](./Numpy-Advanced.ipynb)\n",
    "\n",
    "1. [Pandas](./Pandas.ipynb)\n",
    "\n",
    "1. [Scipy-Cosmo](./Scipy-Matplotlib-Cosmo.ipynb)\n",
    "\n",
    "1. [Anwers to Exercises](./Answers-to-exercises-2.ipynb)"
   ]
  },
  {
   "cell_type": "code",
   "execution_count": null,
   "metadata": {},
   "outputs": [],
   "source": []
  }
 ],
 "metadata": {
  "hide_input": false,
  "kernelspec": {
   "display_name": "Python 3",
   "language": "python",
   "name": "python3"
  },
  "language_info": {
   "codemirror_mode": {
    "name": "ipython",
    "version": 3
   },
   "file_extension": ".py",
   "mimetype": "text/x-python",
   "name": "python",
   "nbconvert_exporter": "python",
   "pygments_lexer": "ipython3",
   "version": "3.7.1"
  },
  "toc": {
   "base_numbering": 1,
   "nav_menu": {},
   "number_sections": true,
   "sideBar": true,
   "skip_h1_title": false,
   "title_cell": "Table of Contents",
   "title_sidebar": "Contents",
   "toc_cell": false,
   "toc_position": {},
   "toc_section_display": true,
   "toc_window_display": false
  }
 },
 "nbformat": 4,
 "nbformat_minor": 1
}

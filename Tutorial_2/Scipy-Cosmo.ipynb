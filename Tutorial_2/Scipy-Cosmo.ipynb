{
 "cells": [
  {
   "cell_type": "markdown",
   "metadata": {},
   "source": [
    "<a href=\"http://www.cosmostat.org/\" target=\"_blank\"><img align=\"left\" width=\"300\" src=\"http://www.cosmostat.org/wp-content/uploads/2017/07/CosmoStat-Logo_WhiteBK-e1499155861666.png\" alt=\"CosmoStat Logo\"></a>\n",
    "<br>\n",
    "<br>\n",
    "<br>\n",
    "<br>\n",
    "\n",
    "# Scipy, Matplotlib and useful tricks applied to Cosmology\n",
    "\n",
    "---\n",
    "\n",
    "> Author: <a href=\"http://www.cosmostat.org/people/santiago-casas\" target=\"_blank\" style=\"text-decoration:none; color: #F08080\">Santiago Casas</a>\n",
    "\n",
    "> Email: <a href=\"mailto:santiago.casas@cea.fr\" style=\"text-decoration:none; color: #F08080\">santiago.casas@cea.fr</a>  \n",
    "> Year: 2019  \n",
    "> Version: 1.0\n",
    "\n",
    "\n",
    "---\n",
    "<br>"
   ]
  },
  {
   "cell_type": "markdown",
   "metadata": {},
   "source": [
    "## Let's import some useful libraries"
   ]
  },
  {
   "cell_type": "code",
   "execution_count": null,
   "metadata": {},
   "outputs": [],
   "source": [
    "# Tell Jupyter to display plots in this notebook.\n",
    "%matplotlib inline\n",
    "##\n",
    "import numpy as np #numpy for arrays and numerics\n",
    "import pandas as pd  #pandas for working with ordered datasets\n",
    "import scipy as sci  # for scientific functions\n",
    "from scipy import interpolate  #for interpolation\n",
    "from scipy import integrate  #for integration\n",
    "import matplotlib.pyplot as plt  # for plotting\n",
    "# Import interaction module.\n",
    "from ipywidgets.widgets import *\n"
   ]
  },
  {
   "cell_type": "markdown",
   "metadata": {},
   "source": [
    "> In this tutorial we will do some basic cosmology use functions, dictionaries, numpy arrays, matplotlib and scipy, to illustrate some of the common tools used by researchers in their everyday life."
   ]
  },
  {
   "cell_type": "markdown",
   "metadata": {},
   "source": [
    "# Cosmological redshift: easy plots"
   ]
  },
  {
   "cell_type": "markdown",
   "metadata": {},
   "source": [
    "The cosmological redshift we observe in galaxies (their spectral lines move towards larger wavelengths) $z$ is related to the relative size of the observable Universe $a$, by $$a = \\frac{1}{1+z}$$ \n",
    "\n",
    "This can be obtained from the fact that light travels in null-geodesics, since it is described as a relativistic particle."
   ]
  },
  {
   "cell_type": "markdown",
   "metadata": {},
   "source": [
    "> Let's code this in a simple function"
   ]
  },
  {
   "cell_type": "code",
   "execution_count": null,
   "metadata": {},
   "outputs": [],
   "source": [
    "def a_of_z(z):\n",
    "    a=1/(1+z)\n",
    "    return a "
   ]
  },
  {
   "cell_type": "code",
   "execution_count": null,
   "metadata": {},
   "outputs": [],
   "source": [
    "z_arr = np.linspace(0.001,3, 100)"
   ]
  },
  {
   "cell_type": "code",
   "execution_count": null,
   "metadata": {},
   "outputs": [],
   "source": [
    "a_arr = a_of_z(z_arr)"
   ]
  },
  {
   "cell_type": "code",
   "execution_count": null,
   "metadata": {},
   "outputs": [],
   "source": [
    "a_arr.shape"
   ]
  },
  {
   "cell_type": "markdown",
   "metadata": {},
   "source": [
    "We can plot this using matplotlib's function `plot`, which takes an `x` and a `y` array as arguments, a format argument `fmt = '[marker][line][color]'` and many other optional keyword arguments, like `color`, linestyle, opacity and many more. Available markers, such as `o` for circles, `-.` for dot-dashed linestyles and `'r'` for colors can be checked in the <a href=\"https://matplotlib.org/api/_as_gen/matplotlib.pyplot.plot.html#matplotlib.pyplot.plot\" target=\"_blank\" >documentation</a> ."
   ]
  },
  {
   "cell_type": "code",
   "execution_count": null,
   "metadata": {},
   "outputs": [],
   "source": [
    "plt.plot(z_arr, a_arr)\n",
    "plt.show()"
   ]
  },
  {
   "cell_type": "markdown",
   "metadata": {},
   "source": [
    "For plots in log-log space, we can use `plt.loglog`. And it is always better to start the plot with a figure creation, since it simplifies exporting and adjustments later on."
   ]
  },
  {
   "cell_type": "code",
   "execution_count": null,
   "metadata": {
    "scrolled": true
   },
   "outputs": [],
   "source": [
    "fig = plt.figure()\n",
    "#Let's add some color and linestyle, r for red and a label for the curve.\n",
    "plt.loglog(z_arr, a_arr, '-.r', label='$a(z)$')  #notice how you can use LaTeX here\n",
    "#Let's add a plot title\n",
    "plt.title(\"Redshift\")\n",
    "#Let's add a legend\n",
    "plt.legend()\n",
    "#Let's add an x-label, with some font-size\n",
    "plt.xlabel(\"z\", fontsize=15)\n",
    "# and a y-label, rotated by 90 degrees (which is the default in this case anyway)\n",
    "plt.ylabel(\"a\", rotation=90, fontsize=15)   \n",
    "plt.show()"
   ]
  },
  {
   "cell_type": "markdown",
   "metadata": {},
   "source": [
    "# The Hubble function: working with dictionaries and optional parameters"
   ]
  },
  {
   "cell_type": "markdown",
   "metadata": {},
   "source": [
    "The Hubble function $H(z)$ can be found solving Einstein's field equations of General Relativity under the Friedmann-Lemaître-Robertson-Walker metric, i.e. under the assumption of homogeneity and isotropy. It describes the expansion rate (speed) of an observable Universe of size a, $H(a) = \\dot{a}/a$."
   ]
  },
  {
   "cell_type": "markdown",
   "metadata": {},
   "source": [
    "<a href=\"\" target=\"_blank\"><img align=\"center\" width=\"300\" src=\"./materials/planck_cosmic_pie.jpg\" alt=\"Cosmic Pie\"></a>"
   ]
  },
  {
   "cell_type": "markdown",
   "metadata": {},
   "source": [
    "If we know the energy and matter components of the Universe today:\n",
    "   * Cold Dark Matter density $\\Omega_c$ \n",
    "   * Baryonic (normal) matter density $\\Omega_b$\n",
    "   * Radiation density $\\Omega_r$\n",
    "we can write down the Hubble function as:\n",
    "$$ H(z) = H_0  \\sqrt{(\\Omega_c(1+z)^3 + \\Omega_b(1+z)^3) + \\Omega_r(1+z)^4 + \\Omega_{\\Lambda}}$$"
   ]
  },
  {
   "cell_type": "markdown",
   "metadata": {},
   "source": [
    "where this mysterious component $\\Omega_{\\Lambda}$, is what we think is causing the accelerated expansion of the Universe and we think it comes from a *Cosmological constant*. In the general case where we are looking for alternatives to the cosmological constant, we call it also \"Dark Energy\", for the lack of a better name."
   ]
  },
  {
   "cell_type": "markdown",
   "metadata": {},
   "source": [
    "If the Universe is flat, then $\\Omega_{\\Lambda}$ is defined by whatever we can't observe and it's simply given by: $$ \\Omega_{\\Lambda} = 1 - \\Omega_c - \\Omega_b - \\Omega_r $$"
   ]
  },
  {
   "cell_type": "markdown",
   "metadata": {},
   "source": [
    "> Let's code first this constraint:"
   ]
  },
  {
   "cell_type": "code",
   "execution_count": null,
   "metadata": {},
   "outputs": [],
   "source": [
    "def Omega_L(Omega_c, Omega_b, Omega_r):\n",
    "    oL = 1 - Omega_c - Omega_b - Omega_r\n",
    "    return oL"
   ]
  },
  {
   "cell_type": "markdown",
   "metadata": {},
   "source": [
    "> Now let's write a function for $H(z)$. If you still don't know or haven't asked, $H_0$ is the rate of expansion of the universe today and it is measured in km/s/Mpc. Its value can be inferred in many ways, from the Cosmic Microwave Background, from Gravitational Lensing or by measuring the distance to Supernovae. Currently it is a <a href=\"https://astrobites.org/2019/07/12/h0ly-cow-a-new-measurement-of-the-hubble-constant/\" target=\"_blank\" >hot topic</a> in cosmology, since there are strong tensions in measurements from different probes.\n",
    "A value of $70$ km/s/Mpc, means that a galaxy at a distance of $1$Mpc from us, moves away from us at a speed of $70$km/s."
   ]
  },
  {
   "cell_type": "markdown",
   "metadata": {},
   "source": [
    "> To be fancy and practice some dictionary techniques, let's avoid defining so many arguments in the function and let's just pass a dictionary instead, that contains the cosmological parameters."
   ]
  },
  {
   "cell_type": "markdown",
   "metadata": {},
   "source": [
    "> This function will return default parameters when nothing is passed and can return either all the cosmological parameters or a single one."
   ]
  },
  {
   "cell_type": "code",
   "execution_count": null,
   "metadata": {},
   "outputs": [],
   "source": [
    "def cosmological_parameters(cosmo_pars=dict(), which='all'):\n",
    "    H0 = cosmo_pars.get('H0', 67.32)  # Planck 2018 cosmological parameters as default\n",
    "    Oc = cosmo_pars.get('Omega_c', 0.26641)\n",
    "    Ob = cosmo_pars.get('Omega_b', 0.04939)\n",
    "    Or = cosmo_pars.get('Omega_r', 0.0000930479)\n",
    "    Om = Ob+Oc\n",
    "    OL = Omega_L(Oc, Ob, Or)\n",
    "    default_dict = {'Omega_b': Ob, \n",
    "                    'Omega_c':Oc,\n",
    "                     'Omega_m': Om,\n",
    "                      'Omega_r':Or,\n",
    "                       'Omega_L':OL,\n",
    "                        'H0':H0}\n",
    "    if which=='all':\n",
    "        return H0, Oc, Ob, Or, Om, OL\n",
    "    else:                               # this code is prone to bugs if which is not a string or not a parameter\n",
    "        return default_dict[which]"
   ]
  },
  {
   "cell_type": "code",
   "execution_count": null,
   "metadata": {},
   "outputs": [],
   "source": [
    "cosmological_parameters()"
   ]
  },
  {
   "cell_type": "code",
   "execution_count": null,
   "metadata": {},
   "outputs": [],
   "source": [
    "cosmological_parameters(which='Omega_m')"
   ]
  },
  {
   "cell_type": "markdown",
   "metadata": {},
   "source": [
    "> Here we have used `dict.get()` instead of `dict['key']`, since `get('key', default)` allows us to define default values in case the keys are not present in the dictionary. And we have created a keyword argument for cosmo_pars, so we can evaluate $H(z)$ with a single redshift argument:"
   ]
  },
  {
   "cell_type": "code",
   "execution_count": null,
   "metadata": {},
   "outputs": [],
   "source": [
    "def Hubble(z, cosmo_pars=dict()):\n",
    "    H0, Oc, Ob, Or, Om, OL = cosmological_parameters(cosmo_pars)\n",
    "    H = H0 * np.sqrt(Om*(1+z)**3 + Or*(1+z)**4 + OL)\n",
    "    return H"
   ]
  },
  {
   "cell_type": "code",
   "execution_count": null,
   "metadata": {},
   "outputs": [],
   "source": [
    "# Notice how we recover the default H_0 when we evaluate at z=0.\n",
    "Hubble(0.)"
   ]
  },
  {
   "cell_type": "code",
   "execution_count": null,
   "metadata": {},
   "outputs": [],
   "source": [
    "#Or how we recover another H0 that we passed as dictionary \n",
    "Hubble(0., {'H0':73})"
   ]
  },
  {
   "cell_type": "markdown",
   "metadata": {},
   "source": [
    "Let's define a dictionary of cosmological parameters"
   ]
  },
  {
   "cell_type": "code",
   "execution_count": null,
   "metadata": {},
   "outputs": [],
   "source": [
    "mycosmo = {'H0': 72, \n",
    "          'Omega_c':0.32,\n",
    "          'Omega_b':0.05}"
   ]
  },
  {
   "cell_type": "code",
   "execution_count": null,
   "metadata": {},
   "outputs": [],
   "source": [
    "# Now we get the H_0 we actually provided\n",
    "Hubble(0., mycosmo)"
   ]
  },
  {
   "cell_type": "markdown",
   "metadata": {},
   "source": [
    "> **Exercise 1**: Plot the Hubble function $H(z)$, for a newly created cosmology of your choice, next to `mycosmo` and the default Planck cosmology, using the colors `red`, `green` and `blue`, respectively. Change also the line styles (`'--', or '-' or ':'`) (You can use the `fmt` keywords or the `color` optional argument). Use a range in redshift from 0. to 10. Use linear scales for the plot `plot`. Hint: Copy as much as possible from the plotting code above."
   ]
  },
  {
   "cell_type": "markdown",
   "metadata": {},
   "source": [
    "## Matter, Radiation and Dark Energy densities as a function of time:  Complicated subplots, annotations and labeling."
   ]
  },
  {
   "cell_type": "markdown",
   "metadata": {},
   "source": [
    "The density as a function of time of any of those components can be obtained with the Hubble function as follows: \n",
    "$$ \\Omega_i(z) = \\frac{H_0^2 \\Omega_i  (1+z)^p}{H^2(z)}$$ \n",
    "where $i$ is the component, and $p$ is the exponent corresponding to the specific component.\n",
    "For matter, $p=3$, for radiation, $p=4$, for the cosmological constant $p=0$."
   ]
  },
  {
   "cell_type": "markdown",
   "metadata": {},
   "source": [
    "Let's code this one up, by first creating a dictionary of exponents:"
   ]
  },
  {
   "cell_type": "code",
   "execution_count": null,
   "metadata": {},
   "outputs": [],
   "source": [
    "cosmo_pexp = {'Omega_b': 3, \n",
    "          'Omega_c':3,\n",
    "          'Omega_m':3,\n",
    "             'Omega_r':4,\n",
    "             'Omega_L':0}"
   ]
  },
  {
   "cell_type": "code",
   "execution_count": null,
   "metadata": {},
   "outputs": [],
   "source": [
    "def Omega_of_z(z, component='Omega_c', cosmo_pars=dict({None:0}) ):\n",
    "    O_generic = cosmological_parameters(cosmo_pars, which=component)\n",
    "    H0 = cosmological_parameters(cosmo_pars, which='H0')\n",
    "    p = cosmo_pexp[component]\n",
    "    O_of_z = (H0**2 * O_generic*(1+z)**p)/np.power(Hubble(z, cosmo_pars),2)\n",
    "    return O_of_z"
   ]
  },
  {
   "cell_type": "markdown",
   "metadata": {},
   "source": [
    "Let's check that the function works for a given array"
   ]
  },
  {
   "cell_type": "code",
   "execution_count": null,
   "metadata": {},
   "outputs": [],
   "source": [
    "z_arr = np.logspace(-3,2.5, 100)\n",
    "Omega_of_z(z_arr)[1:5]"
   ]
  },
  {
   "cell_type": "code",
   "execution_count": null,
   "metadata": {},
   "outputs": [],
   "source": [
    "crazycosmo = {'H0': 75, \n",
    "          'Omega_c':0.58,\n",
    "          'Omega_b':0.06, \n",
    "           'Omega_r':0.005}"
   ]
  },
  {
   "cell_type": "markdown",
   "metadata": {},
   "source": [
    "> Now let's plot the evolution of matter and radiation species as a function of redshift for two different cosmologies. For this we will use the subplot functionality. There are many ways of doing this, but the most common one is `plt.subplot(Rows, Cols, *kwargs) `, where some of the optional keyword arguments are for sharing axes, for setting the figure size or for adjusting interplot spaces. It will return a figure instance and an array of axis instances, which can be indexed."
   ]
  },
  {
   "cell_type": "code",
   "execution_count": null,
   "metadata": {},
   "outputs": [],
   "source": [
    "z_arr = np.logspace(-3,2.5, 100)\n",
    "#return a figure object instance and an axis object instance\n",
    "fig, ax = plt.subplots(2, 2, sharey='row', sharex='col', figsize=(15,8))  #all plots in the same row, share the y-axis.\n",
    "\n",
    "# once you specify an axis, it is in this instance where plots are performed\n",
    "ax[0,0].semilogx(z_arr, Omega_of_z(z_arr, 'Omega_m'), '-', label='$\\Omega_m$', color='orange')  \n",
    "ax[0,0].semilogx(z_arr, Omega_of_z(z_arr, 'Omega_L'), '-.', label='$\\Omega_{\\Lambda}$', color='violet')\n",
    "ax[0,0].legend()\n",
    "#Let's add a yellow shade for the matter domination era\n",
    "ax[0,0].axvspan(0.279, 300, alpha=0.3, color='yellow')\n",
    "# and let's annotate it using text()\n",
    "ax[0,0].text(5,0.8, \"matter domination era\", size=10, color='darkorange')\n",
    "ax[1,1].set_xlabel('redshift $z$', fontsize=15)   #notice the change from plt.xlabel() -> ax.set_xlabel()\n",
    "ax[1,0].set_xlabel('redshift $z$', fontsize=15)\n",
    "ax[0,1].semilogx(z_arr, Omega_of_z(z_arr, 'Omega_m', crazycosmo), '-', label='$\\Omega_m$', color='orange')  \n",
    "ax[0,1].semilogx(z_arr, Omega_of_z(z_arr, 'Omega_L', crazycosmo), '-.', label='$\\Omega_{\\Lambda}$', color='violet')\n",
    "# Let's add an annotation with an arrow. Check the documentation for more about the settings.\n",
    "ax[0,1].annotate('no dark energy domination', xy=(0.01,0.66), xytext=(3,0.4), \n",
    "                 arrowprops=dict(arrowstyle=\"->\", connectionstyle=\"angle3, angleA=0, angleB=90\"))\n",
    "ax[0,1].legend()\n",
    "ax[1,0].semilogx(z_arr, Omega_of_z(z_arr, 'Omega_c'), '-', label='$\\Omega_c$', color='darkorange')  \n",
    "ax[1,0].semilogx(z_arr, Omega_of_z(z_arr, 'Omega_r'), ':', label='$\\Omega_{r}$', color='darkblue')\n",
    "ax[1,0].legend(loc='upper left')   #notice the different location compared to the default\n",
    "ax[1,1].set_xlabel('redshift $z$', fontsize=15)   #notice the change from plt.xlabel() -> ax.set_xlabel()\n",
    "ax[1,0].set_xlabel('redshift $z$', fontsize=15)\n",
    "ax[1,1].semilogx(z_arr, Omega_of_z(z_arr, 'Omega_c', crazycosmo), '-', label='$\\Omega_c$', color='darkorange')  \n",
    "ax[1,1].semilogx(z_arr, Omega_of_z(z_arr, 'Omega_r', crazycosmo), ':', label='$\\Omega_{r}$', color='darkblue')\n",
    "ax[1,1].legend()\n",
    "# Let's add an annotation with an arrow. Check the documentation for more about the settings.\n",
    "ax[1,1].annotate('radiation dominated era', xy=(250,0.66), xytext=(0.001,0.4), \n",
    "                 arrowprops=dict(arrowstyle=\"->\", connectionstyle=\"angle3, angleA=0, angleB=90\"))\n",
    "ax[1,1].set_xlabel('redshift $z$', fontsize=15)   #notice the change from plt.xlabel() -> ax.set_xlabel()\n",
    "ax[1,0].set_xlabel('redshift $z$', fontsize=15)   #notice that we only label the bottom 2 plots\n",
    "ax[0,0].set_ylabel('Fractional energy density $\\Omega_i$', fontsize=15)   #notice the change from plt.xlabel() -> ax.set_xlabel()\n",
    "ax[1,0].set_ylabel('Fractional energy density $\\Omega_i$', fontsize=15)   #notice that we only label the bottom 2 plots\n",
    "#let's save the figure\n",
    "fig.savefig('./materials/cosmological_energy_densities.png')"
   ]
  },
  {
   "cell_type": "markdown",
   "metadata": {},
   "source": [
    "> **NOTE**: This plotting code seems a bit clumsy and extended, another way  of doing this, without so many lines of code, is through a proper loop and some zip() and list comprehensions."
   ]
  },
  {
   "cell_type": "markdown",
   "metadata": {},
   "source": [
    "# Hubble function: Working with external data, scipy interpolation and fit"
   ]
  },
  {
   "cell_type": "markdown",
   "metadata": {},
   "source": [
    "One very useful function in numpy is `np.loadtxt` which reads very efficiently data tables and automatically ignores headers (which start usually with `#`)."
   ]
  },
  {
   "cell_type": "code",
   "execution_count": null,
   "metadata": {},
   "outputs": [],
   "source": [
    "data_h_ofz=np.loadtxt('./materials/alldataEz-H0planck-real-H0planck.txt')\n",
    "data_h_ofz[1:5]"
   ]
  },
  {
   "cell_type": "markdown",
   "metadata": {},
   "source": [
    "This data contains measurements of the dimensionless Hubble function $E(z) = H(z)/H_0$ at different redshifts and with given error bars. This data was taken using supernovae, cepheids or cosmic chronometers (measurements of the age of very massive galaxies)."
   ]
  },
  {
   "cell_type": "markdown",
   "metadata": {},
   "source": [
    "Let's plot the data using the function `plt.errorbar`"
   ]
  },
  {
   "cell_type": "code",
   "execution_count": null,
   "metadata": {},
   "outputs": [],
   "source": [
    "fig = plt.figure()\n",
    "plt.errorbar(data_h_ofz[:,0], data_h_ofz[:,1], data_h_ofz[:,2], fmt='o', color='black', ecolor='black', capsize=2)"
   ]
  },
  {
   "cell_type": "markdown",
   "metadata": {},
   "source": [
    "> **Exercise 2:** Overplot the dimensionless Hubble function $E(z)$, using the default cosmological parameters."
   ]
  },
  {
   "cell_type": "markdown",
   "metadata": {},
   "source": [
    "## Scipy Interpolation"
   ]
  },
  {
   "cell_type": "markdown",
   "metadata": {},
   "source": [
    "Scipy is a package that includes many useful tools for scientific research, such as interpolation, fitting and integration."
   ]
  },
  {
   "cell_type": "markdown",
   "metadata": {},
   "source": [
    "First, let's compute an interpolation function through the given points."
   ]
  },
  {
   "cell_type": "code",
   "execution_count": null,
   "metadata": {},
   "outputs": [],
   "source": [
    "# Let's use interp1d as the simplest one first\n",
    "interp1_h_ofz = interpolate.interp1d(data_h_ofz[:,0], data_h_ofz[:,1])"
   ]
  },
  {
   "cell_type": "code",
   "execution_count": null,
   "metadata": {},
   "outputs": [],
   "source": [
    "# The domain of the interpolation is\n",
    "data_range=[data_h_ofz[0,0],data_h_ofz[-1,0]]\n",
    "data_range"
   ]
  },
  {
   "cell_type": "code",
   "execution_count": null,
   "metadata": {},
   "outputs": [],
   "source": [
    "# Now we have a function of E(z)\n",
    "interp1_h_ofz(0.5)"
   ]
  },
  {
   "cell_type": "code",
   "execution_count": null,
   "metadata": {},
   "outputs": [],
   "source": [
    "#Let's plot it together with the data\n",
    "fig = plt.figure()\n",
    "z_arr = np.linspace(data_range[0], data_range[1], 100)\n",
    "plt.errorbar(data_h_ofz[:,0], data_h_ofz[:,1], data_h_ofz[:,2], fmt='o', color='black', ecolor='black', capsize=2)\n",
    "plt.plot(z_arr, interp1_h_ofz(z_arr), '-', color='tomato', label='Interpolation')"
   ]
  },
  {
   "cell_type": "code",
   "execution_count": null,
   "metadata": {},
   "outputs": [],
   "source": [
    "#Now let's try a cubic and a UnivariateSpline interpolation\n",
    "interp2_h_ofz = interpolate.interp1d(data_h_ofz[:,0], data_h_ofz[:,1], kind='cubic')\n",
    "interp3_h_ofz = interpolate.UnivariateSpline(data_h_ofz[:,0], data_h_ofz[:,1])"
   ]
  },
  {
   "cell_type": "code",
   "execution_count": null,
   "metadata": {},
   "outputs": [],
   "source": [
    "#Let's plot it together with the data\n",
    "fig = plt.figure(figsize=(8,8))\n",
    "z_arr = np.linspace(data_range[0], data_range[1], 100)\n",
    "plt.errorbar(data_h_ofz[:,0], data_h_ofz[:,1], data_h_ofz[:,2], fmt='o', color='black', ecolor='black', capsize=2, \n",
    "             markersize=2)\n",
    "plt.plot(z_arr, interp1_h_ofz(z_arr), '-', color='tomato', label='linear')\n",
    "plt.plot(z_arr, interp2_h_ofz(z_arr), ':', color='indigo', label='cubic')\n",
    "plt.plot(z_arr, interp3_h_ofz(z_arr), ':', color='forestgreen', label='spline')\n",
    "plt.legend()"
   ]
  },
  {
   "cell_type": "markdown",
   "metadata": {},
   "source": [
    "One can see that the result of the interpolation might differ a lot between different methods"
   ]
  },
  {
   "cell_type": "markdown",
   "metadata": {},
   "source": [
    "The `UniVariateSpline` method has a `weight` optional argument `w[i]`, which sets a smoothing factor `s`. If this smoothing factor is set to `0`, the interpolation will pass through all points. By default it will be set to `s=len(w)` if `1/w[i]` is a good estimate of the standard deviation of the `y[i]` data."
   ]
  },
  {
   "cell_type": "markdown",
   "metadata": {},
   "source": [
    "> Let's use a neat trick of IPython notebooks, **`interact`**, which allows us to play with sliders on the notebook itself, to control some of the parameters."
   ]
  },
  {
   "cell_type": "code",
   "execution_count": null,
   "metadata": {},
   "outputs": [],
   "source": [
    "z_arr = np.linspace(data_range[0], data_range[1], 100)\n",
    "# Let's define a wrapper function for the above plot with the smoothing factor as an interactive parameter\n",
    "def plot_interpol_data(smoothing):\n",
    "    interp4_h_ofz = interpolate.UnivariateSpline(data_h_ofz[:,0], data_h_ofz[:,1], s=0)\n",
    "    interp5_h_ofz = interpolate.UnivariateSpline(data_h_ofz[:,0], data_h_ofz[:,1], w=(1/data_h_ofz[:,2]) )\n",
    "    interp6_h_ofz = interpolate.UnivariateSpline(data_h_ofz[:,0], data_h_ofz[:,1], s=smoothing)\n",
    "    fig = plt.figure(figsize=(8,8))\n",
    "    plt.errorbar(data_h_ofz[:,0], data_h_ofz[:,1], data_h_ofz[:,2], fmt='o', color='black', ecolor='black', capsize=2, \n",
    "             markersize=2)\n",
    "    plt.plot(z_arr, interp3_h_ofz(z_arr), '-', color='orange', lw=3,label='auto spline')\n",
    "    plt.plot(z_arr, interp4_h_ofz(z_arr), '-.', color='firebrick', lw=3,label='s=0 spline')\n",
    "    plt.plot(z_arr, interp5_h_ofz(z_arr), ':', color='violet', lw=3,label='weigthed spline')\n",
    "    plt.plot(z_arr, interp6_h_ofz(z_arr), '-.', color='teal', lw=3, label='smoothed spline')\n",
    "    plt.legend()\n",
    "    plt.show()"
   ]
  },
  {
   "cell_type": "code",
   "execution_count": null,
   "metadata": {},
   "outputs": [],
   "source": [
    "#Simply passing the function and the argument, together with a tuple, specifying (min, max, step), \n",
    "#already produces nice interactive plots.\n",
    "interact(plot_interpol_data, smoothing=(0.0,1.0,0.05));"
   ]
  },
  {
   "cell_type": "markdown",
   "metadata": {},
   "source": [
    "> **NOTE**: Interpolating through data points with error bars is an active area of research and a not completely solved problem. The best is to test several methods and find the most appropriate one for the given case."
   ]
  },
  {
   "cell_type": "markdown",
   "metadata": {},
   "source": [
    "## Numpy polynomial fit"
   ]
  },
  {
   "cell_type": "markdown",
   "metadata": {},
   "source": [
    "A very useful tool for data is to perform a polynomial fit by minimizing the equation:\n",
    "$$ E = \\sum_{j=0}^k |p(x_j)-y_j|^2 $$\n",
    "where $p$ is a polynomial of degree $d$ for a dataset of length $k$."
   ]
  },
  {
   "cell_type": "code",
   "execution_count": null,
   "metadata": {},
   "outputs": [],
   "source": [
    "# numpy.polyfit(x, y, deg, rcond=None, full=False, w=None, cov=False)\n",
    "# The weights should be w=1/sigma\n",
    "# deg is the degree of the polynomial\n",
    "coeffs = np.polyfit(data_h_ofz[:,0], data_h_ofz[:,1], 3, w=1/(data_h_ofz[:,2]))"
   ]
  },
  {
   "cell_type": "markdown",
   "metadata": {},
   "source": [
    "The coefficients are returned from larger to smaller degree."
   ]
  },
  {
   "cell_type": "code",
   "execution_count": null,
   "metadata": {},
   "outputs": [],
   "source": [
    "print(coeffs)"
   ]
  },
  {
   "cell_type": "markdown",
   "metadata": {},
   "source": [
    "One can use `poly1d` to deal with polynomials easily:"
   ]
  },
  {
   "cell_type": "code",
   "execution_count": null,
   "metadata": {},
   "outputs": [],
   "source": [
    "poly = np.poly1d(coeffs)"
   ]
  },
  {
   "cell_type": "code",
   "execution_count": null,
   "metadata": {},
   "outputs": [],
   "source": [
    "poly(np.arange(0.0,3,0.1))[0:5]"
   ]
  },
  {
   "cell_type": "code",
   "execution_count": null,
   "metadata": {},
   "outputs": [],
   "source": [
    "fig=plt.figure()\n",
    "plt.plot(np.arange(0.0,3,0.1), poly(np.arange(0.0,3,0.1)), color='red', label='polyfit')\n",
    "plt.legend();"
   ]
  },
  {
   "cell_type": "markdown",
   "metadata": {},
   "source": [
    "> **Exercise 3:** Create an interactive plot, that shows the data with errorbars, the smoothing spline (with the same steps as before) and the polyfit with degrees 1-8, with steps of 1."
   ]
  },
  {
   "cell_type": "markdown",
   "metadata": {},
   "source": [
    "## Gaussian Processes with Scikit-Learn"
   ]
  },
  {
   "cell_type": "code",
   "execution_count": null,
   "metadata": {},
   "outputs": [],
   "source": [
    "import numpy as np\n",
    "from matplotlib import pyplot as plt\n",
    "\n",
    "from sklearn.gaussian_process import GaussianProcessRegressor\n",
    "from sklearn.gaussian_process.kernels import RBF, ConstantKernel as C\n",
    "\n",
    "x = np.atleast_2d(np.linspace(data_range[0], data_range[1], 1000)).T\n",
    "\n",
    "X = data_h_ofz[:,0]\n",
    "X = np.atleast_2d(X).T\n",
    "\n",
    "# Observations and noise\n",
    "y = data_h_ofz[:,1]\n",
    "dy = data_h_ofz[:,2]\n",
    "\n",
    "kernel = C(1.0, (1e-3, 1e3)) * RBF(10, (1e-2, 1e2))\n",
    "# Instantiate a Gaussian Process model\n",
    "gp = GaussianProcessRegressor(kernel=kernel, alpha=dy ** 2,\n",
    "                              n_restarts_optimizer=10)\n",
    "\n",
    "# Fit to data using Maximum Likelihood Estimation of the parameters\n",
    "gp.fit(X, y)\n",
    "\n",
    "# Make the prediction on the meshed x-axis (ask for MSE as well)\n",
    "y_pred, sigma = gp.predict(x, return_std=True)\n",
    "\n",
    "# Plot the function, the prediction and the 95% confidence interval based on\n",
    "# the MSE\n",
    "plt.figure(figsize=(9,6))\n",
    "plt.plot(x, poly(x), 'r:', lw=3, label=r'$E(z) polyfit$')\n",
    "plt.errorbar(X.ravel(), y, dy, fmt='r.', markersize=10, label='Observations')\n",
    "plt.plot(x, y_pred, 'b-', label='Prediction')\n",
    "plt.fill(np.concatenate([x, x[::-1]]),\n",
    "         np.concatenate([y_pred - 1.9600 * sigma,\n",
    "                        (y_pred + 1.9600 * sigma)[::-1]]),\n",
    "         alpha=.5, fc='b', ec='None', label='95% confidence interval')\n",
    "plt.xlabel('$z$')\n",
    "plt.ylabel('$E(z)$')\n",
    "plt.ylim()\n",
    "plt.legend(loc='upper left')\n",
    "\n",
    "plt.show()"
   ]
  },
  {
   "cell_type": "markdown",
   "metadata": {},
   "source": [
    "## Comoving and angular diameter distance: Scipy integration"
   ]
  },
  {
   "cell_type": "markdown",
   "metadata": {},
   "source": [
    "The comoving distance [in Mpc] to a galaxy far away from us, is defined as\n",
    "$$ d_{\\rm com}(z) = \\int_0^z \\frac{c \\,\\, \\rm{d}\\tilde{z}}{H(\\tilde{z})}$$\n",
    "where $c$ is the speed of light and $H(z)$ the Hubble function in km/s/Mpc. "
   ]
  },
  {
   "cell_type": "code",
   "execution_count": null,
   "metadata": {},
   "outputs": [],
   "source": [
    "# speed of light\n",
    "import scipy.constants as sciconst\n",
    "clight = sciconst.speed_of_light/1000 #in km/s\n",
    "clight"
   ]
  },
  {
   "cell_type": "markdown",
   "metadata": {},
   "source": [
    "Let's code up the integral:"
   ]
  },
  {
   "cell_type": "code",
   "execution_count": null,
   "metadata": {},
   "outputs": [],
   "source": [
    "def drdz(zp, cosmo_pars=dict()):\n",
    "    return (clight)/Hubble(zp, cosmo_pars)\n",
    "\n",
    "def d_comoving(zc, cosmo_pars=dict()):\n",
    "    dd = lambda zc : drdz(zc, cosmo_pars=cosmo_pars)  \n",
    "    #notice the use of a lambda function to pass the optional arguments\n",
    "    int = integrate.romberg(dd,0.,zc)  #notice the use of a romberg integration\n",
    "    return int\n",
    "\n",
    "#notice the use of np.vectorize to allow for array arguments\n",
    "vect_dcom = np.vectorize(d_comoving)"
   ]
  },
  {
   "cell_type": "markdown",
   "metadata": {},
   "source": [
    "The distance to a galaxy at redshift $z=0.5$ is almost 2 Gpc!"
   ]
  },
  {
   "cell_type": "code",
   "execution_count": null,
   "metadata": {},
   "outputs": [],
   "source": [
    "print(vect_dcom(0.5))\n",
    "print(d_comoving(0.5))"
   ]
  },
  {
   "cell_type": "markdown",
   "metadata": {},
   "source": [
    "While the angular diameter distance $d_A$, is defined as the distance to an object of size x, that is viewed under an angle $\\theta$. Doing the math, one gets simply:\n",
    "$$ d_{\\rm A}(z) = \\frac{1}{1+z} \\int_0^z \\frac{c \\,\\, \\rm{d}\\tilde{z}}{H(\\tilde{z})}$$"
   ]
  },
  {
   "cell_type": "code",
   "execution_count": null,
   "metadata": {},
   "outputs": [],
   "source": [
    "def d_angular(zc, cosmo_pars=dict()):\n",
    "    da=(1/(1+zc)) * vect_dcom(zc, cosmo_pars=cosmo_pars)\n",
    "    return da"
   ]
  },
  {
   "cell_type": "code",
   "execution_count": null,
   "metadata": {},
   "outputs": [],
   "source": [
    "d_angular(0.5)"
   ]
  },
  {
   "cell_type": "markdown",
   "metadata": {},
   "source": [
    "> Notice how this distance is smaller than the comoving one."
   ]
  },
  {
   "cell_type": "markdown",
   "metadata": {},
   "source": [
    "Let's plot both distances together, for a new cosmology!"
   ]
  },
  {
   "cell_type": "code",
   "execution_count": null,
   "metadata": {},
   "outputs": [],
   "source": [
    "newcosmo = {'H0': 72, \n",
    "          'Omega_c':0.32,\n",
    "          'Omega_b':0.05,\n",
    "           'Omega_r':0.00001}\n",
    "z_arr = np.linspace(0.,10., 100)\n",
    "fig = plt.figure()\n",
    "#Let's add some color and linestyle, r for red and a label for the curve.\n",
    "plt.plot(z_arr, d_angular(z_arr, newcosmo), '-r', label='$d_A$')  #notice how you can use LaTeX here\n",
    "plt.plot(z_arr, vect_dcom(z_arr, newcosmo), '--g', label='$d_{com}$')  #notice how you can use LaTeX here\n",
    "plt.plot(z_arr, vect_dcom(z_arr), '-.b', label='$d_{com}$ Planck cosmo')  #notice how you can use LaTeX here\n",
    "\n",
    "#Let's add a plot title\n",
    "plt.title(\"cosmological distances\")\n",
    "#Let's add a legend\n",
    "plt.legend()\n",
    "#Let's add an x-label, with some font-size\n",
    "plt.xlabel(\"z\", fontsize=15)\n",
    "# and a y-label, rotated by 90 degrees (which is the default in this case anyway)\n",
    "plt.ylabel(\"d(z)\", rotation=90, fontsize=15)   "
   ]
  },
  {
   "cell_type": "markdown",
   "metadata": {},
   "source": [
    "## Integration of arrays"
   ]
  },
  {
   "cell_type": "markdown",
   "metadata": {},
   "source": [
    "As we saw before, obtaining an interpolating function from sparse and noisy data is a bit tricky."
   ]
  },
  {
   "cell_type": "markdown",
   "metadata": {},
   "source": [
    "For this reason, sometimes one is forced to integrate directly the given array. Let's try this with the data we imported before. The tool for this is called `integrate.simps`. (See the documentation)."
   ]
  },
  {
   "cell_type": "code",
   "execution_count": null,
   "metadata": {},
   "outputs": [],
   "source": [
    "def data_drdz(zc, e_data, cosmo_pars=dict()):  #accepting the {z, E(z)} data\n",
    "    xx = e_data[:,0]\n",
    "    maxi = np.where(xx <= zc)[0][-1] + 1\n",
    "    #print(maxi)\n",
    "    xx = xx[:maxi]\n",
    "    h0 = cosmological_parameters(cosmo_pars, which='H0')\n",
    "    yy = (clight/h0)*(1/e_data[:,1])\n",
    "    yy = yy[:maxi]\n",
    "    return xx, yy\n",
    "\n",
    "def data_comoving_distance(zc, e_data, cosmo_pars=dict()):  #remember the data we have is in E(z)\n",
    "    xx, yy = data_drdz(zc, e_data, cosmo_pars)\n",
    "    dc = integrate.simps(yy, xx)\n",
    "    return dc    \n",
    "\n",
    "#this function can't be easily vectorized, because of np.where"
   ]
  },
  {
   "cell_type": "code",
   "execution_count": null,
   "metadata": {},
   "outputs": [],
   "source": [
    "data_comoving_distance(0.5,data_h_ofz)"
   ]
  },
  {
   "cell_type": "code",
   "execution_count": null,
   "metadata": {},
   "outputs": [],
   "source": [
    "z_range = np.linspace(0.,2.5,10)"
   ]
  },
  {
   "cell_type": "code",
   "execution_count": null,
   "metadata": {},
   "outputs": [],
   "source": [
    "d_com_data = np.array([data_comoving_distance(zz, data_h_ofz) for zz in z_range])"
   ]
  },
  {
   "cell_type": "code",
   "execution_count": null,
   "metadata": {},
   "outputs": [],
   "source": [
    "newcosmo = {'H0': 72,\n",
    "           'Omega_r':0.00001}\n",
    "z_arr = np.linspace(0.,5., 100)\n",
    "fig = plt.figure()\n",
    "#Let's add some color and linestyle, r for red and a label for the curve.\n",
    "plt.plot(z_range, d_com_data, 'o-r', label='$d_{com}$ from data')  #notice how you can use LaTeX here\n",
    "plt.plot(z_arr, vect_dcom(z_arr, newcosmo), '--g', label='$d_{com} \\,\\,H_0=72$km/s/Mpc')  #notice how you can use LaTeX here\n",
    "plt.plot(z_arr, vect_dcom(z_arr), '-.b', label='$d_{com}$ Planck cosmo')  #notice how you can use LaTeX here\n",
    "\n",
    "#Let's add a plot title\n",
    "plt.title(\"cosmological distances\")\n",
    "#Let's add a legend\n",
    "plt.legend()\n",
    "#Let's add an x-label, with some font-size\n",
    "plt.xlabel(\"z\", fontsize=15)\n",
    "# and a y-label, rotated by 90 degrees (which is the default in this case anyway)\n",
    "plt.ylabel(\"d(z)\", rotation=90, fontsize=15)   "
   ]
  },
  {
   "cell_type": "markdown",
   "metadata": {},
   "source": [
    "> **NOTE**: Notice that despite the data being evaluated with $H_0$ from Planck (the default one), the distance at higher redshifts seems to indicate a higher value of $H_0 \\approx 72$km/s/Mpc. Does this indicate some sort of tension with Planck? "
   ]
  },
  {
   "cell_type": "markdown",
   "metadata": {},
   "source": [
    "> **Puzzle:** Can you propagate the errors from $E(z)$ onto $d_{com}(z)$ and add the error bars to the red dots above?"
   ]
  },
  {
   "cell_type": "markdown",
   "metadata": {},
   "source": [
    "### **Homework Exercise 4:**  \n",
    "* In the materials folder you can find a file called `Fs8dataclean`.It contains `z`, $f\\sigma_8 (z)$ data and its error bars.\n",
    "* The function $f\\sigma_8 (z)$ is an indication of how fast structures have grown in the universe.\n",
    "* For the $\\Lambda$CDM model, this function can be written as:\n",
    "$$ f\\sigma_8(z) = f(z)D(z)\\sigma_{8,0}$$\n",
    "* Where the growth rate is:\n",
    "$$f(z) = \\Omega_m (z)^{\\gamma}$$ with $\\gamma=0.55$\n",
    "* And the growth function is:\n",
    "$$D(z) = \\exp \\big(- \\int_0^z \\frac{f(\\tilde{z})}{(1+\\tilde{z})} \\big) $$\n",
    "* Finally, the free parameter is $\\sigma_{8,0} = 0.83$\n",
    "\n",
    "  1. Import the data and plot it with its error bars.\n",
    "  2. Plot the data together with a couple of interpolation functions of your choice and a polynomial fit of order 3.\n",
    "  3. Compute the theoretical curve, according to the points above, using integration. Does the theoretical model pass through the data points? try out different cosmological values.\n",
    "  4. Compute the integral of the data alone, to obtain $D(z)$. Is it a good approximation or is the data too noisy?"
   ]
  },
  {
   "cell_type": "markdown",
   "metadata": {},
   "source": [
    "> **[Answers](./Answers.ipynb) to puzzles and exercises**"
   ]
  },
  {
   "cell_type": "markdown",
   "metadata": {},
   "source": [
    "## Bonus Chapter on Seaborn plots"
   ]
  },
  {
   "cell_type": "markdown",
   "metadata": {},
   "source": [
    " > Notice that despite matplotlib being a really nice library, the standard settings\n",
    "produce a very rough plot and it needs a lot of tweaking to get publication-ready plots. A way to improve this quickly, is to use `seaborn`."
   ]
  },
  {
   "cell_type": "code",
   "execution_count": null,
   "metadata": {},
   "outputs": [],
   "source": [
    "import seaborn as sns\n",
    "sns.set()"
   ]
  },
  {
   "cell_type": "markdown",
   "metadata": {},
   "source": [
    "Consider the example we had before in the `Numpy` lesson:"
   ]
  },
  {
   "cell_type": "code",
   "execution_count": null,
   "metadata": {},
   "outputs": [],
   "source": [
    " data = np.random.multivariate_normal([0, 0], [[5, 2], [2, 2]], size=2000)\n",
    "data = pd.DataFrame(data, columns=['x', 'y'])"
   ]
  },
  {
   "cell_type": "code",
   "execution_count": null,
   "metadata": {},
   "outputs": [],
   "source": [
    "#matplotlib with seaborn style\n",
    "for col in 'xy':\n",
    "    plt.hist(data[col], density=True, alpha=0.5)"
   ]
  },
  {
   "cell_type": "code",
   "execution_count": null,
   "metadata": {},
   "outputs": [],
   "source": [
    "# pure seaborn\n",
    "sns.distplot(data['x'])\n",
    "sns.distplot(data['y']);"
   ]
  },
  {
   "cell_type": "code",
   "execution_count": null,
   "metadata": {},
   "outputs": [],
   "source": [
    " sns.kdeplot(data['x'], data['y']);"
   ]
  },
  {
   "cell_type": "code",
   "execution_count": null,
   "metadata": {},
   "outputs": [],
   "source": [
    "with sns.axes_style('white'):\n",
    "    sns.jointplot(\"x\", \"y\", data, kind='kde');"
   ]
  },
  {
   "cell_type": "code",
   "execution_count": null,
   "metadata": {},
   "outputs": [],
   "source": []
  }
 ],
 "metadata": {
  "hide_input": false,
  "kernelspec": {
   "display_name": "Python 3",
   "language": "python",
   "name": "python3"
  },
  "language_info": {
   "codemirror_mode": {
    "name": "ipython",
    "version": 3
   },
   "file_extension": ".py",
   "mimetype": "text/x-python",
   "name": "python",
   "nbconvert_exporter": "python",
   "pygments_lexer": "ipython3",
   "version": "3.7.3"
  },
  "toc": {
   "base_numbering": 1,
   "nav_menu": {},
   "number_sections": true,
   "sideBar": true,
   "skip_h1_title": false,
   "title_cell": "Table of Contents",
   "title_sidebar": "Contents",
   "toc_cell": false,
   "toc_position": {},
   "toc_section_display": true,
   "toc_window_display": false
  }
 },
 "nbformat": 4,
 "nbformat_minor": 2
}

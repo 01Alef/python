{
 "cells": [
  {
   "cell_type": "code",
   "execution_count": null,
   "metadata": {},
   "outputs": [],
   "source": [
    "import numpy as np"
   ]
  },
  {
   "cell_type": "markdown",
   "metadata": {},
   "source": [
    "# Numpy"
   ]
  },
  {
   "cell_type": "markdown",
   "metadata": {},
   "source": [
    "> **Puzzle 3:** Obtain the array `[4., 4., 4.]` from `extended_array` by using slicing and `log`."
   ]
  },
  {
   "cell_type": "code",
   "execution_count": null,
   "metadata": {},
   "outputs": [],
   "source": [
    "#Hidden answer Puzzle 3:\n",
    "#np.log(extended_array[3::4])"
   ]
  },
  {
   "cell_type": "markdown",
   "metadata": {},
   "source": [
    "> **Puzzle 4:** Change all the last two columns by zeros using slicing, np.shape and np.zeros (assuming you don't know the size of the array beforehand)"
   ]
  },
  {
   "cell_type": "code",
   "execution_count": null,
   "metadata": {},
   "outputs": [],
   "source": [
    "#Hidden answer Puzzle 4:\n",
    "#array2d[:,-2:]=np.zeros((array2d.shape[0],2))\n",
    "#print(array2d)"
   ]
  },
  {
   "cell_type": "markdown",
   "metadata": {},
   "source": [
    "### Exercise 1:"
   ]
  },
  {
   "cell_type": "markdown",
   "metadata": {},
   "source": [
    "> Using broadcasting and in max. 2 lines of code, construct a multiplication table of the numbers from 1 to 10, i.e., where for each column corresponding to 1,2,3,..., the rows correspond to their integer multiples. For 1 to 3, it looks like this:\n",
    "\n",
    "---\n",
    "\n",
    "|1|2|3|\n",
    "|--|--|--|\n",
    "|2|4|6|\n",
    "|3|6|9|\n",
    "\n",
    "> Then, using masking, remove all multiples of 3, in one line of code. So that the result (in this case for 3x3) looks like this:\n",
    "\n",
    "|1|2|0|\n",
    "|--|--|--|\n",
    "|2|4|0|\n",
    "|0|0|0|\n",
    "\n",
    "> Finally, compute the sum over each column and write it into a list:\n",
    "\n",
    "                                                      [3,6,0]\n"
   ]
  },
  {
   "cell_type": "code",
   "execution_count": null,
   "metadata": {},
   "outputs": [],
   "source": [
    "x1 = np.arange(1,11)\n",
    "mult = x1[:,np.newaxis] * x1[None,:]\n",
    "print(mult)"
   ]
  },
  {
   "cell_type": "code",
   "execution_count": null,
   "metadata": {},
   "outputs": [],
   "source": [
    "mult[(mult %3 == 0)] = 0\n",
    "mult"
   ]
  },
  {
   "cell_type": "code",
   "execution_count": null,
   "metadata": {},
   "outputs": [],
   "source": [
    "#With list comprehensions\n",
    "[np.sum(mult[:,ii]) for ii in range(mult.shape[1])]"
   ]
  },
  {
   "cell_type": "code",
   "execution_count": null,
   "metadata": {},
   "outputs": [],
   "source": [
    "#With numpy functions\n",
    "np.apply_along_axis(np.sum,1, mult)"
   ]
  },
  {
   "cell_type": "markdown",
   "metadata": {},
   "source": [
    "### **Exercise 2:** \n",
    "  * Produce a random set of points, following a normal distribution with mean 0 and covariance matrix `cov=[[1, 3.0/5], [3/5.0, 2]]`.\n",
    "  * Plot the set of points using `plt.scatter(X, Y)`\n",
    "  * Compute the marginal distributions for the x and y coordinates and using numpy functions, check that they follow a Gaussian distribution when compared to their histograms. Gaussian distribution:\n",
    "  $$ \\mathcal{N}(x) = \\frac{1}{\\sqrt{2 \\pi \\sigma^2}} \\exp(-(x-\\mu)^2/ 2 \\sigma^2)$$\n",
    "  * Here $\\mu$ is the mean and $\\sigma$ the standard deviation.\n",
    "  * (Hints: `plt.hist(points, bins, density=True)`, `np.exp`, `np.sqrt`, `np.std`, `np.mean`). Use 25 bins for the histogram.\n",
    "  * Using masking and `np.where` remove all points whose y-coordinate is more than 2-sigma away from the mean.\n",
    "  * Plot the remaining points in a scatter plot with blue color, with `facecolor='none'` and size `s=200`,  together with the old set of points in red color with a transparency of alpha=0.6."
   ]
  },
  {
   "cell_type": "code",
   "execution_count": null,
   "metadata": {},
   "outputs": [],
   "source": [
    "mean = [0, 0]\n",
    "cov = [[1, 3.0/5],\n",
    "       [3/5.0, 2]]\n",
    "X = np.random.multivariate_normal(mean, cov, 1000)\n",
    "X.shape"
   ]
  },
  {
   "cell_type": "code",
   "execution_count": null,
   "metadata": {},
   "outputs": [],
   "source": [
    "%matplotlib inline\n",
    "import matplotlib.pyplot as plt\n",
    "#import seaborn; seaborn.set()  # for plot styling\n",
    "\n",
    "plt.scatter(X[:, 0], X[:, 1]);"
   ]
  },
  {
   "cell_type": "code",
   "execution_count": null,
   "metadata": {},
   "outputs": [],
   "source": [
    "xx = np.linspace(-3,3,1000)\n",
    "yy = np.empty((2,xx.shape[0]))\n",
    "yy[0] = 1/np.sqrt(2*np.pi*(np.std(X[:,0]))**2) * np.exp(-xx**2 / (2*(np.std(X[:,0]))**2))\n",
    "yy[1] = 1/np.sqrt(2*np.pi*(np.std(X[:,1]))**2) * np.exp(-xx**2 / (2*(np.std(X[:,1]))**2))"
   ]
  },
  {
   "cell_type": "code",
   "execution_count": null,
   "metadata": {},
   "outputs": [],
   "source": [
    "plt.hist(X[:,0], 25, density=True)\n",
    "plt.plot(xx, yy[0])"
   ]
  },
  {
   "cell_type": "code",
   "execution_count": null,
   "metadata": {},
   "outputs": [],
   "source": [
    "plt.hist(X[:,1], 25, density=True)\n",
    "plt.plot(xx, yy[1])"
   ]
  },
  {
   "cell_type": "code",
   "execution_count": null,
   "metadata": {},
   "outputs": [],
   "source": [
    "exclude=np.where(np.sqrt(X[:,1]**2) > 2*np.std(X[:,1]))"
   ]
  },
  {
   "cell_type": "code",
   "execution_count": null,
   "metadata": {},
   "outputs": [],
   "source": [
    "Xnew.shape"
   ]
  },
  {
   "cell_type": "code",
   "execution_count": null,
   "metadata": {},
   "outputs": [],
   "source": [
    "exclude[0].shape"
   ]
  },
  {
   "cell_type": "code",
   "execution_count": null,
   "metadata": {},
   "outputs": [],
   "source": [
    "X.shape[0]-(exclude[0].shape[0])"
   ]
  },
  {
   "cell_type": "code",
   "execution_count": null,
   "metadata": {},
   "outputs": [],
   "source": [
    "Xnew = np.empty((X.shape[0]-(exclude[0].shape[0]), 2))"
   ]
  },
  {
   "cell_type": "code",
   "execution_count": null,
   "metadata": {},
   "outputs": [],
   "source": [
    "Xnew[:,1] = np.delete(X[:,1], exclude)"
   ]
  },
  {
   "cell_type": "code",
   "execution_count": null,
   "metadata": {},
   "outputs": [],
   "source": [
    "Xnew[:,0] = np.delete(X[:,0], exclude)"
   ]
  },
  {
   "cell_type": "code",
   "execution_count": null,
   "metadata": {},
   "outputs": [],
   "source": [
    "plt.hist(Xnew[:,1], 25, density=True)\n",
    "plt.plot(xx, yy[1])"
   ]
  },
  {
   "cell_type": "code",
   "execution_count": null,
   "metadata": {},
   "outputs": [],
   "source": [
    "plt.scatter(Xnew[:, 0], Xnew[:, 1], color='blue', facecolor='none', s=200);\n",
    "plt.scatter(X[:, 0], X[:, 1], color='red', alpha=0.6);"
   ]
  },
  {
   "cell_type": "markdown",
   "metadata": {},
   "source": [
    "# Pandas"
   ]
  },
  {
   "cell_type": "code",
   "execution_count": null,
   "metadata": {},
   "outputs": [],
   "source": [
    "import pandas as pd"
   ]
  },
  {
   "cell_type": "code",
   "execution_count": null,
   "metadata": {},
   "outputs": [],
   "source": [
    "cr_temp = pd.read_csv('./materials/CR_Temp.csv')\n",
    "cr_temp = pd.read_csv('./materials/CR_Temp.csv', index_col=1)\n",
    "cr_temp.head()"
   ]
  },
  {
   "cell_type": "code",
   "execution_count": null,
   "metadata": {},
   "outputs": [],
   "source": [
    "#Remove the 'N' column\n",
    "cr_temp = cr_temp.drop(columns='N')\n",
    "cr_temp.head()"
   ]
  },
  {
   "cell_type": "code",
   "execution_count": null,
   "metadata": {},
   "outputs": [],
   "source": [
    "cr_temp.loc[:, 'ENE':'DIC'] ;"
   ]
  },
  {
   "cell_type": "code",
   "execution_count": null,
   "metadata": {},
   "outputs": [],
   "source": [
    "#Compute the mean along the axis 1, on a sliced subset.\n",
    "my_mean = (cr_temp.loc[:, 'ENE':'DIC']).mean(axis=1)"
   ]
  },
  {
   "cell_type": "code",
   "execution_count": null,
   "metadata": {},
   "outputs": [],
   "source": [
    "# Check if the two mean columns agree.\n",
    "np.mean(my_mean - cr_temp.AVERAGE)"
   ]
  },
  {
   "cell_type": "code",
   "execution_count": null,
   "metadata": {},
   "outputs": [],
   "source": [
    "years = pd.date_range('1958', '2017', freq='Y')"
   ]
  },
  {
   "cell_type": "code",
   "execution_count": null,
   "metadata": {},
   "outputs": [],
   "source": [
    "years\n",
    "\n",
    "print(years.size)\n",
    "\n",
    "cr_temp.index.size"
   ]
  },
  {
   "cell_type": "code",
   "execution_count": null,
   "metadata": {},
   "outputs": [],
   "source": [
    "crr = cr_temp"
   ]
  },
  {
   "cell_type": "code",
   "execution_count": null,
   "metadata": {},
   "outputs": [],
   "source": [
    "crr['time'] = years"
   ]
  },
  {
   "cell_type": "code",
   "execution_count": null,
   "metadata": {},
   "outputs": [],
   "source": [
    "crr = crr.set_index('time')\n",
    "crr.head()"
   ]
  },
  {
   "cell_type": "code",
   "execution_count": null,
   "metadata": {},
   "outputs": [],
   "source": [
    "crr.asfreq('10Y')"
   ]
  },
  {
   "cell_type": "code",
   "execution_count": null,
   "metadata": {},
   "outputs": [],
   "source": [
    "crr.asfreq('10Y').plot()"
   ]
  },
  {
   "cell_type": "code",
   "execution_count": null,
   "metadata": {},
   "outputs": [],
   "source": [
    "crr.AVERAGE.plot()"
   ]
  },
  {
   "cell_type": "markdown",
   "metadata": {},
   "source": [
    "## Scipy and Matplotlib"
   ]
  },
  {
   "cell_type": "markdown",
   "metadata": {},
   "source": [
    "> Answer to exercise 1:"
   ]
  },
  {
   "cell_type": "code",
   "execution_count": null,
   "metadata": {},
   "outputs": [],
   "source": [
    "newcosmo = {'H0': 72, \n",
    "          'Omega_c':0.32,\n",
    "          'Omega_b':0.05,\n",
    "           'Omega_r':0.01}\n",
    "z_arr = np.linspace(0.,10., 100)\n",
    "fig = plt.figure()\n",
    "#Let's add some color and linestyle, r for red and a label for the curve.\n",
    "plt.plot(z_arr, Hubble(z_arr), '-r', label='$Planck$')  #notice how you can use LaTeX here\n",
    "plt.plot(z_arr, Hubble(z_arr, mycosmo), '--g', label='$MyCosmo$')  #notice how you can use LaTeX here\n",
    "plt.plot(z_arr, Hubble(z_arr, newcosmo), '-.b', label='$NewCosmo$')  #notice how you can use LaTeX here\n",
    "\n",
    "#Let's add a plot title\n",
    "plt.title(\"Hubble Function\")\n",
    "#Let's add a legend\n",
    "plt.legend()\n",
    "#Let's add an x-label, with some font-size\n",
    "plt.xlabel(\"z\", fontsize=15)\n",
    "# and a y-label, rotated by 90 degrees (which is the default in this case anyway)\n",
    "plt.ylabel(\"H(z)\", rotation=90, fontsize=15)   "
   ]
  },
  {
   "cell_type": "markdown",
   "metadata": {},
   "source": [
    "Answer to Exercise 2:\n"
   ]
  },
  {
   "cell_type": "code",
   "execution_count": null,
   "metadata": {},
   "outputs": [],
   "source": [
    "fig = plt.figure()\n",
    "z_arr = np.linspace(0.,3.)\n",
    "H0_value = cosmological_parameters(which='H0')\n",
    "plt.errorbar(data_h_ofz[:,0], data_h_ofz[:,1], data_h_ofz[:,2], fmt='o', color='black', ecolor='black', capsize=2)\n",
    "plt.plot(z_arr, Hubble(z_arr)/H0_value, '-r', label='$Planck$')\n",
    "plt.xlim(0,3)"
   ]
  },
  {
   "cell_type": "markdown",
   "metadata": {},
   "source": [
    "Answer to exercise 3:"
   ]
  },
  {
   "cell_type": "code",
   "execution_count": 1,
   "metadata": {},
   "outputs": [
    {
     "ename": "NameError",
     "evalue": "name 'interact' is not defined",
     "output_type": "error",
     "traceback": [
      "\u001b[0;31m---------------------------------------------------------------------------\u001b[0m",
      "\u001b[0;31mNameError\u001b[0m                                 Traceback (most recent call last)",
      "\u001b[0;32m<ipython-input-1-b6780f9f6577>\u001b[0m in \u001b[0;36m<module>\u001b[0;34m\u001b[0m\n\u001b[1;32m     12\u001b[0m     \u001b[0mplt\u001b[0m\u001b[0;34m.\u001b[0m\u001b[0mshow\u001b[0m\u001b[0;34m(\u001b[0m\u001b[0;34m)\u001b[0m\u001b[0;34m\u001b[0m\u001b[0;34m\u001b[0m\u001b[0m\n\u001b[1;32m     13\u001b[0m \u001b[0;34m\u001b[0m\u001b[0m\n\u001b[0;32m---> 14\u001b[0;31m \u001b[0minteract\u001b[0m\u001b[0;34m(\u001b[0m\u001b[0mplot_polyfit_data\u001b[0m\u001b[0;34m,\u001b[0m \u001b[0msmoothing\u001b[0m\u001b[0;34m=\u001b[0m\u001b[0;34m(\u001b[0m\u001b[0;36m0.0\u001b[0m\u001b[0;34m,\u001b[0m\u001b[0;36m1.0\u001b[0m\u001b[0;34m,\u001b[0m\u001b[0;36m0.05\u001b[0m\u001b[0;34m)\u001b[0m\u001b[0;34m,\u001b[0m \u001b[0mpdegree\u001b[0m\u001b[0;34m=\u001b[0m\u001b[0;34m(\u001b[0m\u001b[0;36m1\u001b[0m\u001b[0;34m,\u001b[0m\u001b[0;36m8\u001b[0m\u001b[0;34m,\u001b[0m\u001b[0;36m1\u001b[0m\u001b[0;34m)\u001b[0m\u001b[0;34m)\u001b[0m\u001b[0;34m;\u001b[0m\u001b[0;34m\u001b[0m\u001b[0;34m\u001b[0m\u001b[0m\n\u001b[0m",
      "\u001b[0;31mNameError\u001b[0m: name 'interact' is not defined"
     ]
    }
   ],
   "source": [
    "def plot_polyfit_data(smoothing, pdegree):\n",
    "    interp6_h_ofz = interpolate.UnivariateSpline(data_h_ofz[:,0], data_h_ofz[:,1], s=smoothing)\n",
    "    coeffs = np.polyfit(data_h_ofz[:,0], data_h_ofz[:,1], pdegree, w=1/(data_h_ofz[:,2]))\n",
    "    poly = np.poly1d(coeffs)\n",
    "    \n",
    "    fig = plt.figure(figsize=(8,8))\n",
    "    plt.errorbar(data_h_ofz[:,0], data_h_ofz[:,1], data_h_ofz[:,2], fmt='o', color='black', ecolor='black', capsize=2, \n",
    "             markersize=2)\n",
    "    plt.plot(z_arr, poly(z_arr), '-.', color='firebrick', lw=3,label='polyfit, deg='+str(pdegree))\n",
    "    plt.plot(z_arr, interp6_h_ofz(z_arr), '-.', color='teal', lw=3, label='smoothed spline')\n",
    "    plt.legend()\n",
    "    plt.show()\n",
    "\n",
    "interact(plot_polyfit_data, smoothing=(0.0,1.0,0.05), pdegree=(1,8,1));"
   ]
  },
  {
   "cell_type": "code",
   "execution_count": null,
   "metadata": {},
   "outputs": [],
   "source": []
  }
 ],
 "metadata": {
  "hide_input": false,
  "kernelspec": {
   "display_name": "Python py37",
   "language": "python",
   "name": "py37"
  },
  "language_info": {
   "codemirror_mode": {
    "name": "ipython",
    "version": 3
   },
   "file_extension": ".py",
   "mimetype": "text/x-python",
   "name": "python",
   "nbconvert_exporter": "python",
   "pygments_lexer": "ipython3",
   "version": "3.7.1"
  },
  "toc": {
   "base_numbering": 1,
   "nav_menu": {},
   "number_sections": true,
   "sideBar": true,
   "skip_h1_title": false,
   "title_cell": "Table of Contents",
   "title_sidebar": "Contents",
   "toc_cell": false,
   "toc_position": {},
   "toc_section_display": true,
   "toc_window_display": false
  }
 },
 "nbformat": 4,
 "nbformat_minor": 2
}

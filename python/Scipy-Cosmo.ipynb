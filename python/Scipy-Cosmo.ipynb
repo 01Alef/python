{
 "cells": [
  {
   "cell_type": "markdown",
   "metadata": {},
   "source": [
    "<a href=\"http://www.cosmostat.org/\" target=\"_blank\"><img align=\"left\" width=\"300\" src=\"http://www.cosmostat.org/wp-content/uploads/2017/07/CosmoStat-Logo_WhiteBK-e1499155861666.png\" alt=\"CosmoStat Logo\"></a>\n",
    "<br>\n",
    "<br>\n",
    "<br>\n",
    "<br>\n",
    "\n",
    "# Scipy, Matplotlib and useful tricks applied to Cosmology\n",
    "\n",
    "---\n",
    "\n",
    "> Author: <a href=\"http://www.cosmostat.org/people/santiago-casas\" target=\"_blank\" style=\"text-decoration:none; color: #F08080\">Santiago Casas</a>\n",
    "\n",
    "> Email: <a href=\"mailto:santiago.casas@cea.fr\" style=\"text-decoration:none; color: #F08080\">santiago.casas@cea.fr</a>  \n",
    "> Year: 2019  \n",
    "> Version: 1.0\n",
    "\n",
    "\n",
    "---\n",
    "<br>"
   ]
  },
  {
   "cell_type": "markdown",
   "metadata": {},
   "source": [
    "## Let's import some useful libraries"
   ]
  },
  {
   "cell_type": "code",
   "execution_count": 1,
   "metadata": {},
   "outputs": [],
   "source": [
    "# Tell Jupyter to display plots in this notebook.\n",
    "%matplotlib inline\n",
    "##\n",
    "import numpy as np #numpy for arrays and numerics\n",
    "import pandas as pd  #pandas for working with ordered datasets\n",
    "import scipy as sci  # for scientific functions\n",
    "import matplotlib.pyplot as plt  # for plotting\n",
    "# Import interaction module.\n",
    "from ipywidgets.widgets import *\n"
   ]
  },
  {
   "cell_type": "markdown",
   "metadata": {},
   "source": [
    "> In this tutorial we will do some basic cosmology use functions, dictionaries, numpy arrays, matplotlib and scipy, to illustrate some of the common tools used by researchers in their everyday life."
   ]
  },
  {
   "cell_type": "markdown",
   "metadata": {},
   "source": [
    "# The redshift"
   ]
  },
  {
   "cell_type": "markdown",
   "metadata": {},
   "source": [
    "The cosmological redshift we observe in galaxies (their spectral lines move towards larger wavelengths) $z$ is related to the relative size of the observable Universe $a$, by $$a = \\frac{1}{1+z}$$ This can be obtained from the fact that light is radiation and travels in null-geodesics, since it is also described as a relativistic particle."
   ]
  },
  {
   "cell_type": "markdown",
   "metadata": {},
   "source": [
    "> Let's code this in a simple function"
   ]
  },
  {
   "cell_type": "code",
   "execution_count": 2,
   "metadata": {},
   "outputs": [],
   "source": [
    "def a_of_z(z):\n",
    "    a=1/(1+z)\n",
    "    return a "
   ]
  },
  {
   "cell_type": "code",
   "execution_count": 3,
   "metadata": {},
   "outputs": [],
   "source": [
    "z_arr = np.linspace(0.001,3, 100)"
   ]
  },
  {
   "cell_type": "code",
   "execution_count": 4,
   "metadata": {},
   "outputs": [],
   "source": [
    "a_arr = a_of_z(z_arr)"
   ]
  },
  {
   "cell_type": "code",
   "execution_count": 5,
   "metadata": {},
   "outputs": [
    {
     "data": {
      "text/plain": [
       "(100,)"
      ]
     },
     "execution_count": 5,
     "metadata": {},
     "output_type": "execute_result"
    }
   ],
   "source": [
    "a_arr.shape"
   ]
  },
  {
   "cell_type": "markdown",
   "metadata": {},
   "source": [
    "We can plot this using matplotlib's function `plot`, which takes an `x` and a `y` array as arguments, a format argument `fmt = '[marker][line][color]'` and many other optional keyword arguments, like `color`, linestyle, opacity and many more. Available markers, such as `o` for circles, `-.` for dot-dashed linestyles and `'r'` for colors can be checked in the <a href=\"https://matplotlib.org/api/_as_gen/matplotlib.pyplot.plot.html#matplotlib.pyplot.plot\" target=\"_blank\" >documentation</a> ."
   ]
  },
  {
   "cell_type": "code",
   "execution_count": 6,
   "metadata": {},
   "outputs": [
    {
     "data": {
      "image/png": "[encoded data removed]",
      "text/plain": [
       "<Figure size 432x288 with 1 Axes>"
      ]
     },
     "metadata": {
      "needs_background": "light"
     },
     "output_type": "display_data"
    }
   ],
   "source": [
    "plt.plot(z_arr, a_arr)\n",
    "plt.show()"
   ]
  },
  {
   "cell_type": "markdown",
   "metadata": {},
   "source": [
    "For plots in log-log space, we can use `plt.loglog`. And it is always better to start the plot with a figure creation, since it simplifies exporting and adjustments later on."
   ]
  },
  {
   "cell_type": "code",
   "execution_count": 7,
   "metadata": {
    "scrolled": true
   },
   "outputs": [
    {
     "data": {
      "image/png": "[encoded data removed]",
      "text/plain": [
       "<Figure size 432x288 with 1 Axes>"
      ]
     },
     "metadata": {
      "needs_background": "light"
     },
     "output_type": "display_data"
    }
   ],
   "source": [
    "fig = plt.figure()\n",
    "#Let's add some color and linestyle, r for red and a label for the curve.\n",
    "plt.loglog(z_arr, a_arr, '-.r', label='$a(z)$')  #notice how you can use LaTeX here\n",
    "#Let's add a plot title\n",
    "plt.title(\"Redshift\")\n",
    "#Let's add a legend\n",
    "plt.legend()\n",
    "#Let's add an x-label, with some font-size\n",
    "plt.xlabel(\"z\", fontsize=15)\n",
    "# and a y-label, rotated by 90 degrees (which is the default in this case anyway)\n",
    "plt.ylabel(\"a\", rotation=90, fontsize=15)   \n",
    "plt.show()"
   ]
  },
  {
   "cell_type": "markdown",
   "metadata": {},
   "source": [
    "# The Hubble function"
   ]
  },
  {
   "cell_type": "markdown",
   "metadata": {},
   "source": [
    "The Hubble function $H(z)$ can be found solving Einstein's field equations of General Relativity under the Friedmann-Lemaître-Robertson-Walker metric, i.e. under the assumption of homogeneity and isotropy. It describes the expansion rate (speed) of an observable Universe of size a, $H(a) = \\dot{a}/a$."
   ]
  },
  {
   "cell_type": "markdown",
   "metadata": {},
   "source": [
    "<a href=\"\" target=\"_blank\"><img align=\"center\" width=\"300\" src=\"./materials/planck_cosmic_pie.jpg\" alt=\"Cosmic Pie\"></a>"
   ]
  },
  {
   "cell_type": "markdown",
   "metadata": {},
   "source": [
    "If we know the energy and matter components of the Universe today:\n",
    "   * Cold Dark Matter density $\\Omega_c$ \n",
    "   * Baryonic (normal) matter density $\\Omega_b$\n",
    "   * Radiation density $\\Omega_r$\n",
    "we can write down the Hubble function as:\n",
    "$$ H(z) = H_0 * \\sqrt{(\\Omega_c(1+z)^3 + \\Omega_b(1+z)^3) + \\Omega_r(1+z)^4 + \\Omega_{\\Lambda}}$$"
   ]
  },
  {
   "cell_type": "markdown",
   "metadata": {},
   "source": [
    "where this mysterious component $\\Omega_{\\Lambda}$, is what we think is causing the accelerated expansion of the Universe and we think it comes from a *Cosmological constant*. In the general case where we are completely ignorant about it, we call it also \"Dark Energy\", for the lack of a better name."
   ]
  },
  {
   "cell_type": "markdown",
   "metadata": {},
   "source": [
    "If the Universe is flat, then $\\Omega_{\\Lambda}$ is defined by whatever we can't measure and it's simply given by: $$ \\Omega_{\\Lambda} = 1 - \\Omega_c - \\Omega_b - \\Omega_r $$"
   ]
  },
  {
   "cell_type": "markdown",
   "metadata": {},
   "source": [
    "> Let's code first this constraint:"
   ]
  },
  {
   "cell_type": "code",
   "execution_count": 8,
   "metadata": {},
   "outputs": [],
   "source": [
    "def Omega_L(Omega_c, Omega_b, Omega_r):\n",
    "    oL = 1 - Omega_c - Omega_b - Omega_r\n",
    "    return oL"
   ]
  },
  {
   "cell_type": "markdown",
   "metadata": {},
   "source": [
    "> Now let's write a function for $H(z)$. If you still don't know or haven't asked, $H_0$ is the rate of expansion of the universe today and it is measured in km/s/Mpc. Its value can be inferred in many ways, from the Cosmic Microwave Background, from Gravitational Lensing or by measuring the distance to Supernovae. Currently it is a <a href=\"https://astrobites.org/2019/07/12/h0ly-cow-a-new-measurement-of-the-hubble-constant/\" target=\"_blank\" >hot topic</a> in cosmology, since there are strong tensions in measurements from different probes.\n",
    "A value of $70$ km/s/Mpc, means that a galaxy at a distance of $1$Mpc from us, moves away from us at a speed of $70$km/s."
   ]
  },
  {
   "cell_type": "markdown",
   "metadata": {},
   "source": [
    "> To be fancy and practice some dictionary techniques, let's avoid defining so many arguments in the function and let's just pass a dictionary instead, that contains the cosmological parameters."
   ]
  },
  {
   "cell_type": "code",
   "execution_count": 9,
   "metadata": {},
   "outputs": [],
   "source": [
    "#import seaborn as sns\n",
    "#sns.set()"
   ]
  },
  {
   "cell_type": "markdown",
   "metadata": {},
   "source": [
    "> This function will return default parameters when nothing is passed and can return either all the cosmological parameters or a single one."
   ]
  },
  {
   "cell_type": "code",
   "execution_count": 10,
   "metadata": {},
   "outputs": [],
   "source": [
    "def cosmological_parameters(cosmo_pars, which='all'):\n",
    "    H0 = cosmo_pars.get('H0', 67.32)  # Planck 2018 cosmological parameters as default\n",
    "    Oc = cosmo_pars.get('Omega_c', 0.26641)\n",
    "    Ob = cosmo_pars.get('Omega_b', 0.04939)\n",
    "    Or = cosmo_pars.get('Omega_r', 0.0000930479)\n",
    "    Om = Ob+Oc\n",
    "    OL = Omega_L(Oc, Ob, Or)\n",
    "    default_dict = {'Omega_b': Ob, \n",
    "                    'Omega_c':Oc,\n",
    "                     'Omega_m': Om,\n",
    "                      'Omega_r':Or,\n",
    "                       'Omega_L':OL,\n",
    "                        'H0':H0}\n",
    "    if which=='all':\n",
    "        return H0, Oc, Ob, Or, Om, OL\n",
    "    else:                               # this code is prone to bugs if which is not a string or not a parameter\n",
    "        return default_dict[which]"
   ]
  },
  {
   "cell_type": "markdown",
   "metadata": {},
   "source": [
    "> Here we have used `dict.get()` instead of `dict['key']`, since `get('key', default)` allows us to define default values in case the keys are not present in the dictionary. And we have created a keyword argument for cosmo_pars, so we can evaluate $H(z)$ with a single redshift argument:"
   ]
  },
  {
   "cell_type": "code",
   "execution_count": 11,
   "metadata": {},
   "outputs": [],
   "source": [
    "def Hubble(z, cosmo_pars=dict({None:0})):\n",
    "    H0, Oc, Ob, Or, Om, OL = cosmological_parameters(cosmo_pars)\n",
    "    H = H0 * np.sqrt(Om*(1+z)**3 + Or*(1+z)**4 + OL)\n",
    "    return H"
   ]
  },
  {
   "cell_type": "code",
   "execution_count": 12,
   "metadata": {},
   "outputs": [
    {
     "data": {
      "text/plain": [
       "67.31999999999998"
      ]
     },
     "execution_count": 12,
     "metadata": {},
     "output_type": "execute_result"
    }
   ],
   "source": [
    "# Notice how we recover the default H_0 when we evaluate at z=0.\n",
    "Hubble(0.)"
   ]
  },
  {
   "cell_type": "markdown",
   "metadata": {},
   "source": [
    "Let's define a dictionary of cosmological parameters"
   ]
  },
  {
   "cell_type": "code",
   "execution_count": 13,
   "metadata": {},
   "outputs": [],
   "source": [
    "mycosmo = {'H0': 72, \n",
    "          'Omega_c':0.32,\n",
    "          'Omega_b':0.05}"
   ]
  },
  {
   "cell_type": "code",
   "execution_count": 14,
   "metadata": {},
   "outputs": [
    {
     "data": {
      "text/plain": [
       "71.99999999999999"
      ]
     },
     "execution_count": 14,
     "metadata": {},
     "output_type": "execute_result"
    }
   ],
   "source": [
    "# Now we get the H_0 we actually provided\n",
    "Hubble(0., mycosmo)"
   ]
  },
  {
   "cell_type": "markdown",
   "metadata": {},
   "source": [
    "> **Exercise 1**: Create your own cosmology and plot it next to `mycosmo` and the default Planck cosmology, using the colors `red`, `green` and `blue`, respectively. Change also the line styles (`'--', or '-' or ':'`) (You can use the `fmt` keywords or the `color` optional argument). Use a range in redshift from 0. to 10. Use linear scales for the plot `plot`. Hint: Copy as much as possible from the plotting code above."
   ]
  },
  {
   "cell_type": "markdown",
   "metadata": {},
   "source": [
    "## Matter, Radiation and Dark Energy densities as a function of time"
   ]
  },
  {
   "cell_type": "markdown",
   "metadata": {},
   "source": [
    "The density as a function of time of any of those components can be obtained with the Hubble function as follows: \n",
    "$$ \\Omega_i(z) = \\frac{H_0^2 \\Omega_i  (1+z)^p}{H^2(z)}$$ \n",
    "where $i$ is the component, and $p$ is the exponent corresponding to the specific component.\n",
    "For matter, $p=3$, for radiation, $p=4$, for the cosmological constant $p=0$."
   ]
  },
  {
   "cell_type": "markdown",
   "metadata": {},
   "source": [
    "Let's code this one up, by first creating a dictionary of exponents:"
   ]
  },
  {
   "cell_type": "code",
   "execution_count": 15,
   "metadata": {},
   "outputs": [],
   "source": [
    "cosmo_pexp = {'Omega_b': 3, \n",
    "          'Omega_c':3,\n",
    "          'Omega_m':3,\n",
    "             'Omega_r':4,\n",
    "             'Omega_L':0}"
   ]
  },
  {
   "cell_type": "code",
   "execution_count": 16,
   "metadata": {},
   "outputs": [],
   "source": [
    "def Omega_of_z(z, component='Omega_c', cosmo_pars=dict({None:0}) ):\n",
    "    O_generic = cosmological_parameters(cosmo_pars, which=component)\n",
    "    H0 = cosmological_parameters(cosmo_pars, which='H0')\n",
    "    p = cosmo_pexp[component]\n",
    "    O_of_z = (H0**2 * O_generic*(1+z)**p)/np.power(Hubble(z, cosmo_pars),2)\n",
    "    return O_of_z"
   ]
  },
  {
   "cell_type": "markdown",
   "metadata": {},
   "source": [
    "Let's check that the function works for a given array"
   ]
  },
  {
   "cell_type": "markdown",
   "metadata": {},
   "source": [
    "> Now let's plot the evolution of matter and radiation species as a function of redshift for two different cosmologies. For this we will use the subplot functionality. There are many ways of doing this, but the most common one is `plt.subplot(Rows, Cols, *kwargs) `, where some of the optional keyword arguments are for sharing axes or adjusting spaces. It will return a figure instance and an array of axis instances, which can be indexed."
   ]
  },
  {
   "cell_type": "code",
   "execution_count": 17,
   "metadata": {},
   "outputs": [],
   "source": [
    "z_arr = np.logspace(-3,2.5, 100)"
   ]
  },
  {
   "cell_type": "code",
   "execution_count": 18,
   "metadata": {},
   "outputs": [],
   "source": [
    "crazycosmo = {'H0': 75, \n",
    "          'Omega_c':0.58,\n",
    "          'Omega_b':0.06, \n",
    "           'Omega_r':0.005}"
   ]
  },
  {
   "cell_type": "code",
   "execution_count": 33,
   "metadata": {},
   "outputs": [
    {
     "data": {
      "image/png": "[encoded data removed]",
      "text/plain": [
       "<Figure size 1080x576 with 4 Axes>"
      ]
     },
     "metadata": {
      "needs_background": "light"
     },
     "output_type": "display_data"
    }
   ],
   "source": [
    "#return a figure object instance and an axis object instance\n",
    "fig, ax = plt.subplots(2, 2, sharey='row', sharex='col', figsize=(15,8))  #all plots in the same row, share the y-axis.\n",
    "\n",
    "# once you specify an axis, it is in this instance where plots are performed\n",
    "ax[0,0].semilogx(z_arr, Omega_of_z(z_arr, 'Omega_m'), '-', label='$\\Omega_m$', color='orange')  \n",
    "ax[0,0].semilogx(z_arr, Omega_of_z(z_arr, 'Omega_L'), '-.', label='$\\Omega_{\\Lambda}$', color='violet')\n",
    "ax[0,0].legend()\n",
    "ax[1,1].set_xlabel('redshift $z$', fontsize=15)   #notice the change from plt.xlabel() -> ax.set_xlabel()\n",
    "ax[1,0].set_xlabel('redshift $z$', fontsize=15)\n",
    "ax[0,1].semilogx(z_arr, Omega_of_z(z_arr, 'Omega_m', crazycosmo), '-', label='$\\Omega_m$', color='orange')  \n",
    "ax[0,1].semilogx(z_arr, Omega_of_z(z_arr, 'Omega_L', crazycosmo), '-.', label='$\\Omega_{\\Lambda}$', color='violet')\n",
    "ax[0,1].annotate('no dark energy domination', xy=(0.01,0.66), xytext=(3,0.4), \n",
    "                 arrowprops=dict(arrowstyle=\"->\", connectionstyle=\"angle3, angleA=0, angleB=90\"))\n",
    "ax[0,1].legend()\n",
    "ax[1,0].semilogx(z_arr, Omega_of_z(z_arr, 'Omega_c'), '-', label='$\\Omega_c$', color='darkorange')  \n",
    "ax[1,0].semilogx(z_arr, Omega_of_z(z_arr, 'Omega_r'), ':', label='$\\Omega_{r}$', color='darkblue')\n",
    "ax[1,0].legend()\n",
    "ax[1,1].set_xlabel('redshift $z$', fontsize=15)   #notice the change from plt.xlabel() -> ax.set_xlabel()\n",
    "ax[1,0].set_xlabel('redshift $z$', fontsize=15)\n",
    "ax[1,1].semilogx(z_arr, Omega_of_z(z_arr, 'Omega_c', crazycosmo), '-', label='$\\Omega_c$', color='darkorange')  \n",
    "ax[1,1].semilogx(z_arr, Omega_of_z(z_arr, 'Omega_r', crazycosmo), ':', label='$\\Omega_{r}$', color='darkblue')\n",
    "ax[1,1].legend()\n",
    "ax[1,1].annotate('radiation dominated era', xy=(200,0.66), xytext=(0.001,0.4), \n",
    "                 arrowprops=dict(arrowstyle=\"->\", connectionstyle=\"angle3, angleA=0, angleB=90\"))\n",
    "ax[1,1].set_xlabel('redshift $z$', fontsize=15)   #notice the change from plt.xlabel() -> ax.set_xlabel()\n",
    "ax[1,0].set_xlabel('redshift $z$', fontsize=15)   #notice that we only label the bottom 2 plots\n",
    "ax[0,0].set_ylabel('Fractional energy density $\\Omega_i$', fontsize=15)   #notice the change from plt.xlabel() -> ax.set_xlabel()\n",
    "ax[1,0].set_ylabel('Fractional energy density $\\Omega_i$', fontsize=15)   #notice that we only label the bottom 2 plots\n",
    "plt.show()"
   ]
  },
  {
   "cell_type": "code",
   "execution_count": 20,
   "metadata": {},
   "outputs": [],
   "source": [
    "## > Notice that despite matplotlib being a\n",
    "## really nice library, the standard settings\n",
    "#leave a very rough plot. A way to improve this quickly, is to use `seaborn`."
   ]
  },
  {
   "cell_type": "code",
   "execution_count": 21,
   "metadata": {},
   "outputs": [],
   "source": [
    "#import seaborn as sns\n",
    "#sns.set()"
   ]
  }
 ],
 "metadata": {
  "hide_input": false,
  "kernelspec": {
   "display_name": "Python py37",
   "language": "python",
   "name": "py37"
  },
  "language_info": {
   "codemirror_mode": {
    "name": "ipython",
    "version": 3
   },
   "file_extension": ".py",
   "mimetype": "text/x-python",
   "name": "python",
   "nbconvert_exporter": "python",
   "pygments_lexer": "ipython3",
   "version": "3.7.1"
  },
  "toc": {
   "base_numbering": 1,
   "nav_menu": {},
   "number_sections": true,
   "sideBar": true,
   "skip_h1_title": false,
   "title_cell": "Table of Contents",
   "title_sidebar": "Contents",
   "toc_cell": false,
   "toc_position": {},
   "toc_section_display": true,
   "toc_window_display": false
  }
 },
 "nbformat": 4,
 "nbformat_minor": 2
}

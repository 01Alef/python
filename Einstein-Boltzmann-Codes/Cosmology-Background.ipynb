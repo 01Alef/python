{
 "cells": [
  {
   "cell_type": "code",
   "execution_count": 2,
   "metadata": {},
   "outputs": [
    {
     "name": "stdout",
     "output_type": "stream",
     "text": [
      "Using CAMB 1.1.3 installed at /home/jovyan/.local/lib/python3.7/site-packages/camb\n"
     ]
    }
   ],
   "source": [
    "%matplotlib inline\n",
    "import sys, platform, os\n",
    "import matplotlib\n",
    "from matplotlib import pyplot as plt\n",
    "import numpy as np\n",
    "\n",
    "#Assume installed from github using \"git clone --recursive https://github.com/cmbant/CAMB.git\"\n",
    "#This file is then in the docs folders\n",
    "import camb as camb\n",
    "from camb import model, initialpower\n",
    "print('Using CAMB %s installed at %s'%(camb.__version__,os.path.dirname(camb.__file__)))"
   ]
  },
  {
   "cell_type": "code",
   "execution_count": 3,
   "metadata": {},
   "outputs": [],
   "source": [
    "import classy as classy\n",
    "from classy import Class"
   ]
  },
  {
   "cell_type": "code",
   "execution_count": 4,
   "metadata": {},
   "outputs": [
    {
     "name": "stdout",
     "output_type": "stream",
     "text": [
      "Using CLASS v2.9.3 installed at /opt/conda/lib/python3.7/site-packages\n"
     ]
    }
   ],
   "source": [
    "print('Using CLASS %s installed at %s'%(classy.__version__,os.path.dirname(classy.__file__)))"
   ]
  },
  {
   "cell_type": "code",
   "execution_count": 5,
   "metadata": {},
   "outputs": [],
   "source": [
    "from ipywidgets.widgets import *"
   ]
  },
  {
   "cell_type": "code",
   "execution_count": 32,
   "metadata": {},
   "outputs": [],
   "source": [
    "import sympy\n",
    "from sympy import cos, simplify, sin, sinh, tensorcontraction\n",
    "from einsteinpy.symbolic import EinsteinTensor, MetricTensor, RicciScalar\n",
    "sympy.init_printing()"
   ]
  },
  {
   "cell_type": "code",
   "execution_count": 137,
   "metadata": {},
   "outputs": [],
   "source": [
    "from IPython.display import Markdown, display"
   ]
  },
  {
   "cell_type": "code",
   "execution_count": 207,
   "metadata": {},
   "outputs": [],
   "source": [
    "def printmd(string, color='black', math=False, fmt='header2'):\n",
    "    if math==True:\n",
    "        mstring = string\n",
    "    elif math==False:\n",
    "        mstring=\"\\\\textrm{\"+string+\"}\"\n",
    "    #colorstr = \"<span style='color:{}'>{}</span>\".format(color, string)\n",
    "    fmtstr = \"${\\\\color{\"+color+\"}{\"+mstring+\"}}$\"\n",
    "    \n",
    "    if fmt=='header2':\n",
    "        fmtstr=\"## \"+fmtstr\n",
    "    if fmt=='header1':\n",
    "        fmtstr=\"# \"+fmtstr\n",
    "    display(Markdown(fmtstr))\n",
    "    return None"
   ]
  },
  {
   "cell_type": "markdown",
   "metadata": {},
   "source": [
    "# Cosmology"
   ]
  },
  {
   "cell_type": "markdown",
   "metadata": {},
   "source": [
    "## General Relativity in 5min with EinsteinPy"
   ]
  },
  {
   "cell_type": "code",
   "execution_count": 116,
   "metadata": {},
   "outputs": [],
   "source": [
    "G_00, T_00, G, rho = sympy.symbols(\"G_{00} T_{00} G \\\\rho\")"
   ]
  },
  {
   "cell_type": "code",
   "execution_count": 117,
   "metadata": {},
   "outputs": [
    {
     "data": {
      "image/png": "[encoded data removed]",
      "text/latex": [
       "$\\displaystyle G_{00} = 8 \\pi G T_{00}$"
      ],
      "text/plain": [
       "G_{00} = 8⋅π⋅G⋅T_{00}"
      ]
     },
     "execution_count": 117,
     "metadata": {},
     "output_type": "execute_result"
    }
   ],
   "source": [
    "einst_eq = sympy.Eq( G_00, 8 * sympy.pi * G * T_00 )\n",
    "einst_eq"
   ]
  },
  {
   "cell_type": "code",
   "execution_count": 118,
   "metadata": {},
   "outputs": [],
   "source": [
    "syms = sympy.symbols(\"t x y z\")\n",
    "t, x, y, z = syms"
   ]
  },
  {
   "cell_type": "code",
   "execution_count": 119,
   "metadata": {},
   "outputs": [],
   "source": [
    "a = sympy.Function(\"a\")"
   ]
  },
  {
   "cell_type": "code",
   "execution_count": 120,
   "metadata": {},
   "outputs": [],
   "source": [
    "m = sympy.diag(-1, a(t)**2, a(t)**2, a(t)** 2).tolist()\n",
    "metric = MetricTensor(m, syms)"
   ]
  },
  {
   "cell_type": "code",
   "execution_count": 121,
   "metadata": {},
   "outputs": [
    {
     "data": {
      "image/png": "[encoded data removed]",
      "text/latex": [
       "$\\displaystyle \\left[\\begin{matrix}-1 & 0 & 0 & 0\\\\0 & a^{2}{\\left(t \\right)} & 0 & 0\\\\0 & 0 & a^{2}{\\left(t \\right)} & 0\\\\0 & 0 & 0 & a^{2}{\\left(t \\right)}\\end{matrix}\\right]$"
      ],
      "text/plain": [
       "⎡-1    0      0      0  ⎤\n",
       "⎢                       ⎥\n",
       "⎢     2                 ⎥\n",
       "⎢0   a (t)    0      0  ⎥\n",
       "⎢                       ⎥\n",
       "⎢            2          ⎥\n",
       "⎢0     0    a (t)    0  ⎥\n",
       "⎢                       ⎥\n",
       "⎢                   2   ⎥\n",
       "⎣0     0      0    a (t)⎦"
      ]
     },
     "execution_count": 121,
     "metadata": {},
     "output_type": "execute_result"
    }
   ],
   "source": [
    "metric.tensor()"
   ]
  },
  {
   "cell_type": "code",
   "execution_count": 122,
   "metadata": {},
   "outputs": [
    {
     "data": {
      "image/png": "[encoded data removed]",
      "text/latex": [
       "$\\displaystyle \\left[\\begin{matrix}\\frac{3.0 \\left(\\frac{d}{d t} a{\\left(t \\right)}\\right)^{2}}{a^{2}{\\left(t \\right)}} & 0 & 0 & 0\\\\0 & - 2.0 a{\\left(t \\right)} \\frac{d^{2}}{d t^{2}} a{\\left(t \\right)} - 1.0 \\left(\\frac{d}{d t} a{\\left(t \\right)}\\right)^{2} & 0 & 0\\\\0 & 0 & - 2.0 a{\\left(t \\right)} \\frac{d^{2}}{d t^{2}} a{\\left(t \\right)} - 1.0 \\left(\\frac{d}{d t} a{\\left(t \\right)}\\right)^{2} & 0\\\\0 & 0 & 0 & - 2.0 a{\\left(t \\right)} \\frac{d^{2}}{d t^{2}} a{\\left(t \\right)} - 1.0 \\left(\\frac{d}{d t} a{\\left(t \\right)}\\right)^{2}\\end{matrix}\\right]$"
      ],
      "text/plain": [
       "⎡              2                                                              \n",
       "⎢    ⎛d       ⎞                                                               \n",
       "⎢3.0⋅⎜──(a(t))⎟                                                               \n",
       "⎢    ⎝dt      ⎠                                                               \n",
       "⎢───────────────                    0                                       0 \n",
       "⎢      2                                                                      \n",
       "⎢     a (t)                                                                   \n",
       "⎢                                                                             \n",
       "⎢                              2                       2                      \n",
       "⎢                             d              ⎛d       ⎞                       \n",
       "⎢       0         - 2.0⋅a(t)⋅───(a(t)) - 1.0⋅⎜──(a(t))⎟                     0 \n",
       "⎢                              2             ⎝dt      ⎠                       \n",
       "⎢                            dt                                               \n",
       "⎢                                                                             \n",
       "⎢                                                                      2      \n",
       "⎢                                                                     d       \n",
       "⎢       0                           0                     - 2.0⋅a(t)⋅───(a(t))\n",
       "⎢                                                                      2      \n",
       "⎢                                                                    dt       \n",
       "⎢                                                                             \n",
       "⎢                                                                             \n",
       "⎢                                                                             \n",
       "⎢       0                           0                                       0 \n",
       "⎢                                                                             \n",
       "⎣                                                                             \n",
       "\n",
       "                                                          ⎤\n",
       "                                                          ⎥\n",
       "                                                          ⎥\n",
       "                                                          ⎥\n",
       "                                      0                   ⎥\n",
       "                                                          ⎥\n",
       "                                                          ⎥\n",
       "                                                          ⎥\n",
       "                                                          ⎥\n",
       "                                                          ⎥\n",
       "                                      0                   ⎥\n",
       "                                                          ⎥\n",
       "                                                          ⎥\n",
       "                                                          ⎥\n",
       "                 2                                        ⎥\n",
       "       ⎛d       ⎞                                         ⎥\n",
       " - 1.0⋅⎜──(a(t))⎟                     0                   ⎥\n",
       "       ⎝dt      ⎠                                         ⎥\n",
       "                                                          ⎥\n",
       "                                                          ⎥\n",
       "                                 2                       2⎥\n",
       "                                d              ⎛d       ⎞ ⎥\n",
       "                    - 2.0⋅a(t)⋅───(a(t)) - 1.0⋅⎜──(a(t))⎟ ⎥\n",
       "                                 2             ⎝dt      ⎠ ⎥\n",
       "                               dt                         ⎦"
      ]
     },
     "execution_count": 122,
     "metadata": {},
     "output_type": "execute_result"
    }
   ],
   "source": [
    "einst = EinsteinTensor.from_metric(metric)\n",
    "einst.simplify()"
   ]
  },
  {
   "cell_type": "code",
   "execution_count": 123,
   "metadata": {},
   "outputs": [
    {
     "data": {
      "image/png": "[encoded data removed]",
      "text/latex": [
       "$\\displaystyle H = \\frac{\\frac{d}{d t} a{\\left(t \\right)}}{a{\\left(t \\right)}}$"
      ],
      "text/plain": [
       "    d       \n",
       "    ──(a(t))\n",
       "    dt      \n",
       "H = ────────\n",
       "      a(t)  "
      ]
     },
     "execution_count": 123,
     "metadata": {},
     "output_type": "execute_result"
    }
   ],
   "source": [
    "sympy.Eq( H, sympy.Derivative(a(t), t)/a(t) )"
   ]
  },
  {
   "cell_type": "code",
   "execution_count": 124,
   "metadata": {},
   "outputs": [],
   "source": [
    "H = sympy.symbols(\"H\")"
   ]
  },
  {
   "cell_type": "code",
   "execution_count": 130,
   "metadata": {},
   "outputs": [
    {
     "data": {
      "image/png": "[encoded data removed]",
      "text/latex": [
       "$\\displaystyle 3.0 H^{2}$"
      ],
      "text/plain": [
       "     2\n",
       "3.0⋅H "
      ]
     },
     "execution_count": 130,
     "metadata": {},
     "output_type": "execute_result"
    }
   ],
   "source": [
    "G_00s = einst[0,0]\n",
    "G_00s = G_00s.subs(sympy.Derivative(a(t), t)/a(t), H)\n",
    "G_00s"
   ]
  },
  {
   "cell_type": "code",
   "execution_count": 133,
   "metadata": {},
   "outputs": [
    {
     "data": {
      "image/png": "[encoded data removed]",
      "text/latex": [
       "$\\displaystyle T_{00} = \\rho$"
      ],
      "text/plain": [
       "T_{00} = \\rho"
      ]
     },
     "execution_count": 133,
     "metadata": {},
     "output_type": "execute_result"
    }
   ],
   "source": [
    "energy_momentum = sympy.Eq(  T_00, rho )\n",
    "energy_momentum"
   ]
  },
  {
   "cell_type": "code",
   "execution_count": 135,
   "metadata": {},
   "outputs": [
    {
     "data": {
      "image/png": "[encoded data removed]",
      "text/latex": [
       "$\\displaystyle 3.0 H^{2} = 8 \\pi G \\rho$"
      ],
      "text/plain": [
       "     2             \n",
       "3.0⋅H  = 8⋅π⋅G⋅\\rho"
      ]
     },
     "execution_count": 135,
     "metadata": {},
     "output_type": "execute_result"
    }
   ],
   "source": [
    "einst_eq.subs(G_00, G_00s).subs(T_00, rho)"
   ]
  },
  {
   "cell_type": "markdown",
   "metadata": {},
   "source": [
    "If we now define $\\rho_{cr} \\equiv 3 H^2_0/8 \\pi G$, so that when dividing both sides by $H_0$ we get the famous Hubble equation:"
   ]
  },
  {
   "cell_type": "markdown",
   "metadata": {},
   "source": [
    "$$ \\large\n",
    "\\begin{align}\n",
    "H^2(t) & = H^2_0 \\frac{\\rho(t) }{ \\rho_{cr}} \\\\\n",
    "\\end{align}\n",
    "$$\n",
    "\n",
    "If the Universe is composed of multiple species, like baryons, cold dark matter, radiation and so on, then \n",
    "$\\rho$ is a sum over all those components and we can define the energy density fractions $\\Omega$ as:\n",
    "\n",
    "$$ \\large\n",
    "\\begin{align}\n",
    "\\Omega_i(t) & = \\frac{\\rho(t) }{ \\rho_{cr}} \\\\\n",
    "\\end{align}\n",
    "$$\n",
    "\n",
    "Which simplifies the so-called Hubble equation to:\n",
    "$$ \\large\n",
    "\\begin{align}\n",
    "H^2(t) & = H^2_0 \\sum_i{\\Omega_i(t)}\n",
    "\\end{align}\n",
    "$$"
   ]
  },
  {
   "cell_type": "markdown",
   "metadata": {},
   "source": [
    "# CAMB"
   ]
  },
  {
   "cell_type": "code",
   "execution_count": 14,
   "metadata": {},
   "outputs": [],
   "source": [
    "hubble=0.67\n",
    "omegab=0.05\n",
    "omegam=0.32\n",
    "A_s=2.12605e-9\n",
    "n_s = 0.96\n",
    "gamma=0.55\n",
    "m_nu=0.06 #eV, default CAMB -> 1 massive neutrino, N_eff=3.046, degenerate, nnu=3.046, TCMB=2.7255\n",
    "w_0 = -1 #LCDM\n",
    "w_a = 0 #LCDM"
   ]
  },
  {
   "cell_type": "code",
   "execution_count": 15,
   "metadata": {},
   "outputs": [],
   "source": [
    "#Set up a new set of parameters for CAMB\n",
    "pars = camb.CAMBparams()\n",
    "#This function sets up CosmoMC-like settings, with one massive neutrino and helium set using BBN consistency\n",
    "pars.set_cosmology(H0=67.5, ombh2=0.022, omch2=0.122, mnu=0.06, omk=0, tau=0.06)\n",
    "pars.InitPower.set_params(As=2e-9, ns=0.965, r=0)\n",
    "pars.set_for_lmax(2500, lens_potential_accuracy=0);"
   ]
  },
  {
   "cell_type": "code",
   "execution_count": 12,
   "metadata": {},
   "outputs": [],
   "source": [
    "#plt.loglog(ki,pow_lin[0,:],'--p', ms=3, label='linear'+', z='+'{:.2}'.format(z[0]))\n",
    "#plt.loglog(camb_1.kh,camb_1.pk[0,:],'--r', label='nonlinear'+', z='+'{:.2}'.format(z[0]))\n",
    "#\n",
    "#plt.loglog(ki,pow_nonlin[2,:],'--p', ms=3, label='nonlinear'+', z='+'{:.2}'.format(z[2]))\n",
    "#plt.loglog(camb_2.kh,camb_2.pk[2,:],':c', label='linear'+', z='+'{:.2}'.format(z[2]))\n",
    "\n",
    "#plt.legend()\n",
    "\n",
    "#plt.ylabel(r'$P(k)$ in $[\\rm{Mpc}/h]^{3}$')\n",
    "#plt.xlabel('$k$ in $h/$Mpc')\n",
    "#plt.ylim(1,30000)"
   ]
  },
  {
   "cell_type": "code",
   "execution_count": 16,
   "metadata": {},
   "outputs": [
    {
     "name": "stdout",
     "output_type": "stream",
     "text": [
      "Note: redshifts have been re-sorted (earliest first)\n"
     ]
    }
   ],
   "source": [
    "results = camb.get_results(pars)\n",
    "#Now get matter power spectra and sigma8 at redshift 0 and 0.8\n",
    "pars = camb.CAMBparams()\n",
    "pars.set_cosmology(H0=67.5, ombh2=0.022, omch2=0.122)\n",
    "pars.InitPower.set_params(ns=0.965)\n",
    "#Note non-linear corrections couples to smaller scales than you want\n",
    "pars.set_matter_power(redshifts=[0., 0.8], kmax=2.0)\n",
    "\n",
    "#Linear spectra\n",
    "pars.NonLinear = model.NonLinear_none\n",
    "results = camb.get_results(pars)\n",
    "kh, z, pk = results.get_matter_power_spectrum(minkh=1e-4, maxkh=1, npoints = 200)\n",
    "s8 = np.array(results.get_sigma8())\n",
    "\n",
    "#Non-Linear spectra (Halofit)\n",
    "pars.NonLinear = model.NonLinear_both\n",
    "results.calc_power_spectra(pars)\n",
    "kh_nonlin, z_nonlin, pk_nonlin = results.get_matter_power_spectrum(minkh=1e-4, maxkh=1, npoints = 200)"
   ]
  },
  {
   "cell_type": "code",
   "execution_count": 17,
   "metadata": {},
   "outputs": [
    {
     "data": {
      "image/png": "[encoded data removed]",
      "text/plain": [
       "<Figure size 432x288 with 1 Axes>"
      ]
     },
     "metadata": {
      "needs_background": "light"
     },
     "output_type": "display_data"
    }
   ],
   "source": [
    "for i, (redshift, line) in enumerate(zip(z,['-','--'])):\n",
    "    plt.loglog(kh, pk[i,:], color='k', ls = line)\n",
    "    plt.loglog(kh_nonlin, pk_nonlin[i,:], color='r', ls = line)\n",
    "plt.xlabel('k/h Mpc');\n",
    "plt.legend(['linear','non-linear'], loc='lower left');\n",
    "plt.title('Matter power at z=%s and z= %s'%tuple(z));"
   ]
  },
  {
   "cell_type": "markdown",
   "metadata": {},
   "source": [
    "# CLASS"
   ]
  },
  {
   "cell_type": "code",
   "execution_count": 18,
   "metadata": {},
   "outputs": [],
   "source": [
    "from classy import Class\n",
    "\n",
    "# Define your cosmology (what is not specified will be set to CLASS default parameters)\n",
    "params = {\n",
    "    'output': 'tCl lCl',\n",
    "    'l_max_scalars': 2000,\n",
    "    'lensing': 'yes',\n",
    "    'A_s': 2.3e-9,\n",
    "    'n_s': 0.9624, \n",
    "    'h': 0.6711,\n",
    "    'omega_b': 0.022068,\n",
    "    'omega_cdm': 0.12029}\n",
    "\n",
    "# Create an instance of the CLASS wrapper\n",
    "cosmo = Class()\n",
    "\n",
    "# Set the parameters to the cosmological code\n",
    "cosmo.set(params)\n",
    "\n",
    "# Run the whole code. Depending on your output, it will call the\n",
    "# CLASS modules more or less fast. For instance, without any\n",
    "# output asked, CLASS will only compute background quantities,\n",
    "# thus running almost instantaneously.\n",
    "# This is equivalent to the beginning of the `main` routine of CLASS,\n",
    "# with all the struct_init() methods called.\n",
    "cosmo.compute()\n",
    "\n",
    "# Access the lensed cl until l=2000\n",
    "cls = cosmo.lensed_cl(2000)"
   ]
  },
  {
   "cell_type": "code",
   "execution_count": 23,
   "metadata": {},
   "outputs": [
    {
     "data": {
      "text/plain": [
       "array([0.00000000e+00, 0.00000000e+00, 5.21007405e-10, ...,\n",
       "       1.71932275e-22, 1.71736815e-22, 1.71533384e-22])"
      ]
     },
     "execution_count": 23,
     "metadata": {},
     "output_type": "execute_result"
    }
   ],
   "source": [
    "cls['tp']"
   ]
  },
  {
   "cell_type": "code",
   "execution_count": 27,
   "metadata": {},
   "outputs": [
    {
     "data": {
      "text/plain": [
       "(10, 10000)"
      ]
     },
     "execution_count": 27,
     "metadata": {},
     "output_type": "execute_result"
    },
    {
     "data": {
      "image/png": "[encoded data removed]",
      "text/plain": [
       "<Figure size 432x288 with 1 Axes>"
      ]
     },
     "metadata": {
      "needs_background": "light"
     },
     "output_type": "display_data"
    }
   ],
   "source": [
    "\n",
    "plt.loglog(cls['ell'], cls['tp'], color='k')\n",
    "plt.loglog(cls['ell'], cls['tt'], color='r')\n",
    "plt.xlim(10,10000)\n",
    "#plt.xlabel('k/h Mpc');\n",
    "#plt.legend(['linear','non-linear'], loc='lower left');\n",
    "#lt.title('Matter power at z=%s and z= %s'%tuple(z));"
   ]
  },
  {
   "cell_type": "code",
   "execution_count": 28,
   "metadata": {},
   "outputs": [],
   "source": [
    "# Print on screen to see the output\n",
    "#print(cls)\n",
    "# It is a dictionnary that contains the fields: tt, te, ee, bb, pp, tp\n",
    "\n",
    "# plot something with matplotlib...\n",
    "\n",
    "# Clean CLASS (the equivalent of the struct_free() in the `main`\n",
    "# of CLASS. This step is primordial when running in a loop over different\n",
    "# cosmologies, as you will saturate your memory very fast if you ommit\n",
    "# it.\n",
    "cosmo.struct_cleanup()\n",
    "\n",
    "# If you want to change completely the cosmology, you should also\n",
    "# clean the arguments, otherwise, if you are simply running on a loop\n",
    "# of different values for the same parameters, this step is not needed\n",
    "cosmo.empty()"
   ]
  },
  {
   "cell_type": "code",
   "execution_count": null,
   "metadata": {},
   "outputs": [],
   "source": []
  }
 ],
 "metadata": {
  "hide_input": false,
  "kernelspec": {
   "display_name": "Python 3",
   "language": "python",
   "name": "python3"
  },
  "language_info": {
   "codemirror_mode": {
    "name": "ipython",
    "version": 3
   },
   "file_extension": ".py",
   "mimetype": "text/x-python",
   "name": "python",
   "nbconvert_exporter": "python",
   "pygments_lexer": "ipython3",
   "version": "3.7.6"
  },
  "toc": {
   "base_numbering": 1,
   "nav_menu": {},
   "number_sections": true,
   "sideBar": true,
   "skip_h1_title": false,
   "title_cell": "Table of Contents",
   "title_sidebar": "Contents",
   "toc_cell": false,
   "toc_position": {},
   "toc_section_display": true,
   "toc_window_display": false
  }
 },
 "nbformat": 4,
 "nbformat_minor": 2
}

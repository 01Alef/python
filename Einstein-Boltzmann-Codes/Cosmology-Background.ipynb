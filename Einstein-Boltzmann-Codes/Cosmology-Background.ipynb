{
 "cells": [
  {
   "cell_type": "code",
   "execution_count": 1,
   "metadata": {},
   "outputs": [],
   "source": [
    "%matplotlib inline\n",
    "import sys, platform, os\n",
    "import matplotlib\n",
    "from matplotlib import pyplot as plt\n",
    "import numpy as np\n",
    "import scipy as sci"
   ]
  },
  {
   "cell_type": "code",
   "execution_count": 2,
   "metadata": {},
   "outputs": [
    {
     "name": "stdout",
     "output_type": "stream",
     "text": [
      "Using CAMB 1.1.3 installed at /home/jovyan/.local/lib/python3.7/site-packages/camb\n"
     ]
    }
   ],
   "source": [
    "import camb as camb\n",
    "from camb import model, initialpower\n",
    "print('Using CAMB %s installed at %s'%(camb.__version__,os.path.dirname(camb.__file__)))"
   ]
  },
  {
   "cell_type": "code",
   "execution_count": 3,
   "metadata": {},
   "outputs": [
    {
     "name": "stdout",
     "output_type": "stream",
     "text": [
      "Using CLASS v2.9.3 installed at /opt/conda/lib/python3.7/site-packages\n"
     ]
    }
   ],
   "source": [
    "import classy as classy\n",
    "from classy import Class\n",
    "print('Using CLASS %s installed at %s'%(classy.__version__,os.path.dirname(classy.__file__)))"
   ]
  },
  {
   "cell_type": "code",
   "execution_count": 4,
   "metadata": {},
   "outputs": [],
   "source": [
    "from ipywidgets.widgets import *"
   ]
  },
  {
   "cell_type": "code",
   "execution_count": 5,
   "metadata": {},
   "outputs": [],
   "source": [
    "import sympy\n",
    "from sympy import cos, simplify, sin, sinh, tensorcontraction\n",
    "from einsteinpy.symbolic import EinsteinTensor, MetricTensor, RicciScalar\n",
    "sympy.init_printing()"
   ]
  },
  {
   "cell_type": "code",
   "execution_count": 6,
   "metadata": {},
   "outputs": [],
   "source": [
    "from IPython.display import Markdown, display"
   ]
  },
  {
   "cell_type": "code",
   "execution_count": 7,
   "metadata": {},
   "outputs": [],
   "source": [
    "def printmd(string, color='black', math=False, fmt='header2'):\n",
    "    if math==True:\n",
    "        mstring = string\n",
    "    elif math==False:\n",
    "        mstring=\"\\\\textrm{\"+string+\"}\"\n",
    "    #colorstr = \"<span style='color:{}'>{}</span>\".format(color, string)\n",
    "    fmtstr = \"${\\\\color{\"+color+\"}{\"+mstring+\"}}$\"\n",
    "    \n",
    "    if fmt=='header2':\n",
    "        fmtstr=\"## \"+fmtstr\n",
    "    if fmt=='header1':\n",
    "        fmtstr=\"# \"+fmtstr\n",
    "    display(Markdown(fmtstr))\n",
    "    return None"
   ]
  },
  {
   "cell_type": "markdown",
   "metadata": {},
   "source": [
    "# Cosmology"
   ]
  },
  {
   "cell_type": "markdown",
   "metadata": {},
   "source": [
    "# The Einstein part of the Einstein-Boltzmann codes"
   ]
  },
  {
   "cell_type": "markdown",
   "metadata": {},
   "source": [
    "Einstein-Boltzmann codes solve essentially the Boltzmann equation in a space-time that is given by Einstein's field equations of General Relativity."
   ]
  },
  {
   "cell_type": "markdown",
   "metadata": {},
   "source": [
    "We will see more about the Boltzmann equation in the next section, which is just an equation that describes the phase-space evolution (position and momenta) of particles."
   ]
  },
  {
   "cell_type": "markdown",
   "metadata": {},
   "source": [
    "On the other hand, General Relativty describes the interaction between the geometry of spacetime and the\n",
    "energy-momentum of matter."
   ]
  },
  {
   "cell_type": "markdown",
   "metadata": {},
   "source": [
    "$$ \\large\n",
    "\\begin{align}\\label{eq:Einstein-field-equations}\n",
    "G_{\\mu \\nu} +  \\Lambda g_{\\mu \\nu} = 8 \\pi G T_{\\mu \\nu} \n",
    "\\end{align}\n",
    "$$"
   ]
  },
  {
   "cell_type": "markdown",
   "metadata": {},
   "source": [
    "Einstein's field equations are basically a set of coupled partial differential equations of components of the metric $ \\large g_{\\mu \\nu}$. The metric defines the geometry of the space-time manifold."
   ]
  },
  {
   "cell_type": "markdown",
   "metadata": {},
   "source": [
    "On the left hand side we have the Einstein tensor $ G_{\\mu \\nu} \\equiv R_{\\mu \\nu} - \\frac{1}{2}g_{\\mu \\nu} R $ , where the Riemann tensor and Ricci scalar are complicated functions of the metric and its derivatives.\n",
    "Besides, we have $\\Lambda$, which is a free constant parameter allowed by the theory, but which we now think is responsible for the accelerated expansion of the Universe."
   ]
  },
  {
   "cell_type": "markdown",
   "metadata": {},
   "source": [
    "The right hand side, with the tensor $ T_{\\mu \\nu} $ describes the energy and momentum of matter, a fluid, particles or the object in question (for example a star)."
   ]
  },
  {
   "cell_type": "markdown",
   "metadata": {},
   "source": [
    "## General Relativity in 5min with EinsteinPy"
   ]
  },
  {
   "cell_type": "markdown",
   "metadata": {},
   "source": [
    "Let's calculate the behavior of the \"scale factor\" of the Universe, that the Einstein equations predict, for a homogeneous and isotropic Universe filled with a perfect fluid."
   ]
  },
  {
   "cell_type": "code",
   "execution_count": 8,
   "metadata": {},
   "outputs": [],
   "source": [
    "G_00, T_00, G, rho = sympy.symbols(\"G_{00} T_{00} G \\\\rho\")"
   ]
  },
  {
   "cell_type": "markdown",
   "metadata": {},
   "source": [
    "The 00-component of the Einstein tensor:"
   ]
  },
  {
   "cell_type": "code",
   "execution_count": 9,
   "metadata": {},
   "outputs": [
    {
     "data": {
      "image/png": "[encoded data removed]",
      "text/latex": [
       "$\\displaystyle G_{00} = 8 \\pi G T_{00}$"
      ],
      "text/plain": [
       "G_{00} = 8⋅π⋅G⋅T_{00}"
      ]
     },
     "execution_count": 9,
     "metadata": {},
     "output_type": "execute_result"
    }
   ],
   "source": [
    "einst_eq = sympy.Eq( G_00, 8 * sympy.pi * G * T_00 )\n",
    "einst_eq"
   ]
  },
  {
   "cell_type": "markdown",
   "metadata": {},
   "source": [
    "The energy-momentum tensor of a perfect fluid:"
   ]
  },
  {
   "cell_type": "code",
   "execution_count": 10,
   "metadata": {},
   "outputs": [
    {
     "data": {
      "image/png": "[encoded data removed]",
      "text/latex": [
       "$\\displaystyle T_{00} = \\rho$"
      ],
      "text/plain": [
       "T_{00} = \\rho"
      ]
     },
     "execution_count": 10,
     "metadata": {},
     "output_type": "execute_result"
    }
   ],
   "source": [
    "energy_momentum = sympy.Eq(T_00, rho)\n",
    "energy_momentum"
   ]
  },
  {
   "cell_type": "code",
   "execution_count": 11,
   "metadata": {},
   "outputs": [],
   "source": [
    "syms = sympy.symbols(\"t x y z\")\n",
    "t, x, y, z = syms"
   ]
  },
  {
   "cell_type": "code",
   "execution_count": 12,
   "metadata": {},
   "outputs": [],
   "source": [
    "a = sympy.Function(\"a\")  ##scale factor"
   ]
  },
  {
   "cell_type": "markdown",
   "metadata": {},
   "source": [
    "The line element of a homogeneous and isotropic Universe with no curvature. The metric elements are the coefficients in front of the coordinates."
   ]
  },
  {
   "cell_type": "markdown",
   "metadata": {},
   "source": [
    "$$\n",
    "\\begin{align}\n",
    "ds^2 & = g_{\\mu \\nu} dx^\\mu dx^\\nu = -dt^2 + a^2 (t) (dx^2 + dy^2 + dz^2)  \n",
    "\\end{align}\n",
    "$$"
   ]
  },
  {
   "cell_type": "code",
   "execution_count": 13,
   "metadata": {},
   "outputs": [],
   "source": [
    "m = sympy.diag(-1, a(t)**2, a(t)**2, a(t)** 2).tolist()\n",
    "metric = MetricTensor(m, syms)"
   ]
  },
  {
   "cell_type": "code",
   "execution_count": 14,
   "metadata": {},
   "outputs": [
    {
     "data": {
      "image/png": "[encoded data removed]",
      "text/latex": [
       "$\\displaystyle \\left[\\begin{matrix}-1 & 0 & 0 & 0\\\\0 & a^{2}{\\left(t \\right)} & 0 & 0\\\\0 & 0 & a^{2}{\\left(t \\right)} & 0\\\\0 & 0 & 0 & a^{2}{\\left(t \\right)}\\end{matrix}\\right]$"
      ],
      "text/plain": [
       "⎡-1    0      0      0  ⎤\n",
       "⎢                       ⎥\n",
       "⎢     2                 ⎥\n",
       "⎢0   a (t)    0      0  ⎥\n",
       "⎢                       ⎥\n",
       "⎢            2          ⎥\n",
       "⎢0     0    a (t)    0  ⎥\n",
       "⎢                       ⎥\n",
       "⎢                   2   ⎥\n",
       "⎣0     0      0    a (t)⎦"
      ]
     },
     "execution_count": 14,
     "metadata": {},
     "output_type": "execute_result"
    }
   ],
   "source": [
    "metric.tensor()"
   ]
  },
  {
   "cell_type": "code",
   "execution_count": 15,
   "metadata": {},
   "outputs": [
    {
     "data": {
      "image/png": "[encoded data removed]",
      "text/latex": [
       "$\\displaystyle \\left[\\begin{matrix}\\frac{3.0 \\left(\\frac{d}{d t} a{\\left(t \\right)}\\right)^{2}}{a^{2}{\\left(t \\right)}} & 0 & 0 & 0\\\\0 & - 2.0 a{\\left(t \\right)} \\frac{d^{2}}{d t^{2}} a{\\left(t \\right)} - 1.0 \\left(\\frac{d}{d t} a{\\left(t \\right)}\\right)^{2} & 0 & 0\\\\0 & 0 & - 2.0 a{\\left(t \\right)} \\frac{d^{2}}{d t^{2}} a{\\left(t \\right)} - 1.0 \\left(\\frac{d}{d t} a{\\left(t \\right)}\\right)^{2} & 0\\\\0 & 0 & 0 & - 2.0 a{\\left(t \\right)} \\frac{d^{2}}{d t^{2}} a{\\left(t \\right)} - 1.0 \\left(\\frac{d}{d t} a{\\left(t \\right)}\\right)^{2}\\end{matrix}\\right]$"
      ],
      "text/plain": [
       "⎡              2                                                              \n",
       "⎢    ⎛d       ⎞                                                               \n",
       "⎢3.0⋅⎜──(a(t))⎟                                                               \n",
       "⎢    ⎝dt      ⎠                                                               \n",
       "⎢───────────────                    0                                       0 \n",
       "⎢      2                                                                      \n",
       "⎢     a (t)                                                                   \n",
       "⎢                                                                             \n",
       "⎢                              2                       2                      \n",
       "⎢                             d              ⎛d       ⎞                       \n",
       "⎢       0         - 2.0⋅a(t)⋅───(a(t)) - 1.0⋅⎜──(a(t))⎟                     0 \n",
       "⎢                              2             ⎝dt      ⎠                       \n",
       "⎢                            dt                                               \n",
       "⎢                                                                             \n",
       "⎢                                                                      2      \n",
       "⎢                                                                     d       \n",
       "⎢       0                           0                     - 2.0⋅a(t)⋅───(a(t))\n",
       "⎢                                                                      2      \n",
       "⎢                                                                    dt       \n",
       "⎢                                                                             \n",
       "⎢                                                                             \n",
       "⎢                                                                             \n",
       "⎢       0                           0                                       0 \n",
       "⎢                                                                             \n",
       "⎣                                                                             \n",
       "\n",
       "                                                          ⎤\n",
       "                                                          ⎥\n",
       "                                                          ⎥\n",
       "                                                          ⎥\n",
       "                                      0                   ⎥\n",
       "                                                          ⎥\n",
       "                                                          ⎥\n",
       "                                                          ⎥\n",
       "                                                          ⎥\n",
       "                                                          ⎥\n",
       "                                      0                   ⎥\n",
       "                                                          ⎥\n",
       "                                                          ⎥\n",
       "                                                          ⎥\n",
       "                 2                                        ⎥\n",
       "       ⎛d       ⎞                                         ⎥\n",
       " - 1.0⋅⎜──(a(t))⎟                     0                   ⎥\n",
       "       ⎝dt      ⎠                                         ⎥\n",
       "                                                          ⎥\n",
       "                                                          ⎥\n",
       "                                 2                       2⎥\n",
       "                                d              ⎛d       ⎞ ⎥\n",
       "                    - 2.0⋅a(t)⋅───(a(t)) - 1.0⋅⎜──(a(t))⎟ ⎥\n",
       "                                 2             ⎝dt      ⎠ ⎥\n",
       "                               dt                         ⎦"
      ]
     },
     "execution_count": 15,
     "metadata": {},
     "output_type": "execute_result"
    }
   ],
   "source": [
    "einst = EinsteinTensor.from_metric(metric)\n",
    "einst.simplify()"
   ]
  },
  {
   "cell_type": "code",
   "execution_count": 16,
   "metadata": {},
   "outputs": [],
   "source": [
    "H = sympy.symbols(\"H\")"
   ]
  },
  {
   "cell_type": "markdown",
   "metadata": {},
   "source": [
    "Let's define a new function, that we will cull the **Hubble** function and it will be the relative \"velocity\" of expansion of $a(t)$:\n",
    "\n",
    "$$ \\large\n",
    "\\begin{align}\n",
    "H(t) & = \\frac{\\dot a }{ a} \\\\\n",
    "\\end{align}\n",
    "$$"
   ]
  },
  {
   "cell_type": "code",
   "execution_count": 17,
   "metadata": {},
   "outputs": [
    {
     "data": {
      "image/png": "[encoded data removed]",
      "text/latex": [
       "$\\displaystyle H = \\frac{\\frac{d}{d t} a{\\left(t \\right)}}{a{\\left(t \\right)}}$"
      ],
      "text/plain": [
       "    d       \n",
       "    ──(a(t))\n",
       "    dt      \n",
       "H = ────────\n",
       "      a(t)  "
      ]
     },
     "execution_count": 17,
     "metadata": {},
     "output_type": "execute_result"
    }
   ],
   "source": [
    "sympy.Eq( H, sympy.Derivative(a(t), t)/a(t) )"
   ]
  },
  {
   "cell_type": "code",
   "execution_count": 18,
   "metadata": {},
   "outputs": [
    {
     "data": {
      "image/png": "[encoded data removed]",
      "text/latex": [
       "$\\displaystyle 3.0 H^{2}$"
      ],
      "text/plain": [
       "     2\n",
       "3.0⋅H "
      ]
     },
     "execution_count": 18,
     "metadata": {},
     "output_type": "execute_result"
    }
   ],
   "source": [
    "G_00s = einst[0,0]\n",
    "G_00s = G_00s.subs(sympy.Derivative(a(t), t)/a(t), H)\n",
    "G_00s"
   ]
  },
  {
   "cell_type": "code",
   "execution_count": 19,
   "metadata": {},
   "outputs": [
    {
     "data": {
      "image/png": "[encoded data removed]",
      "text/latex": [
       "$\\displaystyle 3.0 H^{2} = 8 \\pi G \\rho$"
      ],
      "text/plain": [
       "     2             \n",
       "3.0⋅H  = 8⋅π⋅G⋅\\rho"
      ]
     },
     "execution_count": 19,
     "metadata": {},
     "output_type": "execute_result"
    }
   ],
   "source": [
    "einst_eq.subs(G_00, G_00s).subs(T_00, rho)"
   ]
  },
  {
   "cell_type": "markdown",
   "metadata": {},
   "source": [
    "If we now define $\\rho_{cr} \\equiv 3 H^2_0/8 \\pi G$, so that when dividing both sides by $H_0$ we get the famous Hubble equation:"
   ]
  },
  {
   "cell_type": "markdown",
   "metadata": {},
   "source": [
    "$$ \\large\n",
    "\\begin{align}\n",
    "H^2(t) & = H^2_0 \\frac{\\rho(t) }{ \\rho_{cr}} \\\\\n",
    "\\end{align}\n",
    "$$\n",
    "\n",
    "If the Universe is composed of multiple species, like baryons, cold dark matter, radiation and so on, then \n",
    "$\\rho$ is a sum over all those components and we can define the energy density fractions $\\Omega$ as:\n",
    "\n",
    "$$ \\large\n",
    "\\begin{align}\n",
    "\\Omega_i(t) & = \\frac{\\rho(t) }{ \\rho_{cr}} \\\\\n",
    "\\end{align}\n",
    "$$\n",
    "\n",
    "Which simplifies the so-called Hubble equation to:\n",
    "$$ \\large\n",
    "\\begin{align}\n",
    "H^2(t) & = H^2_0 \\sum_i{\\Omega_i(t)}\n",
    "\\end{align}\n",
    "$$"
   ]
  },
  {
   "cell_type": "markdown",
   "metadata": {},
   "source": [
    "Due to the expansion of the Universe, there is a relation between the scale factor defined above $a$ and the redshift $z$, which measures the shift in the wavelengths of the light we receive from galaxies far away: \n",
    "$$ \\large a = \\frac{1}{1+z} $$"
   ]
  },
  {
   "cell_type": "markdown",
   "metadata": {},
   "source": [
    "## The Cosmic Pie"
   ]
  },
  {
   "cell_type": "markdown",
   "metadata": {},
   "source": [
    "Precision Cosmology deals with the determination of the cosmological parameters and the components of the Universe at a very high **precision**, using many combinations of experiments and independent observables at different scales and redshifts. Nowadays, we have determined the cosmological parameters with a precision of a few percent or better, thanks to experiments like [Planck](https://sci.esa.int/web/planck/-/60499-from-an-almost-perfect-universe-to-the-best-of-both-worlds)."
   ]
  },
  {
   "cell_type": "markdown",
   "metadata": {},
   "source": [
    "<a> <img align=\"center\" width=\"600\" src=\"https://sci.esa.int/documents/34222/35279/1567217424471-Planck_Cosmic-recipe-pie-chart_625.jpg\" alt=\"Cosmic Pie\"></a>"
   ]
  },
  {
   "cell_type": "markdown",
   "metadata": {},
   "source": [
    "If we know the energy and matter components of the Universe today:\n",
    "   * Cold Dark Matter density $\\Omega_c$,  which decays like $a^{-3}$\n",
    "   * Baryonic (normal) matter density $\\Omega_b$, which decays like $a^{-3}$\n",
    "   * Radiation density $\\Omega_r$, which decays like $a^{-4}$\n",
    "   * The Cosmological Constant density $\\Omega_{\\Lambda}$, which does not decay because it's a constant.\n",
    "   \n",
    "Then we can write down the Hubble function as:\n",
    "\n",
    "$$ \\large H(z) = H_0  \\sqrt{(\\Omega_c(1+z)^3 + \\Omega_b(1+z)^3 + \\Omega_r(1+z)^4 + \\Omega_{\\Lambda}}$$"
   ]
  },
  {
   "cell_type": "markdown",
   "metadata": {},
   "source": [
    "$H_0$ is the Hubble parameter today and represents the rate of expansion of the Universe at $z=0$ and it is measured in **km/s/Mpc**. Its value can be inferred in many ways, from the Cosmic Microwave Background, from Gravitational Lensing or by measuring the distance to Supernovae. Currently it is a <a href=\"https://astrobites.org/2019/07/12/h0ly-cow-a-new-measurement-of-the-hubble-constant/\" target=\"_blank\" >hot topic</a> in cosmology, since there are *strong tensions* in measurements from different probes.\n",
    "A value of $70$ km/s/Mpc, means that a galaxy at a distance of $1$Mpc from us, recedes away from us at a speed of $70$km/s."
   ]
  },
  {
   "cell_type": "markdown",
   "metadata": {},
   "source": [
    "## Parameters from Planck 2018"
   ]
  },
  {
   "cell_type": "markdown",
   "metadata": {},
   "source": [
    "From the [2018 Cosmological parameters](https://arxiv.org/abs/1807.06209) paper, Table 1, first column."
   ]
  },
  {
   "cell_type": "markdown",
   "metadata": {},
   "source": [
    "Let's create a Planck 2018 parameters dictionary:"
   ]
  },
  {
   "cell_type": "code",
   "execution_count": 20,
   "metadata": {},
   "outputs": [],
   "source": [
    "planck_18 = dict()"
   ]
  },
  {
   "cell_type": "code",
   "execution_count": 21,
   "metadata": {},
   "outputs": [],
   "source": [
    "planck_18['ombh2'] = 0.02238   ## Omega_b * h**2\n",
    "planck_18['omch2'] = 0.12011  ## Omega_c * h**2\n",
    "planck_18['ln1010As'] = 3.0448  ## ln(10**10 * As), scalar amplitude\n",
    "planck_18['ns'] = 0.96605       ## spectral index\n",
    "planck_18['ommh2'] = 0.14314    ##   Omega_m * h**2   , total matter\n",
    "planck_18['H0'] = 67.32   ##   H0 = 100h\n",
    "planck_18['sigma8'] = 0.8120    ## amplitude of density fluctuations\n",
    "planck_18['tau'] = 0.0543      ## Optical depth\n",
    "planck_18['age_Gyr'] = 13.7971   ## Age of the Universe"
   ]
  },
  {
   "cell_type": "markdown",
   "metadata": {},
   "source": [
    "And let's compute some \"derived\" parameters:"
   ]
  },
  {
   "cell_type": "code",
   "execution_count": 22,
   "metadata": {},
   "outputs": [],
   "source": [
    "planck_18['h'] = planck_18['H0']/100\n",
    "planck_18['Om'] = planck_18['ommh2']/planck_18['h']**2\n",
    "planck_18['Ob'] = planck_18['ombh2']/planck_18['h']**2\n",
    "planck_18['Oc'] = planck_18['omch2']/planck_18['h']**2\n",
    "planck_18['As'] = np.exp(planck_18['ln1010As'])/np.power(10,10)    ## As, scalar amplitude"
   ]
  },
  {
   "cell_type": "code",
   "execution_count": 23,
   "metadata": {},
   "outputs": [
    {
     "data": {
      "image/png": "[encoded data removed]",
      "text/latex": [
       "$\\displaystyle 2.1005829616811546e-09$"
      ],
      "text/plain": [
       "2.1005829616811546e-09"
      ]
     },
     "execution_count": 23,
     "metadata": {},
     "output_type": "execute_result"
    }
   ],
   "source": [
    "planck_18['As']"
   ]
  },
  {
   "cell_type": "code",
   "execution_count": 24,
   "metadata": {},
   "outputs": [],
   "source": [
    "planck_18['Or'] = 0.0000930479 \n",
    "## Omega_radiation, more difficult to obtain since it depends on CMB Temperature and number of relativistic species"
   ]
  },
  {
   "cell_type": "markdown",
   "metadata": {},
   "source": [
    "In a flat Universe, where the total density equals the critical density (defined above) the sum of all the energy density fractions should be 1, therefore the $\\Omega_{\\Lambda}$ dark energy parameter, is simply whatever it's left:\n",
    "  $$ \\Omega_{\\Lambda}   = 1 - \\Omega_c - \\Omega_b - \\Omega_r $$"
   ]
  },
  {
   "cell_type": "markdown",
   "metadata": {},
   "source": [
    "Let's see what we get for **Planck**:"
   ]
  },
  {
   "cell_type": "code",
   "execution_count": 25,
   "metadata": {},
   "outputs": [
    {
     "data": {
      "image/png": "[encoded data removed]",
      "text/latex": [
       "$\\displaystyle 0.6854970814879693$"
      ],
      "text/plain": [
       "0.6854970814879693"
      ]
     },
     "execution_count": 25,
     "metadata": {},
     "output_type": "execute_result"
    }
   ],
   "source": [
    "planck_18['Ol'] = 1-np.array([planck_18[oo] for oo in ['Oc','Ob','Or']]).sum()  ## Ol = Omega_Lambda\n",
    "planck_18['Ol']"
   ]
  },
  {
   "cell_type": "markdown",
   "metadata": {},
   "source": [
    "## Let's code our own Hubble function"
   ]
  },
  {
   "cell_type": "markdown",
   "metadata": {},
   "source": [
    "First, let's code the relation between scale factor and redshift."
   ]
  },
  {
   "cell_type": "code",
   "execution_count": 26,
   "metadata": {},
   "outputs": [],
   "source": [
    "def a_of_z(z):\n",
    "    a=1/(1+z)\n",
    "    return a "
   ]
  },
  {
   "cell_type": "code",
   "execution_count": 27,
   "metadata": {},
   "outputs": [],
   "source": [
    "def Omega_L(Omega_c, Omega_b, Omega_r):\n",
    "    \"\"\"\n",
    "    Function for Omega_Lambda, dark energy.\n",
    "    \n",
    "    For a flat Universe:\n",
    "        Omega_Lambda = 1-Omega_c-Omega_b-Omega_r \n",
    "    \n",
    "    \"\"\"\n",
    "    oL = 1 - Omega_c - Omega_b - Omega_r\n",
    "    return oL"
   ]
  },
  {
   "cell_type": "code",
   "execution_count": 28,
   "metadata": {},
   "outputs": [],
   "source": [
    "def cosmological_parameters(cosmo_pars=dict()):\n",
    "    H0 = cosmo_pars.get('H0', planck_18['H0'])  # Planck 2018 cosmological parameters as default\n",
    "    Oc = cosmo_pars.get('Oc', planck_18['Oc'])\n",
    "    Ob = cosmo_pars.get('Ob', planck_18['Ob'])\n",
    "    Or = cosmo_pars.get('Or', planck_18['Or'])\n",
    "    Om = Ob+Oc\n",
    "    OL = Omega_L(Oc, Ob, Or)\n",
    "    return H0, Oc, Ob, Or, Om, OL"
   ]
  },
  {
   "cell_type": "markdown",
   "metadata": {},
   "source": [
    "Let's test it for the default parameters:"
   ]
  },
  {
   "cell_type": "code",
   "execution_count": 29,
   "metadata": {},
   "outputs": [
    {
     "data": {
      "image/png": "[encoded data removed]",
      "text/latex": [
       "$\\displaystyle \\left( 67.32, \\  0.26502750760903226, \\  0.04938236300299844, \\  9.30479e-05, \\  0.3144098706120307, \\  0.6854970814879693\\right)$"
      ],
      "text/plain": [
       "(67.32, 0.26502750760903226, 0.04938236300299844, 9.30479e-05, 0.3144098706120\n",
       "307, 0.6854970814879693)"
      ]
     },
     "execution_count": 29,
     "metadata": {},
     "output_type": "execute_result"
    }
   ],
   "source": [
    "cosmological_parameters()"
   ]
  },
  {
   "cell_type": "markdown",
   "metadata": {},
   "source": [
    "Let's change $H_0$ to the value obtained by local Universe measurements"
   ]
  },
  {
   "cell_type": "code",
   "execution_count": 30,
   "metadata": {},
   "outputs": [
    {
     "data": {
      "image/png": "[encoded data removed]",
      "text/latex": [
       "$\\displaystyle \\left( 72, \\  0.26502750760903226, \\  0.04938236300299844, \\  9.30479e-05, \\  0.3144098706120307, \\  0.6854970814879693\\right)$"
      ],
      "text/plain": [
       "(72, 0.26502750760903226, 0.04938236300299844, 9.30479e-05, 0.3144098706120307\n",
       ", 0.6854970814879693)"
      ]
     },
     "execution_count": 30,
     "metadata": {},
     "output_type": "execute_result"
    }
   ],
   "source": [
    "local_H0 = {'H0':72}\n",
    "cosmological_parameters(local_H0)"
   ]
  },
  {
   "cell_type": "markdown",
   "metadata": {},
   "source": [
    "Let's finally code the Hubble function"
   ]
  },
  {
   "cell_type": "code",
   "execution_count": 31,
   "metadata": {},
   "outputs": [],
   "source": [
    "def Hubble(z, cosmo_pars=dict()):\n",
    "    H0, Oc, Ob, Or, Om, OL = cosmological_parameters(cosmo_pars)\n",
    "    H = H0 * np.sqrt(Om*(1+z)**3 + Or*(1+z)**4 + OL)\n",
    "    return H"
   ]
  },
  {
   "cell_type": "markdown",
   "metadata": {},
   "source": [
    "Evaluating at redshift 0 brings nothing surprising:"
   ]
  },
  {
   "cell_type": "code",
   "execution_count": 32,
   "metadata": {},
   "outputs": [
    {
     "data": {
      "image/png": "[encoded data removed]",
      "text/latex": [
       "$\\displaystyle 67.32$"
      ],
      "text/plain": [
       "67.32"
      ]
     },
     "execution_count": 32,
     "metadata": {},
     "output_type": "execute_result"
    }
   ],
   "source": [
    "Hubble(0.)"
   ]
  },
  {
   "cell_type": "code",
   "execution_count": 33,
   "metadata": {},
   "outputs": [
    {
     "data": {
      "image/png": "[encoded data removed]",
      "text/latex": [
       "$\\displaystyle 72.0$"
      ],
      "text/plain": [
       "72.0"
      ]
     },
     "execution_count": 33,
     "metadata": {},
     "output_type": "execute_result"
    }
   ],
   "source": [
    "Hubble(0., local_H0)"
   ]
  },
  {
   "cell_type": "markdown",
   "metadata": {},
   "source": [
    "Let's define a crazy and completely ruled out cosmological set of parameters:"
   ]
  },
  {
   "cell_type": "code",
   "execution_count": 34,
   "metadata": {},
   "outputs": [],
   "source": [
    "crazy_cosmo = {'H0': 75, \n",
    "          'Oc':0.40,\n",
    "          'Ob':0.06, \n",
    "           'Or':0.005}"
   ]
  },
  {
   "cell_type": "markdown",
   "metadata": {},
   "source": [
    "At higher redshifts, the differences becomes larger"
   ]
  },
  {
   "cell_type": "code",
   "execution_count": 35,
   "metadata": {},
   "outputs": [
    {
     "data": {
      "image/png": "[encoded data removed]",
      "text/plain": [
       "<Figure size 720x576 with 1 Axes>"
      ]
     },
     "metadata": {
      "needs_background": "light"
     },
     "output_type": "display_data"
    }
   ],
   "source": [
    "z_arr = np.linspace(0.,10, 100)\n",
    "fig, ax = plt.subplots(1, 1, sharey='row', sharex='col', figsize=(10,8))  #all plots in the same row, share the y-axis.\n",
    "\n",
    "# once you specify an axis, it is in this instance where plots are performed\n",
    "ax.semilogx(z_arr, Hubble(z_arr), '-', label='Planck', color='orange', lw=3)  \n",
    "ax.semilogx(z_arr, Hubble(z_arr, local_H0), '-.', label='Local', color='violet', lw=3)\n",
    "ax.semilogx(z_arr, Hubble(z_arr, crazy_cosmo), '-.', label='Crazy', color='forestgreen', lw=3)\n",
    "ax.legend(fontsize=26)\n",
    "ax.set_xlabel('redshift $z$', fontsize=26)   \n",
    "ax.set_ylabel(r'$H(z)$ in km/s/Mpc', fontsize=26);"
   ]
  },
  {
   "cell_type": "markdown",
   "metadata": {},
   "source": [
    "### Theoretical Question 1:"
   ]
  },
  {
   "cell_type": "markdown",
   "metadata": {},
   "source": [
    "If $H(z) \\approx C$ , with $C$ being a constant today and $H(t)  = {\\dot a }/{ a} $, what does that mean for the expansion behavior of the Universe?"
   ]
  },
  {
   "cell_type": "markdown",
   "metadata": {},
   "source": [
    "# Calculating the Background Cosmology with CAMB and CLASS"
   ]
  },
  {
   "cell_type": "markdown",
   "metadata": {},
   "source": [
    "# CAMB"
   ]
  },
  {
   "cell_type": "markdown",
   "metadata": {},
   "source": [
    "CAMB (https://camb.info/) is a code which has been developed for many years by Anthony Lewis and collaborators.\n",
    "It has been used extensively for the data analysis of Planck."
   ]
  },
  {
   "cell_type": "markdown",
   "metadata": {},
   "source": [
    "Its main source is written in `Fortran` and it was used like that for many years by many cosmologists, but the recently added python wrapper brings much more user-friendliness. \n",
    "Check here the documentation [CAMB Python](https://camb.readthedocs.io/en/latest/index.html)\n",
    "And [here](https://camb.info/doc/classes/_index.html) the tree structure of the underlying code."
   ]
  },
  {
   "cell_type": "code",
   "execution_count": 36,
   "metadata": {},
   "outputs": [],
   "source": [
    "#Set up a new set of parameters for CAMB\n",
    "pars = camb.CAMBparams()\n",
    "#This function sets up CosmoMC-like settings, with one massive neutrino and helium set using BBN consistency\n",
    "pars.set_cosmology(H0=planck_18['H0'], ombh2=planck_18['ombh2'], omch2=planck_18['omch2']);"
   ]
  },
  {
   "cell_type": "code",
   "execution_count": 37,
   "metadata": {},
   "outputs": [],
   "source": [
    "## If we evaluate pars, it shows us all the parameters that have been set to their default values.\n",
    "## print(pars)"
   ]
  },
  {
   "cell_type": "code",
   "execution_count": 38,
   "metadata": {},
   "outputs": [
    {
     "data": {
      "image/png": "[encoded data removed]",
      "text/latex": [
       "$\\displaystyle 67.32$"
      ],
      "text/plain": [
       "67.32"
      ]
     },
     "execution_count": 38,
     "metadata": {},
     "output_type": "execute_result"
    }
   ],
   "source": [
    "pars.H0"
   ]
  },
  {
   "cell_type": "markdown",
   "metadata": {},
   "source": [
    "Let's calculate the results for those parameters"
   ]
  },
  {
   "cell_type": "code",
   "execution_count": 39,
   "metadata": {},
   "outputs": [],
   "source": [
    "results = camb.get_results(pars)\n",
    "results.calc_background(pars)"
   ]
  },
  {
   "cell_type": "markdown",
   "metadata": {},
   "source": [
    "We can get a dictionary of derived parameters"
   ]
  },
  {
   "cell_type": "code",
   "execution_count": 40,
   "metadata": {},
   "outputs": [
    {
     "data": {
      "text/plain": [
       "{'age': 13.797465544894264,\n",
       " 'zstar': 1089.913527354714,\n",
       " 'rstar': 144.39807261487093,\n",
       " 'thetastar': 1.0411035302987333,\n",
       " 'DAstar': 13.869713089286854,\n",
       " 'zdrag': 1059.9673057843763,\n",
       " 'rdrag': 147.05389004660253,\n",
       " 'kd': 0.1409146903853102,\n",
       " 'thetad': 0.16074079969674418,\n",
       " 'zeq': 3405.0735943489863,\n",
       " 'keq': 0.01039262329030193,\n",
       " 'thetaeq': 0.8128008522486668,\n",
       " 'thetarseq': 0.4491324452306274}"
      ]
     },
     "execution_count": 40,
     "metadata": {},
     "output_type": "execute_result"
    }
   ],
   "source": [
    "results.get_derived_params()"
   ]
  },
  {
   "cell_type": "markdown",
   "metadata": {},
   "source": [
    "Does it match the age we defined above for Planck18?"
   ]
  },
  {
   "cell_type": "code",
   "execution_count": 41,
   "metadata": {},
   "outputs": [
    {
     "data": {
      "image/png": "[encoded data removed]",
      "text/latex": [
       "$\\displaystyle 0.3655448942634365$"
      ],
      "text/plain": [
       "0.3655448942634365"
      ]
     },
     "execution_count": 41,
     "metadata": {},
     "output_type": "execute_result"
    }
   ],
   "source": [
    "(results.get_derived_params()['age'] - planck_18['age_Gyr'])*1000"
   ]
  },
  {
   "cell_type": "markdown",
   "metadata": {},
   "source": [
    "The difference is 'only' 0.36 million years, which is quite good, considering we left many parameters defined by default."
   ]
  },
  {
   "cell_type": "markdown",
   "metadata": {},
   "source": [
    "### Exercise 1:  What would be the age of the Universe in our crazy cosmology?"
   ]
  },
  {
   "cell_type": "markdown",
   "metadata": {},
   "source": [
    "Check other attributes and methods of `results` in the [documentation](https://camb.readthedocs.io/en/latest/results.html#)"
   ]
  },
  {
   "cell_type": "markdown",
   "metadata": {},
   "source": [
    "#### The Hubble function is obtained by evaluating:"
   ]
  },
  {
   "cell_type": "code",
   "execution_count": 42,
   "metadata": {},
   "outputs": [
    {
     "data": {
      "image/png": "[encoded data removed]",
      "text/latex": [
       "$\\displaystyle 67.31999999998676$"
      ],
      "text/plain": [
       "67.31999999998676"
      ]
     },
     "execution_count": 42,
     "metadata": {},
     "output_type": "execute_result"
    }
   ],
   "source": [
    "results.hubble_parameter(0.)"
   ]
  },
  {
   "cell_type": "markdown",
   "metadata": {},
   "source": [
    "Let's compare against our home-made $H(z)$"
   ]
  },
  {
   "cell_type": "code",
   "execution_count": 43,
   "metadata": {},
   "outputs": [
    {
     "data": {
      "image/png": "[encoded data removed]",
      "text/plain": [
       "<Figure size 720x576 with 1 Axes>"
      ]
     },
     "metadata": {
      "needs_background": "light"
     },
     "output_type": "display_data"
    }
   ],
   "source": [
    "z_arr = np.linspace(0.,10, 100)\n",
    "fig, ax = plt.subplots(1, 1, sharey='row', sharex='col', figsize=(10,8))  #all plots in the same row, share the y-axis.\n",
    "\n",
    "# once you specify an axis, it is in this instance where plots are performed\n",
    "ax.plot(z_arr, Hubble(z_arr), '-', label='Planck', color='orange', lw=3)  \n",
    "ax.plot(z_arr, results.hubble_parameter(z_arr), '-.', label='CAMB', color='purple', lw=3)\n",
    "ax.legend(fontsize=26)\n",
    "ax.set_xlabel('redshift $z$', fontsize=26)   \n",
    "ax.set_ylabel(r'$H(z)$ in km/s/Mpc', fontsize=26);"
   ]
  },
  {
   "cell_type": "markdown",
   "metadata": {},
   "source": [
    "Perfect agreement!\n",
    "Notice that in lin-lin space, the flatness of $H(z)$ for z tending to 0 is not so visible."
   ]
  },
  {
   "cell_type": "markdown",
   "metadata": {},
   "source": [
    "## CLASS"
   ]
  },
  {
   "cell_type": "markdown",
   "metadata": {},
   "source": [
    "[CLASS](https://lesgourg.github.io/class_public/class.html) is a more modern code, compared to CAMB, written by Julien Lesgourges and collaborators in `C` language for performance reasons.\n",
    "It has been also used extensively for the data analysis of many galaxy surveys.\n",
    "Check here the [documentation](https://lesgourg.github.io/class_public/class_public-2.9.0/doc/manual/html/index.html), the [Github repo](https://github.com/lesgourg/class_public) and\n",
    "many [hours of courses and learning material](https://lesgourg.github.io/courses.html)."
   ]
  },
  {
   "cell_type": "code",
   "execution_count": 44,
   "metadata": {},
   "outputs": [
    {
     "data": {
      "text/plain": [
       "dict_keys(['ombh2', 'omch2', 'ln1010As', 'ns', 'ommh2', 'H0', 'sigma8', 'tau', 'age_Gyr', 'h', 'Om', 'Ob', 'Oc', 'As', 'Or', 'Ol'])"
      ]
     },
     "execution_count": 44,
     "metadata": {},
     "output_type": "execute_result"
    }
   ],
   "source": [
    "planck_18.keys()"
   ]
  },
  {
   "cell_type": "code",
   "execution_count": 45,
   "metadata": {},
   "outputs": [],
   "source": [
    "# Define your cosmology (what is not specified will be set to CLASS default parameters)\n",
    "## CLASS is more flexible in the names of parameters passed, because the names are \"interpreted\"\n",
    "params = {\n",
    "    'H0': planck_18['H0'],\n",
    "    'omega_b': planck_18['ombh2'],\n",
    "    'Omega_cdm': planck_18['Oc']}\n",
    "\n",
    "# Create an instance of the CLASS wrapper\n",
    "cosmo = Class()\n",
    "# Set the parameters to the cosmological code\n",
    "cosmo.set(params)\n",
    "cosmo.compute()"
   ]
  },
  {
   "cell_type": "markdown",
   "metadata": {},
   "source": [
    "Let's get the derived parameters in this case"
   ]
  },
  {
   "cell_type": "code",
   "execution_count": 46,
   "metadata": {},
   "outputs": [
    {
     "data": {
      "image/png": "[encoded data removed]",
      "text/latex": [
       "$\\displaystyle 0.6731999999999999$"
      ],
      "text/plain": [
       "0.6731999999999999"
      ]
     },
     "execution_count": 46,
     "metadata": {},
     "output_type": "execute_result"
    }
   ],
   "source": [
    "cosmo.h()"
   ]
  },
  {
   "cell_type": "code",
   "execution_count": 47,
   "metadata": {},
   "outputs": [
    {
     "data": {
      "text/plain": [
       "{'Omega0_lambda': 0.6854978141704176}"
      ]
     },
     "execution_count": 47,
     "metadata": {},
     "output_type": "execute_result"
    }
   ],
   "source": [
    "cosmo.get_current_derived_parameters(['Omega0_lambda'])"
   ]
  },
  {
   "cell_type": "markdown",
   "metadata": {},
   "source": [
    "#### Do we get the same Age of the Universe as before?"
   ]
  },
  {
   "cell_type": "code",
   "execution_count": 48,
   "metadata": {},
   "outputs": [
    {
     "data": {
      "text/plain": [
       "{'age': 13.814346321810905}"
      ]
     },
     "execution_count": 48,
     "metadata": {},
     "output_type": "execute_result"
    }
   ],
   "source": [
    "cosmo.get_current_derived_parameters(['age'])"
   ]
  },
  {
   "cell_type": "code",
   "execution_count": 49,
   "metadata": {},
   "outputs": [
    {
     "data": {
      "image/png": "[encoded data removed]",
      "text/latex": [
       "$\\displaystyle 17.24632181090513$"
      ],
      "text/plain": [
       "17.24632181090513"
      ]
     },
     "execution_count": 49,
     "metadata": {},
     "output_type": "execute_result"
    }
   ],
   "source": [
    "(cosmo.get_current_derived_parameters(['age'])['age'] - planck_18['age_Gyr'])*1000"
   ]
  },
  {
   "cell_type": "markdown",
   "metadata": {},
   "source": [
    "The difference with Planck is now 17 Myr, which means we must set better some other parameters."
   ]
  },
  {
   "cell_type": "code",
   "execution_count": 50,
   "metadata": {},
   "outputs": [
    {
     "data": {
      "image/png": "[encoded data removed]",
      "text/latex": [
       "$\\displaystyle 67.32$"
      ],
      "text/plain": [
       "67.32"
      ]
     },
     "execution_count": 50,
     "metadata": {},
     "output_type": "execute_result"
    }
   ],
   "source": [
    "cosmo.get_current_derived_parameters(['H0'])['H0']"
   ]
  },
  {
   "cell_type": "markdown",
   "metadata": {},
   "source": [
    "#### Available parameters for background :\n",
    "```’h’, ’H0 ’, ’ Omega_Lambda ’, ’Omega0_fld ’,\n",
    "’age ’, ’ conformal_age ’, ’ m_ncdm_in_eV ’,\n",
    "’m_ncdm_tot ’, ’Neff ’, ’Omega_m ’, ’omega_m ’,```"
   ]
  },
  {
   "cell_type": "markdown",
   "metadata": {},
   "source": [
    "Let's get the background quantities:"
   ]
  },
  {
   "cell_type": "code",
   "execution_count": 51,
   "metadata": {},
   "outputs": [
    {
     "data": {
      "text/plain": [
       "dict_keys(['z', 'proper time [Gyr]', 'conf. time [Mpc]', 'H [1/Mpc]', 'comov. dist.', 'ang.diam.dist.', 'lum. dist.', 'comov.snd.hrz.', '(.)rho_g', '(.)rho_b', '(.)rho_cdm', '(.)rho_lambda', '(.)rho_ur', '(.)rho_crit', '(.)rho_tot', '(.)p_tot', '(.)p_tot_prime', 'gr.fac. D', 'gr.fac. f'])"
      ]
     },
     "execution_count": 51,
     "metadata": {},
     "output_type": "execute_result"
    }
   ],
   "source": [
    "bckgrd = cosmo.get_background();\n",
    "bckgrd.keys()"
   ]
  },
  {
   "cell_type": "code",
   "execution_count": 52,
   "metadata": {},
   "outputs": [
    {
     "data": {
      "text/plain": [
       "array([1.00000000e+14, 9.93048659e+13, 9.86145640e+13, ...,\n",
       "       1.37807732e-02, 6.69630246e-03, 0.00000000e+00])"
      ]
     },
     "execution_count": 52,
     "metadata": {},
     "output_type": "execute_result"
    }
   ],
   "source": [
    "z_class = bckgrd['z']\n",
    "z_class"
   ]
  },
  {
   "cell_type": "markdown",
   "metadata": {},
   "source": [
    "The Hubble function:"
   ]
  },
  {
   "cell_type": "code",
   "execution_count": 53,
   "metadata": {},
   "outputs": [
    {
     "data": {
      "text/plain": [
       "array([2.15754595e+22, 2.12765453e+22, 2.09817724e+22, ...,\n",
       "       2.26030724e-04, 2.25268419e-04, 2.24555349e-04])"
      ]
     },
     "execution_count": 53,
     "metadata": {},
     "output_type": "execute_result"
    }
   ],
   "source": [
    "bckgrd['H [1/Mpc]']"
   ]
  },
  {
   "cell_type": "markdown",
   "metadata": {},
   "source": [
    "To get the Hubble function in km/s/Mc, we need to multiply this by the speed of light:"
   ]
  },
  {
   "cell_type": "code",
   "execution_count": 54,
   "metadata": {},
   "outputs": [
    {
     "name": "stdout",
     "output_type": "stream",
     "text": [
      "299792.458\n"
     ]
    }
   ],
   "source": [
    "clight = sci.constants.speed_of_light/1000 #in km/s  ## From Scipy Constants\n",
    "print(clight)"
   ]
  },
  {
   "cell_type": "code",
   "execution_count": 55,
   "metadata": {},
   "outputs": [],
   "source": [
    "H_class = bckgrd['H [1/Mpc]']*clight"
   ]
  },
  {
   "cell_type": "code",
   "execution_count": 56,
   "metadata": {},
   "outputs": [
    {
     "data": {
      "image/png": "[encoded data removed]",
      "text/latex": [
       "$\\displaystyle 67.32$"
      ],
      "text/plain": [
       "67.32"
      ]
     },
     "execution_count": 56,
     "metadata": {},
     "output_type": "execute_result"
    }
   ],
   "source": [
    "H_class[-1]  ##in km/s/Mpc"
   ]
  },
  {
   "cell_type": "markdown",
   "metadata": {},
   "source": [
    "However, there are also some interpolating functions that can be directly accessed:"
   ]
  },
  {
   "cell_type": "code",
   "execution_count": 57,
   "metadata": {},
   "outputs": [
    {
     "data": {
      "image/png": "[encoded data removed]",
      "text/latex": [
       "$\\displaystyle 67.32$"
      ],
      "text/plain": [
       "67.32"
      ]
     },
     "execution_count": 57,
     "metadata": {},
     "output_type": "execute_result"
    }
   ],
   "source": [
    "cosmo.Hubble(0.) *clight  ##However , this only accepts scalar values"
   ]
  },
  {
   "cell_type": "markdown",
   "metadata": {},
   "source": [
    "Let's check for the slight differences among the codes (and also without too much effort in matching their parameters)"
   ]
  },
  {
   "cell_type": "code",
   "execution_count": 58,
   "metadata": {},
   "outputs": [
    {
     "data": {
      "image/png": "[encoded data removed]",
      "text/plain": [
       "<Figure size 720x576 with 1 Axes>"
      ]
     },
     "metadata": {
      "needs_background": "light"
     },
     "output_type": "display_data"
    }
   ],
   "source": [
    "z_arr = np.linspace(0.,10, 100)\n",
    "fig, ax = plt.subplots(1, 1, sharey='row', sharex='col', figsize=(10,8))  #all plots in the same row, share the y-axis.\n",
    "\n",
    "H_class_z = np.array([cosmo.Hubble(zz) *clight for zz in z_arr])\n",
    "# once you specify an axis, it is in this instance where plots are performed\n",
    "#ax.semilogx(z_arr, Hubble(z_arr), '-', label='Planck', color='orange', lw=3)  \n",
    "ax.semilogx(z_arr, results.hubble_parameter(z_arr)/Hubble(z_arr), '-.', label='CAMB/Manual', color='purple', lw=3)\n",
    "ax.semilogx(z_arr, H_class_z/Hubble(z_arr), '-.', label='CLASS/Manual', color='indianred', lw=3)\n",
    "ax.legend(fontsize=26)\n",
    "ax.set_xlim(0.001,10.)\n",
    "#ax.set_ylim(1.0,2000)\n",
    "ax.set_xlabel('redshift $z$', fontsize=26)   \n",
    "ax.set_ylabel(r'Ratios of $H(z)$ in km/s/Mpc', fontsize=26);"
   ]
  },
  {
   "cell_type": "markdown",
   "metadata": {},
   "source": [
    "Some tips on dealing with many cosmologies in CLASS:"
   ]
  },
  {
   "cell_type": "code",
   "execution_count": 59,
   "metadata": {},
   "outputs": [],
   "source": [
    "# Clean CLASS (the equivalent of the struct_free() in the `main`\n",
    "# of CLASS. This step is primordial when running in a loop over different\n",
    "# cosmologies, as you will saturate your memory very fast if you ommit\n",
    "# it.\n",
    " ### cosmo.struct_cleanup()\n",
    "\n",
    "# If you want to change completely the cosmology, you should also\n",
    "# clean the arguments, otherwise, if you are simply running on a loop\n",
    "# of different values for the same parameters, this step is not needed\n",
    " ## cosmo.empty()"
   ]
  },
  {
   "cell_type": "markdown",
   "metadata": {},
   "source": []
  },
  {
   "cell_type": "markdown",
   "metadata": {},
   "source": [
    "# Cosmological Distances"
   ]
  },
  {
   "cell_type": "markdown",
   "metadata": {},
   "source": [
    "Using the line element (from the metric) defined above we can see that we can compute distances between objects by simply evaluating the scale factor. The most common choice for a distance in cosmology, is the comoving distance, which is the distance a photon has travelled in a time $dt$. Let's calculate it in 1 space dimension:"
   ]
  },
  {
   "cell_type": "markdown",
   "metadata": {},
   "source": [
    "$$\n",
    "\\begin{align}\n",
    "ds^2 & \\equiv 0  & \\textrm{ Light travels in null-geodesics} \\\\\n",
    "ds^2 & = - c^2 dt^2 + a^2(t) dx^2  = 0  & \\textrm{Line element} \\\\\n",
    "dx & = c dt/a(t) &  \\textrm{Solve for x}  \\\\\n",
    "r(a(t))  &= \\int_{t(a)}^{t(0)} \\frac{ dt'  \\,  c }{a(t')}  & \\textrm{Integrate} \\\\\n",
    "r(a)  &= \\int_{a}^{1} \\frac{ da'  \\,  c}{a'^2 H(a')}  & \\textrm{Change variables} \\\\\n",
    "r(z)  &= \\int_{0}^{z} \\frac{ dz'  \\,  c}{ H(z')}  & \\textrm{Change variables again now to z} \\\\\n",
    "\\end{align}\n",
    "$$"
   ]
  },
  {
   "cell_type": "markdown",
   "metadata": {},
   "source": [
    "From here we can define a useful distance for cosmologists, which is the angular diameter distance $d_A$, which is the distance to an object of known physical size $l$ that subtends an angle $\\theta$. After some simple algebra one gets (in a flat Universe):"
   ]
  },
  {
   "cell_type": "markdown",
   "metadata": {},
   "source": [
    "$$ d_{\\rm A}(z) = \\frac{1}{1+z} \\int_0^z \\frac{c \\,\\, \\rm{d}\\tilde{z}}{H(\\tilde{z})}$$"
   ]
  },
  {
   "cell_type": "markdown",
   "metadata": {},
   "source": [
    "### CAMB"
   ]
  },
  {
   "cell_type": "markdown",
   "metadata": {},
   "source": [
    "In CAMB we can simply evaluate:"
   ]
  },
  {
   "cell_type": "code",
   "execution_count": 60,
   "metadata": {},
   "outputs": [],
   "source": [
    "z_arr = np.linspace(0.,10, 100)\n",
    "dA_camb = results.angular_diameter_distance(z_arr);\n",
    "rz_camb = results.comoving_radial_distance(z_arr);"
   ]
  },
  {
   "cell_type": "markdown",
   "metadata": {},
   "source": [
    "### CLASS"
   ]
  },
  {
   "cell_type": "markdown",
   "metadata": {},
   "source": [
    "In CLASS we can evaluate:"
   ]
  },
  {
   "cell_type": "code",
   "execution_count": 61,
   "metadata": {},
   "outputs": [
    {
     "data": {
      "image/png": "[encoded data removed]",
      "text/latex": [
       "$\\displaystyle 706.1834522453644$"
      ],
      "text/plain": [
       "706.1834522453644"
      ]
     },
     "execution_count": 61,
     "metadata": {},
     "output_type": "execute_result"
    }
   ],
   "source": [
    "cosmo.angular_distance(0.2)"
   ]
  },
  {
   "cell_type": "code",
   "execution_count": 62,
   "metadata": {},
   "outputs": [],
   "source": [
    "dA_class = np.array([cosmo.angular_distance(zi) for zi in z_arr]);"
   ]
  },
  {
   "cell_type": "markdown",
   "metadata": {},
   "source": [
    "CLASS returns r(z) and dr/dz for each value passed as an array:"
   ]
  },
  {
   "cell_type": "code",
   "execution_count": 63,
   "metadata": {},
   "outputs": [
    {
     "data": {
      "text/plain": [
       "(array([847.42014268]), array([0.00024894]))"
      ]
     },
     "execution_count": 63,
     "metadata": {},
     "output_type": "execute_result"
    }
   ],
   "source": [
    "cosmo.z_of_r([0.2])"
   ]
  },
  {
   "cell_type": "code",
   "execution_count": 64,
   "metadata": {},
   "outputs": [],
   "source": [
    "rz_class, dz_dr_class  = cosmo.z_of_r(z_arr)"
   ]
  },
  {
   "cell_type": "markdown",
   "metadata": {},
   "source": [
    "#### Let's plot these quantities together"
   ]
  },
  {
   "cell_type": "code",
   "execution_count": 65,
   "metadata": {},
   "outputs": [
    {
     "data": {
      "image/png": "[encoded data removed]",
      "text/plain": [
       "<Figure size 720x576 with 2 Axes>"
      ]
     },
     "metadata": {
      "needs_background": "light"
     },
     "output_type": "display_data"
    }
   ],
   "source": [
    "fig, ax = plt.subplots(2, 1, sharex='col', figsize=(10,8))  #all plots in the same row, share the y-axis.\n",
    "\n",
    "# once you specify an axis, it is in this instance where plots are performed\n",
    "ax[0].plot(z_arr, rz_camb, '-', label='CAMB $r(z)$', color='orange', lw=3)  \n",
    "ax[0].plot(z_arr, rz_class, '-.', label='CLASS $r(z)$', color='purple', lw=3)\n",
    "ax[0].legend(fontsize=20)\n",
    "ax[0].set_xlabel('redshift $z$', fontsize=22)   \n",
    "ax[0].set_ylabel(r'$r(z)$ in Mpc', fontsize=22);\n",
    "\n",
    "ax[1].plot(z_arr, dA_camb, '-', label='CAMB $d_A(z)$', color='teal', lw=3)  \n",
    "ax[1].plot(z_arr, dA_class, '-.', label='CLASS $d_A(z)$', color='firebrick', lw=3)\n",
    "ax[1].legend(fontsize=20)\n",
    "ax[1].set_xlabel('redshift $z$', fontsize=22)   \n",
    "ax[1].set_ylabel(r'$d_A(z)$ in Mpc', fontsize=22);"
   ]
  },
  {
   "cell_type": "markdown",
   "metadata": {},
   "source": [
    "Notice that (at least in a flat Universe ) objects of a fixed physical size, appear larger at larger redshifts. At a very high redshift, the angle subtended by an object of constant comoving size, would occupy the entire sky!"
   ]
  },
  {
   "cell_type": "markdown",
   "metadata": {},
   "source": [
    "### Comparison for different cosmologies"
   ]
  },
  {
   "cell_type": "markdown",
   "metadata": {},
   "source": [
    "For a matter-dominated Universe, where $H(a) = H_0 a^{-3/2}$, the comoving distance integral can be computed analytically."
   ]
  },
  {
   "cell_type": "markdown",
   "metadata": {},
   "source": [
    "#### Theoretical Question 2: Derive that formula for a matter dominated H(a), using the fact that only Omega_m is important."
   ]
  },
  {
   "cell_type": "code",
   "execution_count": 66,
   "metadata": {},
   "outputs": [],
   "source": [
    "a, ap, H0s, zp = sympy.symbols(\"a p H_{0s} z_p\")"
   ]
  },
  {
   "cell_type": "code",
   "execution_count": 67,
   "metadata": {},
   "outputs": [
    {
     "data": {
      "image/png": "[encoded data removed]",
      "text/latex": [
       "$\\displaystyle \\frac{2.0 \\left(1 - a^{0.5}\\right)}{H_{0s}}$"
      ],
      "text/plain": [
       "    ⎛     0.5⎞\n",
       "2.0⋅⎝1 - a   ⎠\n",
       "──────────────\n",
       "    H_{0s}    "
      ]
     },
     "execution_count": 67,
     "metadata": {},
     "output_type": "execute_result"
    }
   ],
   "source": [
    "r_a_sym = sympy.integrate(1/(ap**2 * H0s* ap**(-3/2)), (ap, a, 1))\n",
    "r_a_sym.simplify()"
   ]
  },
  {
   "cell_type": "code",
   "execution_count": 68,
   "metadata": {},
   "outputs": [
    {
     "data": {
      "image/png": "[encoded data removed]",
      "text/latex": [
       "$\\displaystyle \\frac{2.0 \\left(1 - \\left(\\frac{1}{z_{p} + 1}\\right)^{0.5}\\right)}{H_{0s}}$"
      ],
      "text/plain": [
       "    ⎛            0.5⎞\n",
       "    ⎜    ⎛  1   ⎞   ⎟\n",
       "2.0⋅⎜1 - ⎜──────⎟   ⎟\n",
       "    ⎝    ⎝zₚ + 1⎠   ⎠\n",
       "─────────────────────\n",
       "        H_{0s}       "
      ]
     },
     "execution_count": 68,
     "metadata": {},
     "output_type": "execute_result"
    }
   ],
   "source": [
    "r_a_sym.subs(a, 1/(1+zp)).simplify()"
   ]
  },
  {
   "cell_type": "markdown",
   "metadata": {},
   "source": [
    "Let's code this one up, since we know that $d_A = (1/(1+z)) r(z) $"
   ]
  },
  {
   "cell_type": "code",
   "execution_count": 69,
   "metadata": {},
   "outputs": [],
   "source": [
    "def d_A_sym(z, cosmo_pars=dict()):\n",
    "    H0, Oc, Ob, Or, Om, OL = cosmological_parameters(cosmo_pars)\n",
    "    da = (1/(1+z))* 2/(H0/clight) * (1-(1/(1+z))**0.5) \n",
    "    return da"
   ]
  },
  {
   "cell_type": "code",
   "execution_count": 70,
   "metadata": {},
   "outputs": [
    {
     "data": {
      "image/png": "[encoded data removed]",
      "text/latex": [
       "$\\displaystyle 646.6785082640083$"
      ],
      "text/plain": [
       "646.6785082640083"
      ]
     },
     "execution_count": 70,
     "metadata": {},
     "output_type": "execute_result"
    }
   ],
   "source": [
    "d_A_sym(0.2)"
   ]
  },
  {
   "cell_type": "markdown",
   "metadata": {},
   "source": [
    "### Let's comparte now to CAMB"
   ]
  },
  {
   "cell_type": "code",
   "execution_count": 71,
   "metadata": {},
   "outputs": [
    {
     "name": "stderr",
     "output_type": "stream",
     "text": [
      "findfont: Font family ['xkcd', 'xkcd Script', 'Humor Sans', 'Comic Neue', 'Comic Sans MS'] not found. Falling back to DejaVu Sans.\n",
      "findfont: Font family ['xkcd', 'xkcd Script', 'Humor Sans', 'Comic Neue', 'Comic Sans MS'] not found. Falling back to DejaVu Sans.\n",
      "findfont: Font family ['xkcd', 'xkcd Script', 'Humor Sans', 'Comic Neue', 'Comic Sans MS'] not found. Falling back to DejaVu Sans.\n",
      "findfont: Font family ['xkcd', 'xkcd Script', 'Humor Sans', 'Comic Neue', 'Comic Sans MS'] not found. Falling back to DejaVu Sans.\n"
     ]
    },
    {
     "data": {
      "image/png": "[encoded data removed]",
      "text/plain": [
       "<Figure size 720x576 with 1 Axes>"
      ]
     },
     "metadata": {},
     "output_type": "display_data"
    }
   ],
   "source": [
    "with plt.xkcd(randomness=0.7):\n",
    "\n",
    "    z_arr = np.linspace(0.,5, 100)\n",
    "    fig, ax = plt.subplots(1, 1, sharex='col', figsize=(10,8))  #all plots in the same row, share the y-axis.\n",
    "\n",
    "\n",
    "    ax.plot(z_arr, dA_camb, '-', label='CAMB $d_A(z)$', color='forestgreen', lw=3)  \n",
    "    ax.plot(z_arr, d_A_sym(z_arr), '-.', label='Matter Dominated $d_A(z)$', color='brown', lw=3)\n",
    "    ax.legend(fontsize=20)\n",
    "    ax.set_xlabel('redshift $z$', fontsize=22)   \n",
    "    ax.set_ylabel(r'$d_A(z)$ in Mpc', fontsize=22);"
   ]
  },
  {
   "cell_type": "markdown",
   "metadata": {},
   "source": [
    "#### We see that a Matter Dominated Universe, is not compatible with current Planck data.  We also can see that whatever is extra in energy, starts being important around redshift z=3."
   ]
  },
  {
   "cell_type": "markdown",
   "metadata": {},
   "source": [
    "Let's do this now interactively, using the `interact` function from `ipywidgets`:"
   ]
  },
  {
   "cell_type": "code",
   "execution_count": 72,
   "metadata": {},
   "outputs": [],
   "source": [
    "def interactive_class_dA(zarr, params=dict()):\n",
    "    # Create an instance of the CLASS wrapper\n",
    "    cosmo_2 = Class()\n",
    "    # Set the parameters to the cosmological code\n",
    "    cosmo_2.set(params)\n",
    "    cosmo_2.compute()\n",
    "    dA_class = np.array([cosmo_2.angular_distance(zi) for zi in zarr])\n",
    "    return dA_class"
   ]
  },
  {
   "cell_type": "code",
   "execution_count": 73,
   "metadata": {},
   "outputs": [
    {
     "data": {
      "image/png": "[encoded data removed]",
      "text/latex": [
       "$\\displaystyle \\left( 100\\right)$"
      ],
      "text/plain": [
       "(100,)"
      ]
     },
     "execution_count": 73,
     "metadata": {},
     "output_type": "execute_result"
    }
   ],
   "source": [
    "interactive_class_dA(z_arr).shape"
   ]
  },
  {
   "cell_type": "code",
   "execution_count": 74,
   "metadata": {},
   "outputs": [],
   "source": [
    "def interactive_distance_plot(Omegac_val, H0_val) :\n",
    "    z_arr = np.linspace(0.,5, 100)\n",
    "    params = {\n",
    "        'H0': H0_val,\n",
    "        'Omega_b': planck_18['Ob'],\n",
    "         'Omega_cdm': Omegac_val}\n",
    "    \n",
    "    dA_class = interactive_class_dA(z_arr, params)\n",
    "    dA_matter = d_A_sym(z_arr, params)\n",
    "    \n",
    "    fig, ax = plt.subplots(1, 1, sharex='col', figsize=(10,8))  #all plots in the same row, share the y-axis.\n",
    "\n",
    "    ax.plot(z_arr, dA_class, '-', label='CAMB $d_A(z)$', color='forestgreen', lw=3)  \n",
    "    ax.plot(z_arr, dA_matter, '-.', label='Matter Dominated $d_A(z)$', color='brown', lw=3)\n",
    "    ax.legend(fontsize=20)\n",
    "    ax.text(0.6,0.2, r\"$\\Omega_{c}=$\"+'{:.2f}'.format(Omegac_val), size=16, color='purple', transform=ax.transAxes)\n",
    "    ax.set_xlabel('redshift $z$', fontsize=22)   \n",
    "    ax.set_ylabel(r'$d_A(z)$ in Mpc', fontsize=22);"
   ]
  },
  {
   "cell_type": "code",
   "execution_count": 75,
   "metadata": {},
   "outputs": [
    {
     "data": {
      "application/vnd.jupyter.widget-view+json": {
       "model_id": "431a35c41ddd406885a2944e5cd2b347",
       "version_major": 2,
       "version_minor": 0
      },
      "text/plain": [
       "interactive(children=(FloatSlider(value=0.55, description='Omegac_val', max=0.97, min=0.15, step=0.05), IntSli…"
      ]
     },
     "metadata": {},
     "output_type": "display_data"
    },
    {
     "data": {
      "text/plain": [
       "<function __main__.interactive_distance_plot(Omegac_val, H0_val)>"
      ]
     },
     "execution_count": 75,
     "metadata": {},
     "output_type": "execute_result"
    }
   ],
   "source": [
    "interact(interactive_distance_plot, Omegac_val=(0.15, 0.97, 0.05), H0_val=(50,80, 5))"
   ]
  },
  {
   "cell_type": "markdown",
   "metadata": {},
   "source": [
    "# Testing against data"
   ]
  },
  {
   "cell_type": "markdown",
   "metadata": {},
   "source": [
    "Let's load some compiled data on the value of $H(z)/H_0$, which we compiled in this [paper](https://arxiv.org/abs/1805.00027). The data comes from Batyon Acoustic Oscillations, Cosmic Chronometers and Supernovae."
   ]
  },
  {
   "cell_type": "code",
   "execution_count": 76,
   "metadata": {},
   "outputs": [
    {
     "data": {
      "image/png": "[encoded data removed]",
      "text/latex": [
       "$\\displaystyle \\left( 33, \\  3\\right)$"
      ],
      "text/plain": [
       "(33, 3)"
      ]
     },
     "execution_count": 76,
     "metadata": {},
     "output_type": "execute_result"
    }
   ],
   "source": [
    "data_h_ofz=np.loadtxt('./materials/data-Ez-H0.txt')\n",
    "data_h_ofz.shape"
   ]
  },
  {
   "cell_type": "code",
   "execution_count": 77,
   "metadata": {},
   "outputs": [],
   "source": [
    "cosmo_2 = Class({\n",
    "        'H0': 72,\n",
    "        'Omega_b': planck_18['Ob'],\n",
    "         'Omega_cdm': 0.25})\n",
    "cosmo_2.set(params)\n",
    "cosmo_2.compute()"
   ]
  },
  {
   "cell_type": "markdown",
   "metadata": {},
   "source": [
    "#### Let's plot the cosmologies we defined above against this data:"
   ]
  },
  {
   "cell_type": "code",
   "execution_count": 78,
   "metadata": {},
   "outputs": [
    {
     "data": {
      "text/plain": [
       "<Figure size 432x288 with 0 Axes>"
      ]
     },
     "metadata": {},
     "output_type": "display_data"
    },
    {
     "data": {
      "image/png": "[encoded data removed]",
      "text/plain": [
       "<Figure size 720x576 with 1 Axes>"
      ]
     },
     "metadata": {
      "needs_background": "light"
     },
     "output_type": "display_data"
    }
   ],
   "source": [
    "fig = plt.figure()\n",
    "\n",
    "#z_arr = np.linspace(0.,10, 100)\n",
    "fig, ax = plt.subplots(1, 1, sharey='row', sharex='col', figsize=(10,8))  #all plots in the same row, share the y-axis.\n",
    "\n",
    "zdata = data_h_ofz[:,0]\n",
    "\n",
    "H_class_z = (np.array([cosmo_2.Hubble(zz) *clight for zz in zdata]))/(100*cosmo_2.h())\n",
    "# once you specify an axis, it is in this instance where plots are performed\n",
    "#ax.semilogx(z_arr, Hubble(z_arr), '-', label='Planck', color='orange', lw=3)  \n",
    "ax.plot(zdata, results.hubble_parameter(zdata)/results.hubble_parameter(0.), '-.', label='CAMB', color='purple', lw=3)\n",
    "ax.plot(zdata, H_class_z, ':', label='CLASS cosmo2', color='indianred', lw=3)\n",
    "ax.legend(fontsize=26)\n",
    "ax.set_xlim(0.,3.)\n",
    "#ax.set_ylim(1.0,2000)\n",
    "ax.set_xlabel('redshift $z$', fontsize=26)   \n",
    "ax.set_ylabel(r' $H(z)$ in km/s/Mpc', fontsize=26);\n",
    "ax.errorbar(data_h_ofz[:,0], data_h_ofz[:,1], data_h_ofz[:,2], fmt='o', color='black', ecolor='black', capsize=2);"
   ]
  },
  {
   "cell_type": "markdown",
   "metadata": {},
   "source": [
    "We see that both cosmologies are compatible with the data, at least by eye, since the error bars are quite large."
   ]
  },
  {
   "cell_type": "markdown",
   "metadata": {},
   "source": [
    "## Integrate and compare data for the angular diameter distance"
   ]
  },
  {
   "cell_type": "markdown",
   "metadata": {},
   "source": [
    "Here we implement the integral above, but now for the data points."
   ]
  },
  {
   "cell_type": "code",
   "execution_count": 79,
   "metadata": {},
   "outputs": [],
   "source": [
    "h0, *a = cosmological_parameters({'H0':22})"
   ]
  },
  {
   "cell_type": "code",
   "execution_count": 80,
   "metadata": {},
   "outputs": [
    {
     "data": {
      "image/png": "[encoded data removed]",
      "text/latex": [
       "$\\displaystyle 22$"
      ],
      "text/plain": [
       "22"
      ]
     },
     "execution_count": 80,
     "metadata": {},
     "output_type": "execute_result"
    }
   ],
   "source": [
    "h0"
   ]
  },
  {
   "cell_type": "code",
   "execution_count": 81,
   "metadata": {},
   "outputs": [],
   "source": [
    "from scipy import integrate\n",
    "def data_drdz(zc, e_data, cosmo_pars=dict()):  #accepting the {z, E(z)} data\n",
    "    xx = e_data[:,0]\n",
    "    maxi = np.where(xx <= zc)[0][-1] + 1\n",
    "    #print(maxi)\n",
    "    xx = xx[:maxi]\n",
    "    h0, *others = cosmological_parameters(cosmo_pars)\n",
    "    yy = (clight/h0)*(1/e_data[:,1])\n",
    "    yy = yy[:maxi]\n",
    "    return xx, yy\n",
    "\n",
    "def data_comoving_distance(zc, e_data, cosmo_pars=dict()):  #remember the data we have is in E(z)\n",
    "    xx, yy = data_drdz(zc, e_data, cosmo_pars)\n",
    "    dc = integrate.simps(yy, xx)\n",
    "    return dc\n",
    "\n",
    "def data_angular_distance(zc, e_data, cosmo_pars=dict()):  #remember the data we have is in E(z)\n",
    "    dc = data_comoving_distance(zc, e_data, cosmo_pars=dict())\n",
    "    da = (1/(1+zc))*dc\n",
    "    return da   \n",
    "\n",
    "#this function can't be easily vectorized, because of np.where"
   ]
  },
  {
   "cell_type": "code",
   "execution_count": 82,
   "metadata": {},
   "outputs": [
    {
     "data": {
      "image/png": "[encoded data removed]",
      "text/latex": [
       "$\\displaystyle 1884.725251061843$"
      ],
      "text/plain": [
       "1884.725251061843"
      ]
     },
     "execution_count": 82,
     "metadata": {},
     "output_type": "execute_result"
    }
   ],
   "source": [
    "data_comoving_distance(0.5, data_h_ofz)"
   ]
  },
  {
   "cell_type": "code",
   "execution_count": 83,
   "metadata": {},
   "outputs": [
    {
     "data": {
      "text/plain": [
       "array([0.    , 0.07  , 0.09  , 0.12  , 0.17  , 0.199 , 0.27  , 0.28  ,\n",
       "       0.35  , 0.38  , 0.4   , 0.4247, 0.44  , 0.4783, 0.51  , 0.55  ,\n",
       "       0.593 , 0.61  , 0.68  , 0.73  , 0.781 , 0.875 , 0.9   , 1.037 ,\n",
       "       1.3   , 1.363 , 1.43  , 1.5   , 1.53  , 1.75  , 1.965 , 2.34  ,\n",
       "       2.36  ])"
      ]
     },
     "execution_count": 83,
     "metadata": {},
     "output_type": "execute_result"
    }
   ],
   "source": [
    "data_h_ofz[:,0]"
   ]
  },
  {
   "cell_type": "code",
   "execution_count": 84,
   "metadata": {},
   "outputs": [
    {
     "data": {
      "image/png": "[encoded data removed]",
      "text/latex": [
       "$\\displaystyle 1256.4835007078952$"
      ],
      "text/plain": [
       "1256.4835007078952"
      ]
     },
     "execution_count": 84,
     "metadata": {},
     "output_type": "execute_result"
    }
   ],
   "source": [
    "data_angular_distance(0.5, data_h_ofz)"
   ]
  },
  {
   "cell_type": "code",
   "execution_count": 85,
   "metadata": {},
   "outputs": [],
   "source": [
    "def interactive_distance_plot_data(Omegac_val, H0_val) :\n",
    "    z_arr = np.linspace(0.,3, 100)\n",
    "    params = {\n",
    "        'H0': H0_val,\n",
    "        'Omega_b': planck_18['Ob'],\n",
    "         'Omega_cdm': Omegac_val}\n",
    "    \n",
    "    dA_class = interactive_class_dA(z_arr, params)\n",
    "    dA_matter = d_A_sym(z_arr, params)\n",
    "    \n",
    "    dA_data = np.array([data_angular_distance(zdi, data_h_ofz) for zdi in data_h_ofz[:,0]])\n",
    "    \n",
    "    fig, ax = plt.subplots(1, 1, sharex='col', figsize=(10,8))  #all plots in the same row, share the y-axis.\n",
    "\n",
    "    ax.plot(z_arr, dA_class, '-', label='CAMB $d_A(z)$', color='forestgreen', lw=3)  \n",
    "    ax.plot(z_arr, dA_matter, '-.', label='Matter Dominated $d_A(z)$', color='brown', lw=3)\n",
    "    ax.plot(data_h_ofz[:,0], dA_data, ':', label='Data $d_A(z)$', color='dodgerblue', lw=3)\n",
    "    \n",
    "    ax.legend(fontsize=20)\n",
    "    ax.text(0.1,0.9, r\"$\\Omega_{c}=$\"+'{:.2f}'.format(Omegac_val), size=16, color='purple', transform=ax.transAxes)\n",
    "    ax.text(0.1,0.85, r\"$H_{0}=$\"+'{:.2f}'.format(H0_val), size=16, color='purple', transform=ax.transAxes)\n",
    "    ax.set_xlabel('redshift $z$', fontsize=22)   \n",
    "    ax.set_ylabel(r'$d_A(z)$ in Mpc', fontsize=22);"
   ]
  },
  {
   "cell_type": "code",
   "execution_count": 86,
   "metadata": {},
   "outputs": [
    {
     "data": {
      "application/vnd.jupyter.widget-view+json": {
       "model_id": "157c7d71274541c7825146874de947fb",
       "version_major": 2,
       "version_minor": 0
      },
      "text/plain": [
       "interactive(children=(FloatSlider(value=0.55, description='Omegac_val', max=0.97, min=0.15, step=0.05), IntSli…"
      ]
     },
     "metadata": {},
     "output_type": "display_data"
    },
    {
     "data": {
      "text/plain": [
       "<function __main__.interactive_distance_plot_data(Omegac_val, H0_val)>"
      ]
     },
     "execution_count": 86,
     "metadata": {},
     "output_type": "execute_result"
    }
   ],
   "source": [
    "interact(interactive_distance_plot_data, Omegac_val=(0.15, 0.97, 0.05), H0_val=(50,80, 5))"
   ]
  },
  {
   "cell_type": "markdown",
   "metadata": {},
   "source": [
    "## Exercise 2: "
   ]
  },
  {
   "cell_type": "markdown",
   "metadata": {},
   "source": [
    "Find the values of the cosmological parameters that best match the angular diameter distance data. "
   ]
  },
  {
   "cell_type": "markdown",
   "metadata": {},
   "source": [
    "This values are mostly from local Universe measurements. Do you find some tension with respect to the Planck $H_0$ value?"
   ]
  }
 ],
 "metadata": {
  "hide_input": false,
  "kernelspec": {
   "display_name": "Python 3",
   "language": "python",
   "name": "python3"
  },
  "language_info": {
   "codemirror_mode": {
    "name": "ipython",
    "version": 3
   },
   "file_extension": ".py",
   "mimetype": "text/x-python",
   "name": "python",
   "nbconvert_exporter": "python",
   "pygments_lexer": "ipython3",
   "version": "3.7.6"
  },
  "toc": {
   "base_numbering": 1,
   "nav_menu": {},
   "number_sections": true,
   "sideBar": true,
   "skip_h1_title": false,
   "title_cell": "Table of Contents",
   "title_sidebar": "Contents",
   "toc_cell": false,
   "toc_position": {},
   "toc_section_display": true,
   "toc_window_display": false
  }
 },
 "nbformat": 4,
 "nbformat_minor": 2
}

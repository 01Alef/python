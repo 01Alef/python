{
 "cells": [
  {
   "cell_type": "code",
   "execution_count": 1,
   "metadata": {},
   "outputs": [],
   "source": [
    "%matplotlib inline\n",
    "import sys, platform, os\n",
    "import matplotlib\n",
    "from matplotlib import pyplot as plt\n",
    "import numpy as np"
   ]
  },
  {
   "cell_type": "code",
   "execution_count": 2,
   "metadata": {},
   "outputs": [
    {
     "name": "stdout",
     "output_type": "stream",
     "text": [
      "Using CAMB 1.1.3 installed at /home/jovyan/.local/lib/python3.7/site-packages/camb\n"
     ]
    }
   ],
   "source": [
    "import camb as camb\n",
    "from camb import model, initialpower\n",
    "print('Using CAMB %s installed at %s'%(camb.__version__,os.path.dirname(camb.__file__)))"
   ]
  },
  {
   "cell_type": "code",
   "execution_count": 3,
   "metadata": {},
   "outputs": [
    {
     "name": "stdout",
     "output_type": "stream",
     "text": [
      "Using CLASS v2.9.3 installed at /opt/conda/lib/python3.7/site-packages\n"
     ]
    }
   ],
   "source": [
    "import classy as classy\n",
    "from classy import Class\n",
    "print('Using CLASS %s installed at %s'%(classy.__version__,os.path.dirname(classy.__file__)))"
   ]
  },
  {
   "cell_type": "code",
   "execution_count": 4,
   "metadata": {},
   "outputs": [],
   "source": [
    "from ipywidgets.widgets import *"
   ]
  },
  {
   "cell_type": "code",
   "execution_count": 5,
   "metadata": {},
   "outputs": [],
   "source": [
    "import sympy\n",
    "from sympy import cos, simplify, sin, sinh, tensorcontraction\n",
    "from einsteinpy.symbolic import EinsteinTensor, MetricTensor, RicciScalar\n",
    "sympy.init_printing()"
   ]
  },
  {
   "cell_type": "code",
   "execution_count": 6,
   "metadata": {},
   "outputs": [],
   "source": [
    "from IPython.display import Markdown, display"
   ]
  },
  {
   "cell_type": "code",
   "execution_count": 7,
   "metadata": {},
   "outputs": [],
   "source": [
    "def printmd(string, color='black', math=False, fmt='header2'):\n",
    "    if math==True:\n",
    "        mstring = string\n",
    "    elif math==False:\n",
    "        mstring=\"\\\\textrm{\"+string+\"}\"\n",
    "    #colorstr = \"<span style='color:{}'>{}</span>\".format(color, string)\n",
    "    fmtstr = \"${\\\\color{\"+color+\"}{\"+mstring+\"}}$\"\n",
    "    \n",
    "    if fmt=='header2':\n",
    "        fmtstr=\"## \"+fmtstr\n",
    "    if fmt=='header1':\n",
    "        fmtstr=\"# \"+fmtstr\n",
    "    display(Markdown(fmtstr))\n",
    "    return None"
   ]
  },
  {
   "cell_type": "markdown",
   "metadata": {},
   "source": [
    "# Cosmology"
   ]
  },
  {
   "cell_type": "markdown",
   "metadata": {},
   "source": [
    "# The Einstein part of the Einstein-Boltzmann codes"
   ]
  },
  {
   "cell_type": "markdown",
   "metadata": {},
   "source": [
    "Einstein-Boltzmann codes solve essentially the Boltzmann equation in a space-time that is given by Einstein's field equations of General Relativity."
   ]
  },
  {
   "cell_type": "markdown",
   "metadata": {},
   "source": [
    "We will see more about the Boltzmann equation in the next section, which is just an equation that describes the phase-space evolution (position and momenta) of particles."
   ]
  },
  {
   "cell_type": "markdown",
   "metadata": {},
   "source": [
    "On the other hand, General Relativty describes the interaction between the geometry of spacetime and the\n",
    "energy-momentum of matter."
   ]
  },
  {
   "cell_type": "markdown",
   "metadata": {},
   "source": [
    "$$ \\large\n",
    "\\begin{align}\\label{eq:Einstein-field-equations}\n",
    "G_{\\mu \\nu} +  \\Lambda g_{\\mu \\nu} = 8 \\pi G T_{\\mu \\nu} \n",
    "\\end{align}\n",
    "$$"
   ]
  },
  {
   "cell_type": "markdown",
   "metadata": {},
   "source": [
    "Einstein's field equations are basically a set of coupled partial differential equations of components of the metric $ \\large g_{\\mu \\nu}$. The metric defines the geometry of the space-time manifold."
   ]
  },
  {
   "cell_type": "markdown",
   "metadata": {},
   "source": [
    "On the left hand side we have the Einstein tensor $ G_{\\mu \\nu} \\equiv R_{\\mu \\nu} - \\frac{1}{2}g_{\\mu \\nu} R $ , where the Riemann tensor and Ricci scalar are complicated functions of the metric and its derivatives.\n",
    "Besides, we have $\\Lambda$, which is a free constant parameter allowed by the theory, but which we now think is responsible for the accelerated expansion of the Universe."
   ]
  },
  {
   "cell_type": "markdown",
   "metadata": {},
   "source": [
    "The right hand side, with the tensor $ T_{\\mu \\nu} $ describes the energy and momentum of matter, a fluid, particles or the object in question (for example a star)."
   ]
  },
  {
   "cell_type": "markdown",
   "metadata": {},
   "source": [
    "## General Relativity in 5min with EinsteinPy"
   ]
  },
  {
   "cell_type": "markdown",
   "metadata": {},
   "source": [
    "Let's calculate the behavior of the \"scale factor\" of the Universe, that the Einstein equations predict, for a homogeneous and isotropic Universe filled with a perfect fluid."
   ]
  },
  {
   "cell_type": "code",
   "execution_count": 72,
   "metadata": {},
   "outputs": [],
   "source": [
    "G_00, T_00, G, rho = sympy.symbols(\"G_{00} T_{00} G \\\\rho\")"
   ]
  },
  {
   "cell_type": "markdown",
   "metadata": {},
   "source": [
    "The 00-component of the Einstein tensor:"
   ]
  },
  {
   "cell_type": "code",
   "execution_count": 73,
   "metadata": {},
   "outputs": [
    {
     "data": {
      "image/png": "[encoded data removed]",
      "text/latex": [
       "$\\displaystyle G_{00} = 8 \\pi G T_{00}$"
      ],
      "text/plain": [
       "G_{00} = 8⋅π⋅G⋅T_{00}"
      ]
     },
     "execution_count": 73,
     "metadata": {},
     "output_type": "execute_result"
    }
   ],
   "source": [
    "einst_eq = sympy.Eq( G_00, 8 * sympy.pi * G * T_00 )\n",
    "einst_eq"
   ]
  },
  {
   "cell_type": "markdown",
   "metadata": {},
   "source": [
    "The energy-momentum tensor of a perfect fluid:"
   ]
  },
  {
   "cell_type": "code",
   "execution_count": 75,
   "metadata": {},
   "outputs": [
    {
     "data": {
      "image/png": "[encoded data removed]",
      "text/latex": [
       "$\\displaystyle T_{00} = \\rho$"
      ],
      "text/plain": [
       "T_{00} = \\rho"
      ]
     },
     "execution_count": 75,
     "metadata": {},
     "output_type": "execute_result"
    }
   ],
   "source": [
    "energy_momentum = sympy.Eq(T_00, rho)\n",
    "energy_momentum"
   ]
  },
  {
   "cell_type": "code",
   "execution_count": 76,
   "metadata": {},
   "outputs": [],
   "source": [
    "syms = sympy.symbols(\"t x y z\")\n",
    "t, x, y, z = syms"
   ]
  },
  {
   "cell_type": "code",
   "execution_count": 77,
   "metadata": {},
   "outputs": [],
   "source": [
    "a = sympy.Function(\"a\")  ##scale factor"
   ]
  },
  {
   "cell_type": "markdown",
   "metadata": {},
   "source": [
    "The line element of a homogeneous and isotropic Universe with no curvature. The metric elements are the coefficients in front of the coordinates."
   ]
  },
  {
   "cell_type": "markdown",
   "metadata": {},
   "source": [
    "$$\n",
    "\\begin{align}\n",
    "ds^2 & = g_{\\mu \\nu} dx^\\mu dx^\\nu = -dt^2 + a^2 (t) (dx^2 + dy^2 + dz^2)  \n",
    "\\end{align}\n",
    "$$"
   ]
  },
  {
   "cell_type": "code",
   "execution_count": 80,
   "metadata": {},
   "outputs": [],
   "source": [
    "m = sympy.diag(-1, a(t)**2, a(t)**2, a(t)** 2).tolist()\n",
    "metric = MetricTensor(m, syms)"
   ]
  },
  {
   "cell_type": "code",
   "execution_count": 81,
   "metadata": {},
   "outputs": [
    {
     "data": {
      "image/png": "[encoded data removed]",
      "text/latex": [
       "$\\displaystyle \\left[\\begin{matrix}-1 & 0 & 0 & 0\\\\0 & a^{2}{\\left(t \\right)} & 0 & 0\\\\0 & 0 & a^{2}{\\left(t \\right)} & 0\\\\0 & 0 & 0 & a^{2}{\\left(t \\right)}\\end{matrix}\\right]$"
      ],
      "text/plain": [
       "⎡-1    0      0      0  ⎤\n",
       "⎢                       ⎥\n",
       "⎢     2                 ⎥\n",
       "⎢0   a (t)    0      0  ⎥\n",
       "⎢                       ⎥\n",
       "⎢            2          ⎥\n",
       "⎢0     0    a (t)    0  ⎥\n",
       "⎢                       ⎥\n",
       "⎢                   2   ⎥\n",
       "⎣0     0      0    a (t)⎦"
      ]
     },
     "execution_count": 81,
     "metadata": {},
     "output_type": "execute_result"
    }
   ],
   "source": [
    "metric.tensor()"
   ]
  },
  {
   "cell_type": "code",
   "execution_count": 82,
   "metadata": {},
   "outputs": [
    {
     "data": {
      "image/png": "[encoded data removed]",
      "text/latex": [
       "$\\displaystyle \\left[\\begin{matrix}\\frac{3.0 \\left(\\frac{d}{d t} a{\\left(t \\right)}\\right)^{2}}{a^{2}{\\left(t \\right)}} & 0 & 0 & 0\\\\0 & - 2.0 a{\\left(t \\right)} \\frac{d^{2}}{d t^{2}} a{\\left(t \\right)} - 1.0 \\left(\\frac{d}{d t} a{\\left(t \\right)}\\right)^{2} & 0 & 0\\\\0 & 0 & - 2.0 a{\\left(t \\right)} \\frac{d^{2}}{d t^{2}} a{\\left(t \\right)} - 1.0 \\left(\\frac{d}{d t} a{\\left(t \\right)}\\right)^{2} & 0\\\\0 & 0 & 0 & - 2.0 a{\\left(t \\right)} \\frac{d^{2}}{d t^{2}} a{\\left(t \\right)} - 1.0 \\left(\\frac{d}{d t} a{\\left(t \\right)}\\right)^{2}\\end{matrix}\\right]$"
      ],
      "text/plain": [
       "⎡              2                                                              \n",
       "⎢    ⎛d       ⎞                                                               \n",
       "⎢3.0⋅⎜──(a(t))⎟                                                               \n",
       "⎢    ⎝dt      ⎠                                                               \n",
       "⎢───────────────                    0                                       0 \n",
       "⎢      2                                                                      \n",
       "⎢     a (t)                                                                   \n",
       "⎢                                                                             \n",
       "⎢                              2                       2                      \n",
       "⎢                             d              ⎛d       ⎞                       \n",
       "⎢       0         - 2.0⋅a(t)⋅───(a(t)) - 1.0⋅⎜──(a(t))⎟                     0 \n",
       "⎢                              2             ⎝dt      ⎠                       \n",
       "⎢                            dt                                               \n",
       "⎢                                                                             \n",
       "⎢                                                                      2      \n",
       "⎢                                                                     d       \n",
       "⎢       0                           0                     - 2.0⋅a(t)⋅───(a(t))\n",
       "⎢                                                                      2      \n",
       "⎢                                                                    dt       \n",
       "⎢                                                                             \n",
       "⎢                                                                             \n",
       "⎢                                                                             \n",
       "⎢       0                           0                                       0 \n",
       "⎢                                                                             \n",
       "⎣                                                                             \n",
       "\n",
       "                                                          ⎤\n",
       "                                                          ⎥\n",
       "                                                          ⎥\n",
       "                                                          ⎥\n",
       "                                      0                   ⎥\n",
       "                                                          ⎥\n",
       "                                                          ⎥\n",
       "                                                          ⎥\n",
       "                                                          ⎥\n",
       "                                                          ⎥\n",
       "                                      0                   ⎥\n",
       "                                                          ⎥\n",
       "                                                          ⎥\n",
       "                                                          ⎥\n",
       "                 2                                        ⎥\n",
       "       ⎛d       ⎞                                         ⎥\n",
       " - 1.0⋅⎜──(a(t))⎟                     0                   ⎥\n",
       "       ⎝dt      ⎠                                         ⎥\n",
       "                                                          ⎥\n",
       "                                                          ⎥\n",
       "                                 2                       2⎥\n",
       "                                d              ⎛d       ⎞ ⎥\n",
       "                    - 2.0⋅a(t)⋅───(a(t)) - 1.0⋅⎜──(a(t))⎟ ⎥\n",
       "                                 2             ⎝dt      ⎠ ⎥\n",
       "                               dt                         ⎦"
      ]
     },
     "execution_count": 82,
     "metadata": {},
     "output_type": "execute_result"
    }
   ],
   "source": [
    "einst = EinsteinTensor.from_metric(metric)\n",
    "einst.simplify()"
   ]
  },
  {
   "cell_type": "code",
   "execution_count": 16,
   "metadata": {},
   "outputs": [],
   "source": [
    "H = sympy.symbols(\"H\")"
   ]
  },
  {
   "cell_type": "markdown",
   "metadata": {},
   "source": [
    "Let's define a new function, that we will cull the **Hubble** function and it will be the relative \"velocity\" of expansion of $a(t)$:\n",
    "\n",
    "$$ \\large\n",
    "\\begin{align}\n",
    "H(t) & = \\frac{\\dot a }{ a} \\\\\n",
    "\\end{align}\n",
    "$$"
   ]
  },
  {
   "cell_type": "code",
   "execution_count": 67,
   "metadata": {},
   "outputs": [
    {
     "data": {
      "image/png": "[encoded data removed]",
      "text/latex": [
       "$\\displaystyle H = \\frac{\\frac{d}{d t} a{\\left(t \\right)}}{a{\\left(t \\right)}}$"
      ],
      "text/plain": [
       "    d       \n",
       "    ──(a(t))\n",
       "    dt      \n",
       "H = ────────\n",
       "      a(t)  "
      ]
     },
     "execution_count": 67,
     "metadata": {},
     "output_type": "execute_result"
    }
   ],
   "source": [
    "sympy.Eq( H, sympy.Derivative(a(t), t)/a(t) )"
   ]
  },
  {
   "cell_type": "code",
   "execution_count": 68,
   "metadata": {},
   "outputs": [
    {
     "data": {
      "image/png": "[encoded data removed]",
      "text/latex": [
       "$\\displaystyle 3.0 H^{2}$"
      ],
      "text/plain": [
       "     2\n",
       "3.0⋅H "
      ]
     },
     "execution_count": 68,
     "metadata": {},
     "output_type": "execute_result"
    }
   ],
   "source": [
    "G_00s = einst[0,0]\n",
    "G_00s = G_00s.subs(sympy.Derivative(a(t), t)/a(t), H)\n",
    "G_00s"
   ]
  },
  {
   "cell_type": "code",
   "execution_count": 69,
   "metadata": {},
   "outputs": [
    {
     "data": {
      "image/png": "[encoded data removed]",
      "text/latex": [
       "$\\displaystyle 3.0 H^{2} = 8 \\pi G \\rho$"
      ],
      "text/plain": [
       "     2             \n",
       "3.0⋅H  = 8⋅π⋅G⋅\\rho"
      ]
     },
     "execution_count": 69,
     "metadata": {},
     "output_type": "execute_result"
    }
   ],
   "source": [
    "einst_eq.subs(G_00, G_00s).subs(T_00, rho)"
   ]
  },
  {
   "cell_type": "markdown",
   "metadata": {},
   "source": [
    "If we now define $\\rho_{cr} \\equiv 3 H^2_0/8 \\pi G$, so that when dividing both sides by $H_0$ we get the famous Hubble equation:"
   ]
  },
  {
   "cell_type": "markdown",
   "metadata": {},
   "source": [
    "$$ \\large\n",
    "\\begin{align}\n",
    "H^2(t) & = H^2_0 \\frac{\\rho(t) }{ \\rho_{cr}} \\\\\n",
    "\\end{align}\n",
    "$$\n",
    "\n",
    "If the Universe is composed of multiple species, like baryons, cold dark matter, radiation and so on, then \n",
    "$\\rho$ is a sum over all those components and we can define the energy density fractions $\\Omega$ as:\n",
    "\n",
    "$$ \\large\n",
    "\\begin{align}\n",
    "\\Omega_i(t) & = \\frac{\\rho(t) }{ \\rho_{cr}} \\\\\n",
    "\\end{align}\n",
    "$$\n",
    "\n",
    "Which simplifies the so-called Hubble equation to:\n",
    "$$ \\large\n",
    "\\begin{align}\n",
    "H^2(t) & = H^2_0 \\sum_i{\\Omega_i(t)}\n",
    "\\end{align}\n",
    "$$"
   ]
  },
  {
   "cell_type": "markdown",
   "metadata": {},
   "source": [
    "Due to the expansion of the Universe, there is a relation between the scale factor defined above $a$ and the redshift $z$, which measures the shift in the wavelengths of the light we receive from galaxies far away: \n",
    "$$ \\large a = \\frac{1}{1+z} $$"
   ]
  },
  {
   "cell_type": "markdown",
   "metadata": {},
   "source": [
    "## The Cosmic Pie"
   ]
  },
  {
   "cell_type": "markdown",
   "metadata": {},
   "source": [
    "Precision Cosmology deals with the determination of the cosmological parameters and the components of the Universe at a very high **precision**, using many combinations of experiments and independent observables at different scales and redshifts. Nowadays, we have determined the cosmological parameters with a precision of a few percent or better, thanks to experiments like [Planck](https://sci.esa.int/web/planck/-/60499-from-an-almost-perfect-universe-to-the-best-of-both-worlds)."
   ]
  },
  {
   "cell_type": "markdown",
   "metadata": {},
   "source": [
    "<a> <img align=\"center\" width=\"600\" src=\"https://sci.esa.int/documents/34222/35279/1567217424471-Planck_Cosmic-recipe-pie-chart_625.jpg\" alt=\"Cosmic Pie\"></a>"
   ]
  },
  {
   "cell_type": "markdown",
   "metadata": {},
   "source": [
    "If we know the energy and matter components of the Universe today:\n",
    "   * Cold Dark Matter density $\\Omega_c$,  which decays like $a^{-3}$\n",
    "   * Baryonic (normal) matter density $\\Omega_b$, which decays like $a^{-3}$\n",
    "   * Radiation density $\\Omega_r$, which decays like $a^{-4}$\n",
    "   * The Cosmological Constant density $\\Omega_{\\Lambda}$, which does not decay because it's a constant.\n",
    "   \n",
    "Then we can write down the Hubble function as:\n",
    "\n",
    "$$ \\large H(z) = H_0  \\sqrt{(\\Omega_c(1+z)^3 + \\Omega_b(1+z)^3 + \\Omega_r(1+z)^4 + \\Omega_{\\Lambda}}$$"
   ]
  },
  {
   "cell_type": "markdown",
   "metadata": {},
   "source": [
    "$H_0$ is the Hubble parameter today and represents the rate of expansion of the Universe at $z=0$ and it is measured in **km/s/Mpc**. Its value can be inferred in many ways, from the Cosmic Microwave Background, from Gravitational Lensing or by measuring the distance to Supernovae. Currently it is a <a href=\"https://astrobites.org/2019/07/12/h0ly-cow-a-new-measurement-of-the-hubble-constant/\" target=\"_blank\" >hot topic</a> in cosmology, since there are *strong tensions* in measurements from different probes.\n",
    "A value of $70$ km/s/Mpc, means that a galaxy at a distance of $1$Mpc from us, recedes away from us at a speed of $70$km/s."
   ]
  },
  {
   "cell_type": "markdown",
   "metadata": {},
   "source": [
    "## Parameters from Planck 2018"
   ]
  },
  {
   "cell_type": "markdown",
   "metadata": {},
   "source": [
    "From the [2018 Cosmological parameters](https://arxiv.org/abs/1807.06209) paper, Table 1, first column."
   ]
  },
  {
   "cell_type": "markdown",
   "metadata": {},
   "source": [
    "Let's create a Planck 2018 parameters dictionary:"
   ]
  },
  {
   "cell_type": "code",
   "execution_count": 20,
   "metadata": {},
   "outputs": [],
   "source": [
    "planck_18 = dict()"
   ]
  },
  {
   "cell_type": "code",
   "execution_count": 21,
   "metadata": {},
   "outputs": [],
   "source": [
    "planck_18['ombh2'] = 0.02238   ## Omega_b * h**2\n",
    "planck_18['omch2'] = 0.12011  ## Omega_c * h**2\n",
    "planck_18['ln1010As'] = 3.0448  ## ln(10**10 * As), scalar amplitude\n",
    "planck_18['ns'] = 0.96605       ## spectral index\n",
    "planck_18['ommh2'] = 0.14314    ##   Omega_m * h**2   , total matter\n",
    "planck_18['H0'] = 67.32   ##   H0 = 100h\n",
    "planck_18['sigma8'] = 0.8120    ## amplitude of density fluctuations\n",
    "planck_18['tau'] = 0.0543      ## Optical depth\n",
    "planck_18['age_Gyr'] = 13.7971   ## Age of the Universe"
   ]
  },
  {
   "cell_type": "markdown",
   "metadata": {},
   "source": [
    "And let's compute some \"derived\" parameters:"
   ]
  },
  {
   "cell_type": "code",
   "execution_count": 22,
   "metadata": {},
   "outputs": [],
   "source": [
    "planck_18['h'] = planck_18['H0']/100\n",
    "planck_18['Om'] = planck_18['ommh2']/planck_18['h']**2\n",
    "planck_18['Ob'] = planck_18['ombh2']/planck_18['h']**2\n",
    "planck_18['Oc'] = planck_18['omch2']/planck_18['h']**2\n",
    "planck_18['As'] = np.exp(planck_18['ln1010As'])/np.power(10,10)    ## As, scalar amplitude"
   ]
  },
  {
   "cell_type": "code",
   "execution_count": 23,
   "metadata": {},
   "outputs": [
    {
     "data": {
      "image/png": "[encoded data removed]",
      "text/latex": [
       "$\\displaystyle 2.1005829616811546e-09$"
      ],
      "text/plain": [
       "2.1005829616811546e-09"
      ]
     },
     "execution_count": 23,
     "metadata": {},
     "output_type": "execute_result"
    }
   ],
   "source": [
    "planck_18['As']"
   ]
  },
  {
   "cell_type": "code",
   "execution_count": 24,
   "metadata": {},
   "outputs": [],
   "source": [
    "planck_18['Or'] = 0.0000930479 \n",
    "## Omega_radiation, more difficult to obtain since it depends on CMB Temperature and number of relativistic species"
   ]
  },
  {
   "cell_type": "markdown",
   "metadata": {},
   "source": [
    "In a flat Universe, where the total density equals the critical density (defined above) the sum of all the energy density fractions should be 1, therefore the $\\Omega_{\\Lambda}$ dark energy parameter, is simply whatever it's left:\n",
    "  $$ \\Omega_{\\Lambda}   = 1 - \\Omega_c - \\Omega_b - \\Omega_r $$"
   ]
  },
  {
   "cell_type": "markdown",
   "metadata": {},
   "source": [
    "Let's see what we get for **Planck**:"
   ]
  },
  {
   "cell_type": "code",
   "execution_count": 25,
   "metadata": {},
   "outputs": [
    {
     "data": {
      "image/png": "[encoded data removed]",
      "text/latex": [
       "$\\displaystyle 0.6854970814879693$"
      ],
      "text/plain": [
       "0.6854970814879693"
      ]
     },
     "execution_count": 25,
     "metadata": {},
     "output_type": "execute_result"
    }
   ],
   "source": [
    "planck_18['Ol'] = 1-np.array([planck_18[oo] for oo in ['Oc','Ob','Or']]).sum()  ## Ol = Omega_Lambda\n",
    "planck_18['Ol']"
   ]
  },
  {
   "cell_type": "markdown",
   "metadata": {},
   "source": [
    "## Let's code our own Hubble function"
   ]
  },
  {
   "cell_type": "markdown",
   "metadata": {},
   "source": [
    "First, let's code the relation between scale factor and redshift."
   ]
  },
  {
   "cell_type": "code",
   "execution_count": 26,
   "metadata": {},
   "outputs": [],
   "source": [
    "def a_of_z(z):\n",
    "    a=1/(1+z)\n",
    "    return a "
   ]
  },
  {
   "cell_type": "code",
   "execution_count": 28,
   "metadata": {},
   "outputs": [],
   "source": [
    "def Omega_L(Omega_c, Omega_b, Omega_r):\n",
    "    \"\"\"\n",
    "    Function for Omega_Lambda, dark energy.\n",
    "    \n",
    "    For a flat Universe:\n",
    "        Omega_Lambda = 1-Omega_c-Omega_b-Omega_r \n",
    "    \n",
    "    \"\"\"\n",
    "    oL = 1 - Omega_c - Omega_b - Omega_r\n",
    "    return oL"
   ]
  },
  {
   "cell_type": "code",
   "execution_count": 31,
   "metadata": {},
   "outputs": [],
   "source": [
    "def cosmological_parameters(cosmo_pars=dict()):\n",
    "    H0 = cosmo_pars.get('H0', planck_18['H0'])  # Planck 2018 cosmological parameters as default\n",
    "    Oc = cosmo_pars.get('Oc', planck_18['Oc'])\n",
    "    Ob = cosmo_pars.get('Ob', planck_18['Ob'])\n",
    "    Or = cosmo_pars.get('Or', planck_18['Or'])\n",
    "    Om = Ob+Oc\n",
    "    OL = Omega_L(Oc, Ob, Or)\n",
    "    return H0, Oc, Ob, Or, Om, OL"
   ]
  },
  {
   "cell_type": "markdown",
   "metadata": {},
   "source": [
    "Let's test it for the default parameters:"
   ]
  },
  {
   "cell_type": "code",
   "execution_count": 33,
   "metadata": {},
   "outputs": [
    {
     "data": {
      "image/png": "[encoded data removed]",
      "text/latex": [
       "$\\displaystyle \\left( 67.32, \\  0.26502750760903226, \\  0.04938236300299844, \\  9.30479e-05, \\  0.3144098706120307, \\  0.6854970814879693\\right)$"
      ],
      "text/plain": [
       "(67.32, 0.26502750760903226, 0.04938236300299844, 9.30479e-05, 0.3144098706120\n",
       "307, 0.6854970814879693)"
      ]
     },
     "execution_count": 33,
     "metadata": {},
     "output_type": "execute_result"
    }
   ],
   "source": [
    "cosmological_parameters()"
   ]
  },
  {
   "cell_type": "markdown",
   "metadata": {},
   "source": [
    "Let's change $H_0$ to the value obtained by local Universe measurements"
   ]
  },
  {
   "cell_type": "code",
   "execution_count": 35,
   "metadata": {},
   "outputs": [
    {
     "data": {
      "image/png": "[encoded data removed]",
      "text/latex": [
       "$\\displaystyle \\left( 72, \\  0.26502750760903226, \\  0.04938236300299844, \\  9.30479e-05, \\  0.3144098706120307, \\  0.6854970814879693\\right)$"
      ],
      "text/plain": [
       "(72, 0.26502750760903226, 0.04938236300299844, 9.30479e-05, 0.3144098706120307\n",
       ", 0.6854970814879693)"
      ]
     },
     "execution_count": 35,
     "metadata": {},
     "output_type": "execute_result"
    }
   ],
   "source": [
    "local_H0 = {'H0':72}\n",
    "cosmological_parameters(local_H0)"
   ]
  },
  {
   "cell_type": "markdown",
   "metadata": {},
   "source": [
    "Let's finally code the Hubble function"
   ]
  },
  {
   "cell_type": "code",
   "execution_count": 36,
   "metadata": {},
   "outputs": [],
   "source": [
    "def Hubble(z, cosmo_pars=dict()):\n",
    "    H0, Oc, Ob, Or, Om, OL = cosmological_parameters(cosmo_pars)\n",
    "    H = H0 * np.sqrt(Om*(1+z)**3 + Or*(1+z)**4 + OL)\n",
    "    return H"
   ]
  },
  {
   "cell_type": "markdown",
   "metadata": {},
   "source": [
    "Evaluating at redshift 0 brings nothing surprising:"
   ]
  },
  {
   "cell_type": "code",
   "execution_count": 45,
   "metadata": {},
   "outputs": [
    {
     "data": {
      "image/png": "[encoded data removed]",
      "text/latex": [
       "$\\displaystyle 67.32$"
      ],
      "text/plain": [
       "67.32"
      ]
     },
     "execution_count": 45,
     "metadata": {},
     "output_type": "execute_result"
    }
   ],
   "source": [
    "Hubble(0.)"
   ]
  },
  {
   "cell_type": "code",
   "execution_count": 46,
   "metadata": {},
   "outputs": [
    {
     "data": {
      "image/png": "[encoded data removed]",
      "text/latex": [
       "$\\displaystyle 72.0$"
      ],
      "text/plain": [
       "72.0"
      ]
     },
     "execution_count": 46,
     "metadata": {},
     "output_type": "execute_result"
    }
   ],
   "source": [
    "Hubble(0., local_H0)"
   ]
  },
  {
   "cell_type": "code",
   "execution_count": 47,
   "metadata": {},
   "outputs": [],
   "source": [
    "crazy_cosmo = {'H0': 75, \n",
    "          'Oc':0.40,\n",
    "          'Ob':0.06, \n",
    "           'Or':0.005}"
   ]
  },
  {
   "cell_type": "markdown",
   "metadata": {},
   "source": [
    "At higher redshifts, the differences becomes larger"
   ]
  },
  {
   "cell_type": "code",
   "execution_count": 123,
   "metadata": {},
   "outputs": [
    {
     "data": {
      "image/png": "[encoded data removed]",
      "text/plain": [
       "<Figure size 720x576 with 1 Axes>"
      ]
     },
     "metadata": {
      "needs_background": "light"
     },
     "output_type": "display_data"
    }
   ],
   "source": [
    "z_arr = np.linspace(0.,10, 100)\n",
    "fig, ax = plt.subplots(1, 1, sharey='row', sharex='col', figsize=(10,8))  #all plots in the same row, share the y-axis.\n",
    "\n",
    "# once you specify an axis, it is in this instance where plots are performed\n",
    "ax.semilogx(z_arr, Hubble(z_arr), '-', label='Planck', color='orange', lw=3)  \n",
    "ax.semilogx(z_arr, Hubble(z_arr, local_H0), '-.', label='Local', color='violet', lw=3)\n",
    "ax.semilogx(z_arr, Hubble(z_arr, crazy_cosmo), '-.', label='Crazy', color='forestgreen', lw=3)\n",
    "ax.legend(fontsize=26)\n",
    "ax.set_xlabel('redshift $z$', fontsize=26)   \n",
    "ax.set_ylabel(r'$H(z)$ in km/s/Mpc', fontsize=26);"
   ]
  },
  {
   "cell_type": "markdown",
   "metadata": {},
   "source": [
    "### Theoretical Question 1:"
   ]
  },
  {
   "cell_type": "markdown",
   "metadata": {},
   "source": [
    "If $H(z) \\approx C$ , with $C$ being a constant today and $H(t)  = {\\dot a }/{ a} $, what does that mean for the expansion behavior of the Universe?"
   ]
  },
  {
   "cell_type": "markdown",
   "metadata": {},
   "source": [
    "# Calculating the Background Cosmology with CAMB and CLASS"
   ]
  },
  {
   "cell_type": "markdown",
   "metadata": {},
   "source": [
    "# CAMB"
   ]
  },
  {
   "cell_type": "markdown",
   "metadata": {},
   "source": [
    "CAMB (https://camb.info/) is a code which has been developed for many years by Anthony Lewis and collaborators.\n",
    "It has been used extensively for the data analysis of Planck."
   ]
  },
  {
   "cell_type": "markdown",
   "metadata": {},
   "source": [
    "Its main source is written in `Fortran` and it was used like that for many years by many cosmologists, but the recently added python wrapper brings much more user-friendliness. \n",
    "Check here the documentation [CAMB Python](https://camb.readthedocs.io/en/latest/index.html)\n",
    "And [here](https://camb.info/doc/classes/_index.html) the tree structure of the underlying code."
   ]
  },
  {
   "cell_type": "code",
   "execution_count": 84,
   "metadata": {},
   "outputs": [],
   "source": [
    "#Set up a new set of parameters for CAMB\n",
    "pars = camb.CAMBparams()\n",
    "#This function sets up CosmoMC-like settings, with one massive neutrino and helium set using BBN consistency\n",
    "pars.set_cosmology(H0=planck_18['H0'], ombh2=planck_18['ombh2'], omch2=planck_18['omch2']);"
   ]
  },
  {
   "cell_type": "code",
   "execution_count": 89,
   "metadata": {},
   "outputs": [],
   "source": [
    "## If we evaluate pars, it shows us all the parameters that have been set to their default values.\n",
    "## print(pars)"
   ]
  },
  {
   "cell_type": "markdown",
   "metadata": {},
   "source": [
    "Let's calculate the results for those parameters"
   ]
  },
  {
   "cell_type": "code",
   "execution_count": 96,
   "metadata": {},
   "outputs": [],
   "source": [
    "results = camb.get_results(pars)\n",
    "results.calc_background(pars)"
   ]
  },
  {
   "cell_type": "markdown",
   "metadata": {},
   "source": [
    "We can get a dictionary of derived parameters"
   ]
  },
  {
   "cell_type": "code",
   "execution_count": 101,
   "metadata": {},
   "outputs": [
    {
     "data": {
      "text/plain": [
       "{'age': 13.797465544894264,\n",
       " 'zstar': 1089.913527354714,\n",
       " 'rstar': 144.39807261487093,\n",
       " 'thetastar': 1.0411035302987333,\n",
       " 'DAstar': 13.869713089286854,\n",
       " 'zdrag': 1059.9673057843763,\n",
       " 'rdrag': 147.05389004660253,\n",
       " 'kd': 0.1409146903853102,\n",
       " 'thetad': 0.16074079969674418,\n",
       " 'zeq': 3405.0735943489863,\n",
       " 'keq': 0.01039262329030193,\n",
       " 'thetaeq': 0.8128008522486668,\n",
       " 'thetarseq': 0.4491324452306274}"
      ]
     },
     "execution_count": 101,
     "metadata": {},
     "output_type": "execute_result"
    }
   ],
   "source": [
    "results.get_derived_params()"
   ]
  },
  {
   "cell_type": "markdown",
   "metadata": {},
   "source": [
    "Does it match the age we defined above for Planck18?"
   ]
  },
  {
   "cell_type": "code",
   "execution_count": 106,
   "metadata": {},
   "outputs": [
    {
     "data": {
      "image/png": "[encoded data removed]",
      "text/latex": [
       "$\\displaystyle 0.3655448942634365$"
      ],
      "text/plain": [
       "0.3655448942634365"
      ]
     },
     "execution_count": 106,
     "metadata": {},
     "output_type": "execute_result"
    }
   ],
   "source": [
    "(results.get_derived_params()['age'] - planck_18['age_Gyr'])*1000"
   ]
  },
  {
   "cell_type": "markdown",
   "metadata": {},
   "source": [
    "The difference is 'only' 0.36 million years, which is quite good, considering we left many parameters defined by default."
   ]
  },
  {
   "cell_type": "markdown",
   "metadata": {},
   "source": [
    "### Exercise 1:  What would be the age of the Universe in our crazy cosmology?"
   ]
  },
  {
   "cell_type": "markdown",
   "metadata": {},
   "source": [
    "Check other attributes and methods of `results` in the [documentation](https://camb.readthedocs.io/en/latest/results.html#)"
   ]
  },
  {
   "cell_type": "markdown",
   "metadata": {},
   "source": [
    "#### The Hubble function is obtained by evaluating:"
   ]
  },
  {
   "cell_type": "code",
   "execution_count": 112,
   "metadata": {},
   "outputs": [
    {
     "data": {
      "image/png": "[encoded data removed]",
      "text/latex": [
       "$\\displaystyle 67.31999999998676$"
      ],
      "text/plain": [
       "67.31999999998676"
      ]
     },
     "execution_count": 112,
     "metadata": {},
     "output_type": "execute_result"
    }
   ],
   "source": [
    "results.hubble_parameter(0.)"
   ]
  },
  {
   "cell_type": "markdown",
   "metadata": {},
   "source": [
    "Let's compare against our home-made $H(z)$"
   ]
  },
  {
   "cell_type": "code",
   "execution_count": 122,
   "metadata": {},
   "outputs": [
    {
     "data": {
      "image/png": "[encoded data removed]",
      "text/plain": [
       "<Figure size 720x576 with 1 Axes>"
      ]
     },
     "metadata": {
      "needs_background": "light"
     },
     "output_type": "display_data"
    }
   ],
   "source": [
    "z_arr = np.linspace(0.,10, 100)\n",
    "fig, ax = plt.subplots(1, 1, sharey='row', sharex='col', figsize=(10,8))  #all plots in the same row, share the y-axis.\n",
    "\n",
    "# once you specify an axis, it is in this instance where plots are performed\n",
    "ax.plot(z_arr, Hubble(z_arr), '-', label='Planck', color='orange', lw=3)  \n",
    "ax.plot(z_arr, results.hubble_parameter(z_arr), '-.', label='CAMB', color='purple', lw=3)\n",
    "ax.legend(fontsize=26)\n",
    "ax.set_xlabel('redshift $z$', fontsize=26)   \n",
    "ax.set_ylabel(r'$H(z)$ in km/s/Mpc', fontsize=26);"
   ]
  },
  {
   "cell_type": "markdown",
   "metadata": {},
   "source": [
    "Perfect agreement!\n",
    "Notice that in lin-lin space, the flatness of $H(z)$ for z tending to 0 is not so visible."
   ]
  },
  {
   "cell_type": "markdown",
   "metadata": {},
   "source": [
    "# CLASS"
   ]
  },
  {
   "cell_type": "markdown",
   "metadata": {},
   "source": [
    "[CLASS](https://lesgourg.github.io/class_public/class.html) is a more modern code, compared to CAMB, written by Julien Lesgourges and collaborators in `C` language for performance reasons.\n",
    "It has been also used extensively for the data analysis of many galaxy surveys.\n",
    "Check here the [documentation](https://lesgourg.github.io/class_public/class_public-2.9.0/doc/manual/html/index.html), the [Github repo](https://github.com/lesgourg/class_public) and\n",
    "many [hours of courses and learning material](https://lesgourg.github.io/courses.html)."
   ]
  },
  {
   "cell_type": "code",
   "execution_count": 125,
   "metadata": {},
   "outputs": [],
   "source": [
    "# Define your cosmology (what is not specified will be set to CLASS default parameters)\n",
    "params = {\n",
    "    'h': 0.6711,\n",
    "    'omega_b': 0.022068,\n",
    "    'omega_cdm': 0.12029}\n",
    "\n",
    "# Create an instance of the CLASS wrapper\n",
    "cosmo = Class()\n",
    "\n",
    "# Set the parameters to the cosmological code\n",
    "cosmo.set(params)\n",
    "\n",
    "cosmo.compute()\n"
   ]
  },
  {
   "cell_type": "code",
   "execution_count": 126,
   "metadata": {},
   "outputs": [],
   "source": [
    "# Print on screen to see the output\n",
    "#print(cls)\n",
    "# It is a dictionnary that contains the fields: tt, te, ee, bb, pp, tp\n",
    "\n",
    "# plot something with matplotlib...\n",
    "\n",
    "# Clean CLASS (the equivalent of the struct_free() in the `main`\n",
    "# of CLASS. This step is primordial when running in a loop over different\n",
    "# cosmologies, as you will saturate your memory very fast if you ommit\n",
    "# it.\n",
    "cosmo.struct_cleanup()\n",
    "\n",
    "# If you want to change completely the cosmology, you should also\n",
    "# clean the arguments, otherwise, if you are simply running on a loop\n",
    "# of different values for the same parameters, this step is not needed\n",
    "cosmo.empty()"
   ]
  },
  {
   "cell_type": "code",
   "execution_count": null,
   "metadata": {},
   "outputs": [],
   "source": []
  },
  {
   "cell_type": "code",
   "execution_count": null,
   "metadata": {},
   "outputs": [],
   "source": []
  },
  {
   "cell_type": "markdown",
   "metadata": {},
   "source": [
    "# Answer to exercises"
   ]
  },
  {
   "cell_type": "markdown",
   "metadata": {},
   "source": [
    "## Exercise 1:"
   ]
  },
  {
   "cell_type": "code",
   "execution_count": null,
   "metadata": {},
   "outputs": [],
   "source": [
    "pars_2 = camb.CAMBparams()\n",
    "pars_2.set_cosmology(H0=crazy_cosmo['H0'], ombh2=crazy_cosmo['Ob']*(crazy_cosmo['H0']/100)**2, \n",
    "                   omch2=crazy_cosmo['Oc']*(crazy_cosmo['H0']/100)**2);\n",
    "\n",
    "results_2 = camb.get_results(pars_2)\n",
    "results_2.calc_background(pars_2)\n",
    "results_2.get_derived_params()['age']"
   ]
  }
 ],
 "metadata": {
  "hide_input": false,
  "kernelspec": {
   "display_name": "Python 3",
   "language": "python",
   "name": "python3"
  },
  "language_info": {
   "codemirror_mode": {
    "name": "ipython",
    "version": 3
   },
   "file_extension": ".py",
   "mimetype": "text/x-python",
   "name": "python",
   "nbconvert_exporter": "python",
   "pygments_lexer": "ipython3",
   "version": "3.7.6"
  },
  "toc": {
   "base_numbering": 1,
   "nav_menu": {},
   "number_sections": true,
   "sideBar": true,
   "skip_h1_title": false,
   "title_cell": "Table of Contents",
   "title_sidebar": "Contents",
   "toc_cell": false,
   "toc_position": {},
   "toc_section_display": true,
   "toc_window_display": false
  }
 },
 "nbformat": 4,
 "nbformat_minor": 2
}
